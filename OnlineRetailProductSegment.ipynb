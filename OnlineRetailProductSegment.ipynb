{
 "cells": [
  {
   "cell_type": "markdown",
   "metadata": {},
   "source": [
    "# Predictive analytics for product segmentation in retail market using Deep Learning \n",
    "\n",
    "Segmentation is a technique used to identify and satisfy the needs of specific groups of customers with similar requirements within a market. Product segmentation provides a mechanism for a company to distribute the risk of selling a high-cost product across different target markets. Instead of having one product with one market and one supply-and-demand curve -- essentially putting all of the manufacturer's eggs in a single basket -- the manufacturer can sell sister models of the product at different prices to different market segments.\n",
    "\n",
    "This notebook contains the analysis of data(over a period of one year (from 2010/12/01 to 2011/12/09) from a Retail online business store(E-commerce database) , using Deep Learning, in Python & Tensorflow using Keras. The data is available at : https://archive.ics.uci.edu/ml/datasets/Online+Retail\n",
    "\n",
    "The task is to predict the category of the product to purchase based on various parameters."
   ]
  },
  {
   "cell_type": "markdown",
   "metadata": {},
   "source": [
    "Lets import the libraries."
   ]
  },
  {
   "cell_type": "code",
   "execution_count": 1,
   "metadata": {
    "collapsed": true
   },
   "outputs": [],
   "source": [
    "import pandas as pd\n",
    "import numpy as np\n",
    "import matplotlib.pyplot as plt\n",
    "import seaborn as sns\n",
    "import datetime, warnings\n",
    "warnings.filterwarnings(\"ignore\")\n",
    "from IPython.display import display, HTML\n",
    "from sklearn import preprocessing, model_selection, metrics, feature_selection\n",
    "%matplotlib inline"
   ]
  },
  {
   "cell_type": "markdown",
   "metadata": {},
   "source": [
    "Now read the dataset"
   ]
  },
  {
   "cell_type": "code",
   "execution_count": 2,
   "metadata": {
    "collapsed": true
   },
   "outputs": [],
   "source": [
    "# read the datafile\n",
    "df_read = pd.read_excel('OnlineRetail.xlsx',encoding=\"ISO-8859-1\", dtype={'CustomerID': str,'InvoiceNo': str})"
   ]
  },
  {
   "cell_type": "markdown",
   "metadata": {
    "collapsed": true
   },
   "source": [
    "Save a copy"
   ]
  },
  {
   "cell_type": "code",
   "execution_count": 3,
   "metadata": {
    "collapsed": true
   },
   "outputs": [],
   "source": [
    "df_initial= df_read"
   ]
  },
  {
   "cell_type": "code",
   "execution_count": 4,
   "metadata": {},
   "outputs": [
    {
     "name": "stdout",
     "output_type": "stream",
     "text": [
      "<class 'pandas.core.frame.DataFrame'>\n",
      "RangeIndex: 541909 entries, 0 to 541908\n",
      "Data columns (total 8 columns):\n",
      "InvoiceNo      541909 non-null object\n",
      "StockCode      541909 non-null object\n",
      "Description    540455 non-null object\n",
      "Quantity       541909 non-null int64\n",
      "InvoiceDate    541909 non-null datetime64[ns]\n",
      "UnitPrice      541909 non-null float64\n",
      "CustomerID     541909 non-null object\n",
      "Country        541909 non-null object\n",
      "dtypes: datetime64[ns](1), float64(1), int64(1), object(5)\n",
      "memory usage: 33.1+ MB\n"
     ]
    }
   ],
   "source": [
    "df_initial.info()"
   ]
  },
  {
   "cell_type": "code",
   "execution_count": 5,
   "metadata": {},
   "outputs": [
    {
     "data": {
      "text/html": [
       "<div>\n",
       "<style>\n",
       "    .dataframe thead tr:only-child th {\n",
       "        text-align: right;\n",
       "    }\n",
       "\n",
       "    .dataframe thead th {\n",
       "        text-align: left;\n",
       "    }\n",
       "\n",
       "    .dataframe tbody tr th {\n",
       "        vertical-align: top;\n",
       "    }\n",
       "</style>\n",
       "<table border=\"1\" class=\"dataframe\">\n",
       "  <thead>\n",
       "    <tr style=\"text-align: right;\">\n",
       "      <th></th>\n",
       "      <th>InvoiceNo</th>\n",
       "      <th>StockCode</th>\n",
       "      <th>Description</th>\n",
       "      <th>Quantity</th>\n",
       "      <th>InvoiceDate</th>\n",
       "      <th>UnitPrice</th>\n",
       "      <th>CustomerID</th>\n",
       "      <th>Country</th>\n",
       "    </tr>\n",
       "  </thead>\n",
       "  <tbody>\n",
       "    <tr>\n",
       "      <th>0</th>\n",
       "      <td>536365</td>\n",
       "      <td>85123A</td>\n",
       "      <td>WHITE HANGING HEART T-LIGHT HOLDER</td>\n",
       "      <td>6</td>\n",
       "      <td>2010-12-01 08:26:00</td>\n",
       "      <td>2.55</td>\n",
       "      <td>17850</td>\n",
       "      <td>United Kingdom</td>\n",
       "    </tr>\n",
       "    <tr>\n",
       "      <th>1</th>\n",
       "      <td>536365</td>\n",
       "      <td>71053</td>\n",
       "      <td>WHITE METAL LANTERN</td>\n",
       "      <td>6</td>\n",
       "      <td>2010-12-01 08:26:00</td>\n",
       "      <td>3.39</td>\n",
       "      <td>17850</td>\n",
       "      <td>United Kingdom</td>\n",
       "    </tr>\n",
       "    <tr>\n",
       "      <th>2</th>\n",
       "      <td>536365</td>\n",
       "      <td>84406B</td>\n",
       "      <td>CREAM CUPID HEARTS COAT HANGER</td>\n",
       "      <td>8</td>\n",
       "      <td>2010-12-01 08:26:00</td>\n",
       "      <td>2.75</td>\n",
       "      <td>17850</td>\n",
       "      <td>United Kingdom</td>\n",
       "    </tr>\n",
       "    <tr>\n",
       "      <th>3</th>\n",
       "      <td>536365</td>\n",
       "      <td>84029G</td>\n",
       "      <td>KNITTED UNION FLAG HOT WATER BOTTLE</td>\n",
       "      <td>6</td>\n",
       "      <td>2010-12-01 08:26:00</td>\n",
       "      <td>3.39</td>\n",
       "      <td>17850</td>\n",
       "      <td>United Kingdom</td>\n",
       "    </tr>\n",
       "    <tr>\n",
       "      <th>4</th>\n",
       "      <td>536365</td>\n",
       "      <td>84029E</td>\n",
       "      <td>RED WOOLLY HOTTIE WHITE HEART.</td>\n",
       "      <td>6</td>\n",
       "      <td>2010-12-01 08:26:00</td>\n",
       "      <td>3.39</td>\n",
       "      <td>17850</td>\n",
       "      <td>United Kingdom</td>\n",
       "    </tr>\n",
       "  </tbody>\n",
       "</table>\n",
       "</div>"
      ],
      "text/plain": [
       "  InvoiceNo StockCode                          Description  Quantity  \\\n",
       "0    536365    85123A   WHITE HANGING HEART T-LIGHT HOLDER         6   \n",
       "1    536365     71053                  WHITE METAL LANTERN         6   \n",
       "2    536365    84406B       CREAM CUPID HEARTS COAT HANGER         8   \n",
       "3    536365    84029G  KNITTED UNION FLAG HOT WATER BOTTLE         6   \n",
       "4    536365    84029E       RED WOOLLY HOTTIE WHITE HEART.         6   \n",
       "\n",
       "          InvoiceDate  UnitPrice CustomerID         Country  \n",
       "0 2010-12-01 08:26:00       2.55      17850  United Kingdom  \n",
       "1 2010-12-01 08:26:00       3.39      17850  United Kingdom  \n",
       "2 2010-12-01 08:26:00       2.75      17850  United Kingdom  \n",
       "3 2010-12-01 08:26:00       3.39      17850  United Kingdom  \n",
       "4 2010-12-01 08:26:00       3.39      17850  United Kingdom  "
      ]
     },
     "execution_count": 5,
     "metadata": {},
     "output_type": "execute_result"
    }
   ],
   "source": [
    "df_initial.head()"
   ]
  },
  {
   "cell_type": "markdown",
   "metadata": {},
   "source": [
    "Observe that the dataset has 0.5 million entries. Due to resource limitaion, we extract a random of 50,000 entries from the datset"
   ]
  },
  {
   "cell_type": "code",
   "execution_count": 6,
   "metadata": {
    "collapsed": true
   },
   "outputs": [],
   "source": [
    "np.random.seed(1)\n",
    "df_initial = df_initial.sample(frac=1).reset_index(drop=True)"
   ]
  },
  {
   "cell_type": "code",
   "execution_count": 7,
   "metadata": {
    "collapsed": true
   },
   "outputs": [],
   "source": [
    "df_initial= df_initial[:50000]"
   ]
  },
  {
   "cell_type": "markdown",
   "metadata": {},
   "source": [
    "Now lets print the null value indices"
   ]
  },
  {
   "cell_type": "code",
   "execution_count": 8,
   "metadata": {},
   "outputs": [
    {
     "data": {
      "text/html": [
       "<div>\n",
       "<style>\n",
       "    .dataframe thead tr:only-child th {\n",
       "        text-align: right;\n",
       "    }\n",
       "\n",
       "    .dataframe thead th {\n",
       "        text-align: left;\n",
       "    }\n",
       "\n",
       "    .dataframe tbody tr th {\n",
       "        vertical-align: top;\n",
       "    }\n",
       "</style>\n",
       "<table border=\"1\" class=\"dataframe\">\n",
       "  <thead>\n",
       "    <tr style=\"text-align: right;\">\n",
       "      <th></th>\n",
       "      <th>InvoiceNo</th>\n",
       "      <th>StockCode</th>\n",
       "      <th>Description</th>\n",
       "      <th>Quantity</th>\n",
       "      <th>InvoiceDate</th>\n",
       "      <th>UnitPrice</th>\n",
       "      <th>CustomerID</th>\n",
       "      <th>Country</th>\n",
       "    </tr>\n",
       "  </thead>\n",
       "  <tbody>\n",
       "    <tr>\n",
       "      <th>column dtype</th>\n",
       "      <td>object</td>\n",
       "      <td>object</td>\n",
       "      <td>object</td>\n",
       "      <td>int64</td>\n",
       "      <td>datetime64[ns]</td>\n",
       "      <td>float64</td>\n",
       "      <td>object</td>\n",
       "      <td>object</td>\n",
       "    </tr>\n",
       "    <tr>\n",
       "      <th>null values</th>\n",
       "      <td>0</td>\n",
       "      <td>0</td>\n",
       "      <td>132</td>\n",
       "      <td>0</td>\n",
       "      <td>0</td>\n",
       "      <td>0</td>\n",
       "      <td>0</td>\n",
       "      <td>0</td>\n",
       "    </tr>\n",
       "    <tr>\n",
       "      <th>null values (%)</th>\n",
       "      <td>0</td>\n",
       "      <td>0</td>\n",
       "      <td>0.264</td>\n",
       "      <td>0</td>\n",
       "      <td>0</td>\n",
       "      <td>0</td>\n",
       "      <td>0</td>\n",
       "      <td>0</td>\n",
       "    </tr>\n",
       "  </tbody>\n",
       "</table>\n",
       "</div>"
      ],
      "text/plain": [
       "                InvoiceNo StockCode Description Quantity     InvoiceDate  \\\n",
       "column dtype       object    object      object    int64  datetime64[ns]   \n",
       "null values             0         0         132        0               0   \n",
       "null values (%)         0         0       0.264        0               0   \n",
       "\n",
       "                UnitPrice CustomerID Country  \n",
       "column dtype      float64     object  object  \n",
       "null values             0          0       0  \n",
       "null values (%)         0          0       0  "
      ]
     },
     "metadata": {},
     "output_type": "display_data"
    }
   ],
   "source": [
    "# gives some infos on columns types and numer of null values\n",
    "tab_info = pd.DataFrame(df_initial.dtypes).T.rename(index={0:'column dtype'})\n",
    "tab_info = tab_info.append(pd.DataFrame(df_initial.isnull().sum()).T.rename(index = {0:'null values'}))\n",
    "tab_info = tab_info.append(pd.DataFrame(df_initial.isnull().sum()/df_initial.shape[0]*100).T.\n",
    "                         rename(index={0:'null values (%)'}))\n",
    "display(tab_info)"
   ]
  },
  {
   "cell_type": "markdown",
   "metadata": {},
   "source": [
    "The column `Description` has 26.4 % of null values. Lets drop all of them from the model."
   ]
  },
  {
   "cell_type": "code",
   "execution_count": 9,
   "metadata": {},
   "outputs": [
    {
     "name": "stdout",
     "output_type": "stream",
     "text": [
      "<class 'pandas.core.frame.DataFrame'>\n",
      "Int64Index: 49868 entries, 0 to 49999\n",
      "Data columns (total 8 columns):\n",
      "InvoiceNo      49868 non-null object\n",
      "StockCode      49868 non-null object\n",
      "Description    49868 non-null object\n",
      "Quantity       49868 non-null int64\n",
      "InvoiceDate    49868 non-null datetime64[ns]\n",
      "UnitPrice      49868 non-null float64\n",
      "CustomerID     49868 non-null object\n",
      "Country        49868 non-null object\n",
      "dtypes: datetime64[ns](1), float64(1), int64(1), object(5)\n",
      "memory usage: 3.4+ MB\n"
     ]
    }
   ],
   "source": [
    "df_initial.dropna(axis = 0,inplace = True)\n",
    "df_initial.info()"
   ]
  },
  {
   "cell_type": "code",
   "execution_count": 10,
   "metadata": {},
   "outputs": [
    {
     "data": {
      "text/html": [
       "<div>\n",
       "<style>\n",
       "    .dataframe thead tr:only-child th {\n",
       "        text-align: right;\n",
       "    }\n",
       "\n",
       "    .dataframe thead th {\n",
       "        text-align: left;\n",
       "    }\n",
       "\n",
       "    .dataframe tbody tr th {\n",
       "        vertical-align: top;\n",
       "    }\n",
       "</style>\n",
       "<table border=\"1\" class=\"dataframe\">\n",
       "  <thead>\n",
       "    <tr style=\"text-align: right;\">\n",
       "      <th></th>\n",
       "      <th>InvoiceNo</th>\n",
       "      <th>StockCode</th>\n",
       "      <th>Description</th>\n",
       "      <th>Quantity</th>\n",
       "      <th>InvoiceDate</th>\n",
       "      <th>UnitPrice</th>\n",
       "      <th>CustomerID</th>\n",
       "      <th>Country</th>\n",
       "    </tr>\n",
       "  </thead>\n",
       "  <tbody>\n",
       "    <tr>\n",
       "      <th>column dtype</th>\n",
       "      <td>object</td>\n",
       "      <td>object</td>\n",
       "      <td>object</td>\n",
       "      <td>int64</td>\n",
       "      <td>datetime64[ns]</td>\n",
       "      <td>float64</td>\n",
       "      <td>object</td>\n",
       "      <td>object</td>\n",
       "    </tr>\n",
       "    <tr>\n",
       "      <th>null values</th>\n",
       "      <td>0</td>\n",
       "      <td>0</td>\n",
       "      <td>0</td>\n",
       "      <td>0</td>\n",
       "      <td>0</td>\n",
       "      <td>0</td>\n",
       "      <td>0</td>\n",
       "      <td>0</td>\n",
       "    </tr>\n",
       "    <tr>\n",
       "      <th>null values (%)</th>\n",
       "      <td>0</td>\n",
       "      <td>0</td>\n",
       "      <td>0</td>\n",
       "      <td>0</td>\n",
       "      <td>0</td>\n",
       "      <td>0</td>\n",
       "      <td>0</td>\n",
       "      <td>0</td>\n",
       "    </tr>\n",
       "  </tbody>\n",
       "</table>\n",
       "</div>"
      ],
      "text/plain": [
       "                InvoiceNo StockCode Description Quantity     InvoiceDate  \\\n",
       "column dtype       object    object      object    int64  datetime64[ns]   \n",
       "null values             0         0           0        0               0   \n",
       "null values (%)         0         0           0        0               0   \n",
       "\n",
       "                UnitPrice CustomerID Country  \n",
       "column dtype      float64     object  object  \n",
       "null values             0          0       0  \n",
       "null values (%)         0          0       0  "
      ]
     },
     "metadata": {},
     "output_type": "display_data"
    }
   ],
   "source": [
    "# gives some infos on columns types and numer of null values\n",
    "tab_info = pd.DataFrame(df_initial.dtypes).T.rename(index={0:'column dtype'})\n",
    "tab_info = tab_info.append(pd.DataFrame(df_initial.isnull().sum()).T.rename(index = {0:'null values'}))\n",
    "tab_info = tab_info.append(pd.DataFrame(df_initial.isnull().sum()/df_initial.shape[0]*100).T.\n",
    "                         rename(index={0:'null values (%)'}))\n",
    "display(tab_info)"
   ]
  },
  {
   "cell_type": "markdown",
   "metadata": {},
   "source": [
    "Now that the null values are moved out, lets do the same with duplicates"
   ]
  },
  {
   "cell_type": "code",
   "execution_count": 11,
   "metadata": {},
   "outputs": [
    {
     "name": "stdout",
     "output_type": "stream",
     "text": [
      "Duplicate entries: 48\n"
     ]
    }
   ],
   "source": [
    "print('Duplicate entries: {}'.format(df_initial.duplicated().sum()))\n",
    "df_initial.drop_duplicates(inplace = True)"
   ]
  },
  {
   "cell_type": "code",
   "execution_count": 12,
   "metadata": {},
   "outputs": [
    {
     "name": "stdout",
     "output_type": "stream",
     "text": [
      "<class 'pandas.core.frame.DataFrame'>\n",
      "Int64Index: 49820 entries, 0 to 49999\n",
      "Data columns (total 8 columns):\n",
      "InvoiceNo      49820 non-null object\n",
      "StockCode      49820 non-null object\n",
      "Description    49820 non-null object\n",
      "Quantity       49820 non-null int64\n",
      "InvoiceDate    49820 non-null datetime64[ns]\n",
      "UnitPrice      49820 non-null float64\n",
      "CustomerID     49820 non-null object\n",
      "Country        49820 non-null object\n",
      "dtypes: datetime64[ns](1), float64(1), int64(1), object(5)\n",
      "memory usage: 3.4+ MB\n"
     ]
    }
   ],
   "source": [
    "df_initial.info()"
   ]
  },
  {
   "cell_type": "markdown",
   "metadata": {},
   "source": [
    "## Feature Analysis\n",
    "\n",
    "Lets now proceed to some feature analysis."
   ]
  },
  {
   "cell_type": "markdown",
   "metadata": {},
   "source": [
    "This dataframe contains 8 variables that correspond to:\n",
    "\n",
    "**InvoiceNo**: Invoice number. Nominal, a 6-digit integral number uniquely assigned to each transaction. If this code starts with letter 'c', it indicates a cancellation. \n",
    "\n",
    "**StockCode**: Product (item) code. Nominal, a 5-digit integral number uniquely assigned to each distinct product. \n",
    "\n",
    "**Description**: Product (item) name. Nominal. \n",
    "\n",
    "**Quantity**: The quantities of each product (item) per transaction. Numeric. \n",
    "\n",
    "**InvoiceDate**: Invice Date and time. Numeric, the day and time when each transaction was generated. \n",
    "\n",
    "**UnitPrice**: Unit price. Numeric, Product price per unit in sterling. \n",
    "\n",
    "**CustomerID**: Customer number. Nominal, a 5-digit integral number uniquely assigned to each customer. \n",
    "\n",
    "**Country**: Country name. Nominal, the name of the country where each customer resides."
   ]
  },
  {
   "cell_type": "markdown",
   "metadata": {},
   "source": [
    "### 2.1 Countries\n",
    "Here, Lets quickly look at the countries from which orders were made:"
   ]
  },
  {
   "cell_type": "code",
   "execution_count": 13,
   "metadata": {},
   "outputs": [
    {
     "name": "stdout",
     "output_type": "stream",
     "text": [
      "No. of countries in dataframe: 38\n"
     ]
    }
   ],
   "source": [
    "temp = df_initial.groupby(['Country'])\n",
    "countries = temp['Country'].value_counts()\n",
    "print('No. of countries in dataframe: {}'.format(len(countries)))"
   ]
  },
  {
   "cell_type": "code",
   "execution_count": 14,
   "metadata": {},
   "outputs": [
    {
     "data": {
      "image/png": "[encoded data removed]",
      "text/plain": [
       "<matplotlib.figure.Figure at 0x130497978>"
      ]
     },
     "metadata": {},
     "output_type": "display_data"
    }
   ],
   "source": [
    "# Plot Countries\n",
    "plt.style.use('ggplot')\n",
    "plt.figure(figsize= (10,10))\n",
    "plt.xlabel('Count')\n",
    "temp['Country'].value_counts().plot(kind = 'barh', grid = True)\n",
    "plt.show()"
   ]
  },
  {
   "cell_type": "markdown",
   "metadata": {},
   "source": [
    "We see that the dataset is largely dominated by orders made from the UK. So lets create two categories UK and Non_UK"
   ]
  },
  {
   "cell_type": "code",
   "execution_count": 15,
   "metadata": {
    "collapsed": true
   },
   "outputs": [],
   "source": [
    "Country_n = []\n",
    "for item in df_initial['Country']:\n",
    "    if item == 'United Kingdom' :\n",
    "        Country_n.append('UK')\n",
    "    else:\n",
    "        Country_n.append('Non_UK')\n",
    "df_initial['Country_n'] = Country_n"
   ]
  },
  {
   "cell_type": "markdown",
   "metadata": {},
   "source": [
    "### 2.2 Customers and orders"
   ]
  },
  {
   "cell_type": "code",
   "execution_count": 16,
   "metadata": {},
   "outputs": [
    {
     "data": {
      "text/html": [
       "<div>\n",
       "<style>\n",
       "    .dataframe thead tr:only-child th {\n",
       "        text-align: right;\n",
       "    }\n",
       "\n",
       "    .dataframe thead th {\n",
       "        text-align: left;\n",
       "    }\n",
       "\n",
       "    .dataframe tbody tr th {\n",
       "        vertical-align: top;\n",
       "    }\n",
       "</style>\n",
       "<table border=\"1\" class=\"dataframe\">\n",
       "  <thead>\n",
       "    <tr style=\"text-align: right;\">\n",
       "      <th></th>\n",
       "      <th>products</th>\n",
       "      <th>transactions</th>\n",
       "      <th>customers</th>\n",
       "    </tr>\n",
       "  </thead>\n",
       "  <tbody>\n",
       "    <tr>\n",
       "      <th>quantity</th>\n",
       "      <td>3261</td>\n",
       "      <td>14253</td>\n",
       "      <td>3731</td>\n",
       "    </tr>\n",
       "  </tbody>\n",
       "</table>\n",
       "</div>"
      ],
      "text/plain": [
       "          products  transactions  customers\n",
       "quantity      3261         14253       3731"
      ]
     },
     "execution_count": 16,
     "metadata": {},
     "output_type": "execute_result"
    }
   ],
   "source": [
    "pd.DataFrame([{'products': len(df_initial['StockCode'].value_counts()),    \n",
    "               'transactions': len(df_initial['InvoiceNo'].value_counts()),\n",
    "               'customers': len(df_initial['CustomerID'].value_counts()),  \n",
    "              }], columns = ['products', 'transactions', 'customers'], index = ['quantity'])"
   ]
  },
  {
   "cell_type": "markdown",
   "metadata": {},
   "source": [
    "It can be seen that the data concern 3731 users and that they bought 3261 different products. The total number of transactions carried out is of the order of  ∼∼ 14253"
   ]
  },
  {
   "cell_type": "markdown",
   "metadata": {},
   "source": [
    "#### Cancelling orders"
   ]
  },
  {
   "cell_type": "markdown",
   "metadata": {},
   "source": [
    "First of all, count the number of transactions corresponding to canceled orders, indicated by the letter C in `InvoiceNo` feature.This creates another variable `OrderCancelled`"
   ]
  },
  {
   "cell_type": "code",
   "execution_count": 19,
   "metadata": {
    "collapsed": true
   },
   "outputs": [],
   "source": [
    "OrderCanceled = []\n",
    "for item in df_initial['InvoiceNo']:\n",
    "    if 'C' in str(item):\n",
    "        OrderCanceled.append(1)\n",
    "    else:\n",
    "        OrderCanceled.append(0)\n",
    "df_initial['OrderCancelled'] = OrderCanceled "
   ]
  },
  {
   "cell_type": "code",
   "execution_count": 20,
   "metadata": {},
   "outputs": [
    {
     "data": {
      "text/plain": [
       "0.01718185467683661"
      ]
     },
     "execution_count": 20,
     "metadata": {},
     "output_type": "execute_result"
    }
   ],
   "source": [
    "(df_initial['OrderCancelled'] == 1).sum()/(df_initial['InvoiceNo'].shape[0])"
   ]
  },
  {
   "cell_type": "markdown",
   "metadata": {},
   "source": [
    "We note that the number of cancellations is small, ($\\sim$1.72% of the total number of transactions) as depicted in Figure."
   ]
  },
  {
   "cell_type": "code",
   "execution_count": 22,
   "metadata": {},
   "outputs": [
    {
     "data": {
      "image/png": "[encoded data removed]",
      "text/plain": [
       "<matplotlib.figure.Figure at 0x11f726c88>"
      ]
     },
     "metadata": {},
     "output_type": "display_data"
    }
   ],
   "source": [
    "plt.figure(figsize= (8,6))\n",
    "plt.xlabel('Count')\n",
    "df_initial['OrderCancelled'].value_counts().plot(kind = 'bar', grid = True)\n",
    "plt.show()"
   ]
  },
  {
   "cell_type": "code",
   "execution_count": 23,
   "metadata": {},
   "outputs": [
    {
     "data": {
      "text/html": [
       "<div>\n",
       "<style>\n",
       "    .dataframe thead tr:only-child th {\n",
       "        text-align: right;\n",
       "    }\n",
       "\n",
       "    .dataframe thead th {\n",
       "        text-align: left;\n",
       "    }\n",
       "\n",
       "    .dataframe tbody tr th {\n",
       "        vertical-align: top;\n",
       "    }\n",
       "</style>\n",
       "<table border=\"1\" class=\"dataframe\">\n",
       "  <thead>\n",
       "    <tr style=\"text-align: right;\">\n",
       "      <th></th>\n",
       "      <th>InvoiceNo</th>\n",
       "      <th>StockCode</th>\n",
       "      <th>Description</th>\n",
       "      <th>Quantity</th>\n",
       "      <th>InvoiceDate</th>\n",
       "      <th>UnitPrice</th>\n",
       "      <th>CustomerID</th>\n",
       "      <th>Country</th>\n",
       "      <th>Country_n</th>\n",
       "      <th>OrderCancelled</th>\n",
       "    </tr>\n",
       "  </thead>\n",
       "  <tbody>\n",
       "    <tr>\n",
       "      <th>0</th>\n",
       "      <td>C544414</td>\n",
       "      <td>22960</td>\n",
       "      <td>JAM MAKING SET WITH JARS</td>\n",
       "      <td>-2</td>\n",
       "      <td>2011-02-18 14:54:00</td>\n",
       "      <td>3.75</td>\n",
       "      <td>13408</td>\n",
       "      <td>United Kingdom</td>\n",
       "      <td>UK</td>\n",
       "      <td>1</td>\n",
       "    </tr>\n",
       "    <tr>\n",
       "      <th>1</th>\n",
       "      <td>555276</td>\n",
       "      <td>48111</td>\n",
       "      <td>DOORMAT 3 SMILEY CATS</td>\n",
       "      <td>1</td>\n",
       "      <td>2011-06-01 17:28:00</td>\n",
       "      <td>15.79</td>\n",
       "      <td>nan</td>\n",
       "      <td>United Kingdom</td>\n",
       "      <td>UK</td>\n",
       "      <td>0</td>\n",
       "    </tr>\n",
       "    <tr>\n",
       "      <th>2</th>\n",
       "      <td>575656</td>\n",
       "      <td>22952</td>\n",
       "      <td>60 CAKE CASES VINTAGE CHRISTMAS</td>\n",
       "      <td>48</td>\n",
       "      <td>2011-11-10 14:29:00</td>\n",
       "      <td>0.55</td>\n",
       "      <td>13319</td>\n",
       "      <td>United Kingdom</td>\n",
       "      <td>UK</td>\n",
       "      <td>0</td>\n",
       "    </tr>\n",
       "    <tr>\n",
       "      <th>3</th>\n",
       "      <td>571636</td>\n",
       "      <td>20674</td>\n",
       "      <td>GREEN POLKADOT BOWL</td>\n",
       "      <td>16</td>\n",
       "      <td>2011-10-18 11:41:00</td>\n",
       "      <td>1.25</td>\n",
       "      <td>13509</td>\n",
       "      <td>United Kingdom</td>\n",
       "      <td>UK</td>\n",
       "      <td>0</td>\n",
       "    </tr>\n",
       "    <tr>\n",
       "      <th>4</th>\n",
       "      <td>576657</td>\n",
       "      <td>22556</td>\n",
       "      <td>PLASTERS IN TIN CIRCUS PARADE</td>\n",
       "      <td>12</td>\n",
       "      <td>2011-11-16 11:03:00</td>\n",
       "      <td>1.65</td>\n",
       "      <td>12720</td>\n",
       "      <td>Germany</td>\n",
       "      <td>Non_UK</td>\n",
       "      <td>0</td>\n",
       "    </tr>\n",
       "  </tbody>\n",
       "</table>\n",
       "</div>"
      ],
      "text/plain": [
       "  InvoiceNo StockCode                      Description  Quantity  \\\n",
       "0   C544414     22960         JAM MAKING SET WITH JARS        -2   \n",
       "1    555276     48111            DOORMAT 3 SMILEY CATS         1   \n",
       "2    575656     22952  60 CAKE CASES VINTAGE CHRISTMAS        48   \n",
       "3    571636     20674              GREEN POLKADOT BOWL        16   \n",
       "4    576657     22556   PLASTERS IN TIN CIRCUS PARADE         12   \n",
       "\n",
       "          InvoiceDate  UnitPrice CustomerID         Country Country_n  \\\n",
       "0 2011-02-18 14:54:00       3.75      13408  United Kingdom        UK   \n",
       "1 2011-06-01 17:28:00      15.79        nan  United Kingdom        UK   \n",
       "2 2011-11-10 14:29:00       0.55      13319  United Kingdom        UK   \n",
       "3 2011-10-18 11:41:00       1.25      13509  United Kingdom        UK   \n",
       "4 2011-11-16 11:03:00       1.65      12720         Germany    Non_UK   \n",
       "\n",
       "   OrderCancelled  \n",
       "0               1  \n",
       "1               0  \n",
       "2               0  \n",
       "3               0  \n",
       "4               0  "
      ]
     },
     "execution_count": 23,
     "metadata": {},
     "output_type": "execute_result"
    }
   ],
   "source": [
    "df_initial.head()"
   ]
  },
  {
   "cell_type": "markdown",
   "metadata": {},
   "source": [
    "### 2.3 InvoiceDate variable"
   ]
  },
  {
   "cell_type": "markdown",
   "metadata": {},
   "source": [
    "Lets extract another variable, `Season_month` fro the `InvoiceDate` variable"
   ]
  },
  {
   "cell_type": "code",
   "execution_count": 25,
   "metadata": {
    "collapsed": true
   },
   "outputs": [],
   "source": [
    "df_initial['Season_month'] = df_initial['InvoiceDate'].map(lambda x: x.to_datetime().month)"
   ]
  },
  {
   "cell_type": "code",
   "execution_count": 26,
   "metadata": {},
   "outputs": [
    {
     "data": {
      "text/html": [
       "<div>\n",
       "<style>\n",
       "    .dataframe thead tr:only-child th {\n",
       "        text-align: right;\n",
       "    }\n",
       "\n",
       "    .dataframe thead th {\n",
       "        text-align: left;\n",
       "    }\n",
       "\n",
       "    .dataframe tbody tr th {\n",
       "        vertical-align: top;\n",
       "    }\n",
       "</style>\n",
       "<table border=\"1\" class=\"dataframe\">\n",
       "  <thead>\n",
       "    <tr style=\"text-align: right;\">\n",
       "      <th></th>\n",
       "      <th>InvoiceNo</th>\n",
       "      <th>StockCode</th>\n",
       "      <th>Description</th>\n",
       "      <th>Quantity</th>\n",
       "      <th>InvoiceDate</th>\n",
       "      <th>UnitPrice</th>\n",
       "      <th>CustomerID</th>\n",
       "      <th>Country</th>\n",
       "      <th>Country_n</th>\n",
       "      <th>OrderCancelled</th>\n",
       "      <th>Season_month</th>\n",
       "    </tr>\n",
       "  </thead>\n",
       "  <tbody>\n",
       "    <tr>\n",
       "      <th>0</th>\n",
       "      <td>C544414</td>\n",
       "      <td>22960</td>\n",
       "      <td>JAM MAKING SET WITH JARS</td>\n",
       "      <td>-2</td>\n",
       "      <td>2011-02-18 14:54:00</td>\n",
       "      <td>3.75</td>\n",
       "      <td>13408</td>\n",
       "      <td>United Kingdom</td>\n",
       "      <td>UK</td>\n",
       "      <td>1</td>\n",
       "      <td>2</td>\n",
       "    </tr>\n",
       "    <tr>\n",
       "      <th>1</th>\n",
       "      <td>555276</td>\n",
       "      <td>48111</td>\n",
       "      <td>DOORMAT 3 SMILEY CATS</td>\n",
       "      <td>1</td>\n",
       "      <td>2011-06-01 17:28:00</td>\n",
       "      <td>15.79</td>\n",
       "      <td>nan</td>\n",
       "      <td>United Kingdom</td>\n",
       "      <td>UK</td>\n",
       "      <td>0</td>\n",
       "      <td>6</td>\n",
       "    </tr>\n",
       "    <tr>\n",
       "      <th>2</th>\n",
       "      <td>575656</td>\n",
       "      <td>22952</td>\n",
       "      <td>60 CAKE CASES VINTAGE CHRISTMAS</td>\n",
       "      <td>48</td>\n",
       "      <td>2011-11-10 14:29:00</td>\n",
       "      <td>0.55</td>\n",
       "      <td>13319</td>\n",
       "      <td>United Kingdom</td>\n",
       "      <td>UK</td>\n",
       "      <td>0</td>\n",
       "      <td>11</td>\n",
       "    </tr>\n",
       "    <tr>\n",
       "      <th>3</th>\n",
       "      <td>571636</td>\n",
       "      <td>20674</td>\n",
       "      <td>GREEN POLKADOT BOWL</td>\n",
       "      <td>16</td>\n",
       "      <td>2011-10-18 11:41:00</td>\n",
       "      <td>1.25</td>\n",
       "      <td>13509</td>\n",
       "      <td>United Kingdom</td>\n",
       "      <td>UK</td>\n",
       "      <td>0</td>\n",
       "      <td>10</td>\n",
       "    </tr>\n",
       "    <tr>\n",
       "      <th>4</th>\n",
       "      <td>576657</td>\n",
       "      <td>22556</td>\n",
       "      <td>PLASTERS IN TIN CIRCUS PARADE</td>\n",
       "      <td>12</td>\n",
       "      <td>2011-11-16 11:03:00</td>\n",
       "      <td>1.65</td>\n",
       "      <td>12720</td>\n",
       "      <td>Germany</td>\n",
       "      <td>Non_UK</td>\n",
       "      <td>0</td>\n",
       "      <td>11</td>\n",
       "    </tr>\n",
       "  </tbody>\n",
       "</table>\n",
       "</div>"
      ],
      "text/plain": [
       "  InvoiceNo StockCode                      Description  Quantity  \\\n",
       "0   C544414     22960         JAM MAKING SET WITH JARS        -2   \n",
       "1    555276     48111            DOORMAT 3 SMILEY CATS         1   \n",
       "2    575656     22952  60 CAKE CASES VINTAGE CHRISTMAS        48   \n",
       "3    571636     20674              GREEN POLKADOT BOWL        16   \n",
       "4    576657     22556   PLASTERS IN TIN CIRCUS PARADE         12   \n",
       "\n",
       "          InvoiceDate  UnitPrice CustomerID         Country Country_n  \\\n",
       "0 2011-02-18 14:54:00       3.75      13408  United Kingdom        UK   \n",
       "1 2011-06-01 17:28:00      15.79        nan  United Kingdom        UK   \n",
       "2 2011-11-10 14:29:00       0.55      13319  United Kingdom        UK   \n",
       "3 2011-10-18 11:41:00       1.25      13509  United Kingdom        UK   \n",
       "4 2011-11-16 11:03:00       1.65      12720         Germany    Non_UK   \n",
       "\n",
       "   OrderCancelled  Season_month  \n",
       "0               1             2  \n",
       "1               0             6  \n",
       "2               0            11  \n",
       "3               0            10  \n",
       "4               0            11  "
      ]
     },
     "execution_count": 26,
     "metadata": {},
     "output_type": "execute_result"
    }
   ],
   "source": [
    "df_initial.head()"
   ]
  },
  {
   "cell_type": "code",
   "execution_count": 27,
   "metadata": {},
   "outputs": [
    {
     "data": {
      "image/png": "[encoded data removed]",
      "text/plain": [
       "<matplotlib.figure.Figure at 0x124f7f748>"
      ]
     },
     "metadata": {},
     "output_type": "display_data"
    }
   ],
   "source": [
    "plt.figure(figsize= (12,6))\n",
    "plt.xlabel('Count')\n",
    "df_initial['Season_month'].value_counts().plot(kind = 'barh', grid = True)\n",
    "plt.show()"
   ]
  },
  {
   "cell_type": "markdown",
   "metadata": {},
   "source": [
    "Now create four Quarter categories and put them in the variable `Quarter_y`"
   ]
  },
  {
   "cell_type": "code",
   "execution_count": 30,
   "metadata": {
    "collapsed": true
   },
   "outputs": [],
   "source": [
    "Quarter = []\n",
    "for item in df_initial['Season_month']:\n",
    "    if item < 4 :\n",
    "        Quarter.append('Q1')\n",
    "    elif item < 7:\n",
    "        Quarter.append('Q2')\n",
    "    elif item < 10:\n",
    "        Quarter.append('Q3')\n",
    "    else:\n",
    "        Quarter.append('Q4')"
   ]
  },
  {
   "cell_type": "code",
   "execution_count": 31,
   "metadata": {
    "collapsed": true
   },
   "outputs": [],
   "source": [
    "df_initial['Quarter_y'] = Quarter"
   ]
  },
  {
   "cell_type": "markdown",
   "metadata": {},
   "source": [
    "### 2.3 Creating Product Category variable"
   ]
  },
  {
   "cell_type": "markdown",
   "metadata": {},
   "source": [
    "Using the `StockCode` variable, lets create four product categories, counting the volume of sales."
   ]
  },
  {
   "cell_type": "code",
   "execution_count": 33,
   "metadata": {
    "collapsed": true
   },
   "outputs": [],
   "source": [
    "Counts = df_initial['StockCode'].value_counts().to_dict()"
   ]
  },
  {
   "cell_type": "code",
   "execution_count": 34,
   "metadata": {
    "collapsed": true
   },
   "outputs": [],
   "source": [
    "Categ1 = [];Categ2 = [];Categ3 = [];Categ4 = []\n",
    "for key,value in Counts.items():\n",
    "    if value < 25:\n",
    "        Categ4.append(str(key))\n",
    "    elif value <= 50:\n",
    "        Categ3.append(str(key))\n",
    "    elif value <= 200:\n",
    "        Categ2.append(str(key))\n",
    "    else :\n",
    "        Categ1.append(str(key))"
   ]
  },
  {
   "cell_type": "code",
   "execution_count": 35,
   "metadata": {
    "collapsed": true
   },
   "outputs": [],
   "source": [
    "Product_Categ = []\n",
    "for item in df_initial['StockCode']: \n",
    "    if item in Categ1:\n",
    "        Product_Categ.append(0)\n",
    "    elif item in Categ2:\n",
    "        Product_Categ.append(1)\n",
    "    elif item in Categ3:\n",
    "        Product_Categ.append(2)\n",
    "    else:\n",
    "        Product_Categ.append(3)"
   ]
  },
  {
   "cell_type": "code",
   "execution_count": 36,
   "metadata": {},
   "outputs": [
    {
     "data": {
      "text/plain": [
       "49820"
      ]
     },
     "execution_count": 36,
     "metadata": {},
     "output_type": "execute_result"
    }
   ],
   "source": [
    "len(Product_Categ)"
   ]
  },
  {
   "cell_type": "markdown",
   "metadata": {},
   "source": [
    "Now add the variable to the DataFrame."
   ]
  },
  {
   "cell_type": "code",
   "execution_count": 38,
   "metadata": {
    "collapsed": true
   },
   "outputs": [],
   "source": [
    "df_initial['Prod_Categ'] = Product_Categ"
   ]
  },
  {
   "cell_type": "code",
   "execution_count": 39,
   "metadata": {},
   "outputs": [
    {
     "data": {
      "text/html": [
       "<div>\n",
       "<style>\n",
       "    .dataframe thead tr:only-child th {\n",
       "        text-align: right;\n",
       "    }\n",
       "\n",
       "    .dataframe thead th {\n",
       "        text-align: left;\n",
       "    }\n",
       "\n",
       "    .dataframe tbody tr th {\n",
       "        vertical-align: top;\n",
       "    }\n",
       "</style>\n",
       "<table border=\"1\" class=\"dataframe\">\n",
       "  <thead>\n",
       "    <tr style=\"text-align: right;\">\n",
       "      <th></th>\n",
       "      <th>InvoiceNo</th>\n",
       "      <th>StockCode</th>\n",
       "      <th>Description</th>\n",
       "      <th>Quantity</th>\n",
       "      <th>InvoiceDate</th>\n",
       "      <th>UnitPrice</th>\n",
       "      <th>CustomerID</th>\n",
       "      <th>Country</th>\n",
       "      <th>Country_n</th>\n",
       "      <th>OrderCancelled</th>\n",
       "      <th>Season_month</th>\n",
       "      <th>Quarter_y</th>\n",
       "      <th>Prod_Categ</th>\n",
       "    </tr>\n",
       "  </thead>\n",
       "  <tbody>\n",
       "    <tr>\n",
       "      <th>0</th>\n",
       "      <td>C544414</td>\n",
       "      <td>22960</td>\n",
       "      <td>JAM MAKING SET WITH JARS</td>\n",
       "      <td>-2</td>\n",
       "      <td>2011-02-18 14:54:00</td>\n",
       "      <td>3.75</td>\n",
       "      <td>13408</td>\n",
       "      <td>United Kingdom</td>\n",
       "      <td>UK</td>\n",
       "      <td>1</td>\n",
       "      <td>2</td>\n",
       "      <td>Q1</td>\n",
       "      <td>3</td>\n",
       "    </tr>\n",
       "    <tr>\n",
       "      <th>1</th>\n",
       "      <td>555276</td>\n",
       "      <td>48111</td>\n",
       "      <td>DOORMAT 3 SMILEY CATS</td>\n",
       "      <td>1</td>\n",
       "      <td>2011-06-01 17:28:00</td>\n",
       "      <td>15.79</td>\n",
       "      <td>nan</td>\n",
       "      <td>United Kingdom</td>\n",
       "      <td>UK</td>\n",
       "      <td>0</td>\n",
       "      <td>6</td>\n",
       "      <td>Q2</td>\n",
       "      <td>3</td>\n",
       "    </tr>\n",
       "    <tr>\n",
       "      <th>2</th>\n",
       "      <td>575656</td>\n",
       "      <td>22952</td>\n",
       "      <td>60 CAKE CASES VINTAGE CHRISTMAS</td>\n",
       "      <td>48</td>\n",
       "      <td>2011-11-10 14:29:00</td>\n",
       "      <td>0.55</td>\n",
       "      <td>13319</td>\n",
       "      <td>United Kingdom</td>\n",
       "      <td>UK</td>\n",
       "      <td>0</td>\n",
       "      <td>11</td>\n",
       "      <td>Q4</td>\n",
       "      <td>3</td>\n",
       "    </tr>\n",
       "    <tr>\n",
       "      <th>3</th>\n",
       "      <td>571636</td>\n",
       "      <td>20674</td>\n",
       "      <td>GREEN POLKADOT BOWL</td>\n",
       "      <td>16</td>\n",
       "      <td>2011-10-18 11:41:00</td>\n",
       "      <td>1.25</td>\n",
       "      <td>13509</td>\n",
       "      <td>United Kingdom</td>\n",
       "      <td>UK</td>\n",
       "      <td>0</td>\n",
       "      <td>10</td>\n",
       "      <td>Q4</td>\n",
       "      <td>3</td>\n",
       "    </tr>\n",
       "    <tr>\n",
       "      <th>4</th>\n",
       "      <td>576657</td>\n",
       "      <td>22556</td>\n",
       "      <td>PLASTERS IN TIN CIRCUS PARADE</td>\n",
       "      <td>12</td>\n",
       "      <td>2011-11-16 11:03:00</td>\n",
       "      <td>1.65</td>\n",
       "      <td>12720</td>\n",
       "      <td>Germany</td>\n",
       "      <td>Non_UK</td>\n",
       "      <td>0</td>\n",
       "      <td>11</td>\n",
       "      <td>Q4</td>\n",
       "      <td>3</td>\n",
       "    </tr>\n",
       "  </tbody>\n",
       "</table>\n",
       "</div>"
      ],
      "text/plain": [
       "  InvoiceNo StockCode                      Description  Quantity  \\\n",
       "0   C544414     22960         JAM MAKING SET WITH JARS        -2   \n",
       "1    555276     48111            DOORMAT 3 SMILEY CATS         1   \n",
       "2    575656     22952  60 CAKE CASES VINTAGE CHRISTMAS        48   \n",
       "3    571636     20674              GREEN POLKADOT BOWL        16   \n",
       "4    576657     22556   PLASTERS IN TIN CIRCUS PARADE         12   \n",
       "\n",
       "          InvoiceDate  UnitPrice CustomerID         Country Country_n  \\\n",
       "0 2011-02-18 14:54:00       3.75      13408  United Kingdom        UK   \n",
       "1 2011-06-01 17:28:00      15.79        nan  United Kingdom        UK   \n",
       "2 2011-11-10 14:29:00       0.55      13319  United Kingdom        UK   \n",
       "3 2011-10-18 11:41:00       1.25      13509  United Kingdom        UK   \n",
       "4 2011-11-16 11:03:00       1.65      12720         Germany    Non_UK   \n",
       "\n",
       "   OrderCancelled  Season_month Quarter_y  Prod_Categ  \n",
       "0               1             2        Q1           3  \n",
       "1               0             6        Q2           3  \n",
       "2               0            11        Q4           3  \n",
       "3               0            10        Q4           3  \n",
       "4               0            11        Q4           3  "
      ]
     },
     "execution_count": 39,
     "metadata": {},
     "output_type": "execute_result"
    }
   ],
   "source": [
    "df_initial.head()"
   ]
  },
  {
   "cell_type": "markdown",
   "metadata": {},
   "source": [
    "### 2.3 Numerical variables"
   ]
  },
  {
   "cell_type": "markdown",
   "metadata": {},
   "source": [
    "We have two numerical variables, `Quantity` and `UnitPrice`,"
   ]
  },
  {
   "cell_type": "code",
   "execution_count": 46,
   "metadata": {},
   "outputs": [
    {
     "data": {
      "text/plain": [
       "(-5000, 5000)"
      ]
     },
     "execution_count": 46,
     "metadata": {},
     "output_type": "execute_result"
    },
    {
     "data": {
      "image/png": "[encoded data removed]",
      "text/plain": [
       "<matplotlib.figure.Figure at 0x121b28898>"
      ]
     },
     "metadata": {},
     "output_type": "display_data"
    }
   ],
   "source": [
    "sns.distplot(df_initial[\"Quantity\"])\n",
    "plt.xlim(-5000,5000)"
   ]
  },
  {
   "cell_type": "code",
   "execution_count": 50,
   "metadata": {},
   "outputs": [
    {
     "data": {
      "text/plain": [
       "(0, 500)"
      ]
     },
     "execution_count": 50,
     "metadata": {},
     "output_type": "execute_result"
    },
    {
     "data": {
      "image/png": "[encoded data removed]",
      "text/plain": [
       "<matplotlib.figure.Figure at 0x1291acc18>"
      ]
     },
     "metadata": {},
     "output_type": "display_data"
    }
   ],
   "source": [
    "sns.distplot(df_initial[\"UnitPrice\"])\n",
    "plt.xlim(0,500)"
   ]
  },
  {
   "cell_type": "code",
   "execution_count": 48,
   "metadata": {},
   "outputs": [
    {
     "name": "stdout",
     "output_type": "stream",
     "text": [
      "<class 'pandas.core.frame.DataFrame'>\n",
      "Int64Index: 49820 entries, 0 to 49999\n",
      "Data columns (total 13 columns):\n",
      "InvoiceNo         49820 non-null object\n",
      "StockCode         49820 non-null object\n",
      "Description       49820 non-null object\n",
      "Quantity          49820 non-null int64\n",
      "InvoiceDate       49820 non-null datetime64[ns]\n",
      "UnitPrice         49820 non-null float64\n",
      "CustomerID        49820 non-null object\n",
      "Country           49820 non-null object\n",
      "Country_n         49820 non-null object\n",
      "OrderCancelled    49820 non-null int64\n",
      "Season_month      49820 non-null int64\n",
      "Quarter_y         49820 non-null object\n",
      "Prod_Categ        49820 non-null int64\n",
      "dtypes: datetime64[ns](1), float64(1), int64(4), object(7)\n",
      "memory usage: 5.3+ MB\n"
     ]
    }
   ],
   "source": [
    "df_initial.info()"
   ]
  },
  {
   "cell_type": "markdown",
   "metadata": {},
   "source": [
    "The DataFrame is ready. Lets now create X and y variables."
   ]
  },
  {
   "cell_type": "code",
   "execution_count": 52,
   "metadata": {
    "collapsed": true
   },
   "outputs": [],
   "source": [
    "X = df_initial.drop(['InvoiceNo','StockCode','Description','InvoiceDate','CustomerID','Country','Season_month','Prod_Categ'], axis = 1)\n",
    "y = df_initial['Prod_Categ']"
   ]
  },
  {
   "cell_type": "code",
   "execution_count": 55,
   "metadata": {},
   "outputs": [
    {
     "data": {
      "image/png": "[encoded data removed]",
      "text/plain": [
       "<matplotlib.figure.Figure at 0x11633c128>"
      ]
     },
     "metadata": {},
     "output_type": "display_data"
    }
   ],
   "source": [
    "plt.figure(figsize= (10,6))\n",
    "plt.xlabel('Count')\n",
    "y.value_counts().plot(kind = 'bar', grid = True)\n",
    "plt.show()"
   ]
  },
  {
   "cell_type": "markdown",
   "metadata": {},
   "source": [
    "The output variable is highly skewed. This might call for normalization in the training stage"
   ]
  },
  {
   "cell_type": "markdown",
   "metadata": {},
   "source": [
    "Encode categorical variables"
   ]
  },
  {
   "cell_type": "code",
   "execution_count": 58,
   "metadata": {
    "collapsed": true
   },
   "outputs": [],
   "source": [
    "categorical = ['OrderCancelled','Quarter_y', 'Country_n']\n",
    "categorical_variables = categorical\n",
    "X = pd.get_dummies(X, columns = categorical_variables)"
   ]
  },
  {
   "cell_type": "code",
   "execution_count": null,
   "metadata": {
    "collapsed": true
   },
   "outputs": [],
   "source": [
    "#label encoder\n",
    "from sklearn.preprocessing import LabelEncoder\n",
    "labelencoder = LabelEncoder()\n",
    "y = labelencoder.fit_transform(y)"
   ]
  },
  {
   "cell_type": "markdown",
   "metadata": {
    "collapsed": true
   },
   "source": [
    "Now proceed to Feature scaling"
   ]
  },
  {
   "cell_type": "code",
   "execution_count": 60,
   "metadata": {
    "collapsed": true
   },
   "outputs": [],
   "source": [
    "# Feature Scaling\n",
    "from sklearn.preprocessing import StandardScaler\n",
    "sc = StandardScaler()\n",
    "X = sc.fit_transform(X)"
   ]
  },
  {
   "cell_type": "markdown",
   "metadata": {},
   "source": [
    "Create train and test sets"
   ]
  },
  {
   "cell_type": "code",
   "execution_count": 61,
   "metadata": {
    "collapsed": true
   },
   "outputs": [],
   "source": [
    "# Splitting the dataset into the Training set and Test set\n",
    "from sklearn.model_selection import train_test_split\n",
    "X_train, X_test, y_train, y_test = train_test_split(X, y, test_size = 0.2, random_state = 0)"
   ]
  },
  {
   "cell_type": "markdown",
   "metadata": {
    "collapsed": true
   },
   "source": [
    "## Deep Learning"
   ]
  },
  {
   "cell_type": "markdown",
   "metadata": {},
   "source": [
    "Import TensorFlow and Keras"
   ]
  },
  {
   "cell_type": "code",
   "execution_count": 62,
   "metadata": {},
   "outputs": [
    {
     "name": "stderr",
     "output_type": "stream",
     "text": [
      "Using TensorFlow backend.\n"
     ]
    }
   ],
   "source": [
    "import tensorflow as tf\n",
    "from keras.utils import np_utils\n",
    "tf.logging.set_verbosity(tf.logging.INFO)"
   ]
  },
  {
   "cell_type": "markdown",
   "metadata": {},
   "source": [
    "Encode y_train and y_test using `to_categorical` in `np.utils`"
   ]
  },
  {
   "cell_type": "code",
   "execution_count": 63,
   "metadata": {},
   "outputs": [],
   "source": [
    "from sklearn.preprocessing import LabelEncoder\n",
    "def encode_neural_net_y(y):\n",
    "    encoder = LabelEncoder()\n",
    "    encoder.fit(y)\n",
    "    encoded_y = encoder.transform(y)\n",
    "    new_y = np_utils.to_categorical(encoded_y)\n",
    "    return new_y\n",
    "# Encoding y_train and y_test\n",
    "y_train = encode_neural_net_y(y_train)\n",
    "y_test = encode_neural_net_y(y_test)"
   ]
  },
  {
   "cell_type": "code",
   "execution_count": 64,
   "metadata": {},
   "outputs": [
    {
     "name": "stdout",
     "output_type": "stream",
     "text": [
      "Shape of X_train:  (39856, 10)\n",
      "Shape of y_train:  (39856, 4)\n",
      "Shape of X_test:  (9964, 10)\n",
      "Shape of y_test:  (9964, 4)\n"
     ]
    }
   ],
   "source": [
    "print(\"Shape of X_train: \", X_train.shape)\n",
    "print(\"Shape of y_train: \", y_train.shape)\n",
    "print(\"Shape of X_test: \", X_test.shape)\n",
    "print(\"Shape of y_test: \", y_test.shape)"
   ]
  },
  {
   "cell_type": "code",
   "execution_count": 65,
   "metadata": {
    "collapsed": true
   },
   "outputs": [],
   "source": [
    "from keras.models import Sequential\n",
    "from keras.layers import Dense\n",
    "from keras.layers.normalization import BatchNormalization\n",
    "\n",
    "# create model\n",
    "model = Sequential()\n",
    "model.add(Dense(35, input_dim=10, activation='relu'))\n",
    "model.add(BatchNormalization())\n",
    "model.add(Dense(4, activation='softmax'))\n",
    "# Compile model\n",
    "model.compile(loss='categorical_crossentropy', optimizer='adam', metrics=['acc'])"
   ]
  },
  {
   "cell_type": "markdown",
   "metadata": {},
   "source": [
    "The layers are created using `kers.layers`. We build 2-layer fully connected neural network with 35 neurons in hidden layer. \n",
    "\n",
    "Batch normalization layer is inserted between hidden layer and output layer. This can take into account the skewness in the data.\n",
    "\n",
    "The `categorical_crossentropy` is used as loss function and updating method/ optimizer is `ADAM`. Activation for the input layers is `relu` and that for the ouput layer is `softmax`"
   ]
  },
  {
   "cell_type": "code",
   "execution_count": 66,
   "metadata": {},
   "outputs": [
    {
     "name": "stdout",
     "output_type": "stream",
     "text": [
      "_________________________________________________________________\n",
      "Layer (type)                 Output Shape              Param #   \n",
      "=================================================================\n",
      "dense_1 (Dense)              (None, 35)                385       \n",
      "_________________________________________________________________\n",
      "batch_normalization_1 (Batch (None, 35)                140       \n",
      "_________________________________________________________________\n",
      "dense_2 (Dense)              (None, 4)                 144       \n",
      "=================================================================\n",
      "Total params: 669\n",
      "Trainable params: 599\n",
      "Non-trainable params: 70\n",
      "_________________________________________________________________\n"
     ]
    }
   ],
   "source": [
    "model.summary()"
   ]
  },
  {
   "cell_type": "markdown",
   "metadata": {},
   "source": [
    "Now train the model to predict the Product Categories from the transaction data"
   ]
  },
  {
   "cell_type": "code",
   "execution_count": 67,
   "metadata": {},
   "outputs": [
    {
     "name": "stdout",
     "output_type": "stream",
     "text": [
      "Epoch 1/30\n",
      "39856/39856 [==============================] - 4s 111us/step - loss: 0.3439 - acc: 0.9264\n",
      "Epoch 2/30\n",
      "39856/39856 [==============================] - 4s 99us/step - loss: 0.1932 - acc: 0.9632\n",
      "Epoch 3/30\n",
      "39856/39856 [==============================] - 4s 94us/step - loss: 0.1929 - acc: 0.9633\n",
      "Epoch 4/30\n",
      "39856/39856 [==============================] - 4s 99us/step - loss: 0.1924 - acc: 0.9632\n",
      "Epoch 5/30\n",
      "39856/39856 [==============================] - 4s 102us/step - loss: 0.1917 - acc: 0.9633\n",
      "Epoch 6/30\n",
      "39856/39856 [==============================] - 4s 108us/step - loss: 0.1923 - acc: 0.9632\n",
      "Epoch 7/30\n",
      "39856/39856 [==============================] - 4s 106us/step - loss: 0.1907 - acc: 0.9633\n",
      "Epoch 8/30\n",
      "39856/39856 [==============================] - 4s 97us/step - loss: 0.1906 - acc: 0.9634\n",
      "Epoch 9/30\n",
      "39856/39856 [==============================] - 4s 93us/step - loss: 0.1907 - acc: 0.9633\n",
      "Epoch 10/30\n",
      "39856/39856 [==============================] - 4s 99us/step - loss: 0.1905 - acc: 0.9631\n",
      "Epoch 11/30\n",
      "39856/39856 [==============================] - 4s 103us/step - loss: 0.1901 - acc: 0.9632\n",
      "Epoch 12/30\n",
      "39856/39856 [==============================] - 4s 98us/step - loss: 0.1894 - acc: 0.9631\n",
      "Epoch 13/30\n",
      "39856/39856 [==============================] - 4s 101us/step - loss: 0.1890 - acc: 0.9633\n",
      "Epoch 14/30\n",
      "39856/39856 [==============================] - 4s 105us/step - loss: 0.1886 - acc: 0.9634\n",
      "Epoch 15/30\n",
      "39856/39856 [==============================] - 4s 102us/step - loss: 0.1882 - acc: 0.9633\n",
      "Epoch 16/30\n",
      "39856/39856 [==============================] - 4s 102us/step - loss: 0.1884 - acc: 0.9632\n",
      "Epoch 17/30\n",
      "39856/39856 [==============================] - 4s 93us/step - loss: 0.1882 - acc: 0.9633\n",
      "Epoch 18/30\n",
      "39856/39856 [==============================] - 4s 100us/step - loss: 0.1874 - acc: 0.9634\n",
      "Epoch 19/30\n",
      "39856/39856 [==============================] - 4s 104us/step - loss: 0.1876 - acc: 0.9635\n",
      "Epoch 20/30\n",
      "39856/39856 [==============================] - 4s 102us/step - loss: 0.1875 - acc: 0.9634\n",
      "Epoch 21/30\n",
      "39856/39856 [==============================] - 4s 98us/step - loss: 0.1875 - acc: 0.9634\n",
      "Epoch 22/30\n",
      "39856/39856 [==============================] - 4s 102us/step - loss: 0.1868 - acc: 0.9637\n",
      "Epoch 23/30\n",
      "39856/39856 [==============================] - 4s 103us/step - loss: 0.1871 - acc: 0.9636\n",
      "Epoch 24/30\n",
      "39856/39856 [==============================] - 4s 105us/step - loss: 0.1867 - acc: 0.9635\n",
      "Epoch 25/30\n",
      "39856/39856 [==============================] - 4s 102us/step - loss: 0.1867 - acc: 0.9638\n",
      "Epoch 26/30\n",
      "39856/39856 [==============================] - 4s 105us/step - loss: 0.1869 - acc: 0.9636\n",
      "Epoch 27/30\n",
      "39856/39856 [==============================] - 4s 103us/step - loss: 0.1862 - acc: 0.9637\n",
      "Epoch 28/30\n",
      "39856/39856 [==============================] - 4s 97us/step - loss: 0.1858 - acc: 0.9638\n",
      "Epoch 29/30\n",
      "39856/39856 [==============================] - 4s 102us/step - loss: 0.1856 - acc: 0.9637\n",
      "Epoch 30/30\n",
      "39856/39856 [==============================] - 4s 94us/step - loss: 0.1858 - acc: 0.9636\n"
     ]
    }
   ],
   "source": [
    "history = model.fit(np.array(X_train), np.array(y_train), epochs=30, batch_size=40, verbose=1)"
   ]
  },
  {
   "cell_type": "code",
   "execution_count": 68,
   "metadata": {},
   "outputs": [
    {
     "name": "stdout",
     "output_type": "stream",
     "text": [
      "====================[TEST SCORE]====================\n",
      "acc: 96.32%\n"
     ]
    }
   ],
   "source": [
    "scores = model.evaluate(np.array(X_test), np.array(y_test), verbose=0)\n",
    "print(\"====================[TEST SCORE]====================\")\n",
    "print(\"%s: %.2f%%\" % (model.metrics_names[1], scores[1]*100))"
   ]
  },
  {
   "cell_type": "code",
   "execution_count": 69,
   "metadata": {},
   "outputs": [
    {
     "name": "stdout",
     "output_type": "stream",
     "text": [
      "====================[TRAIN SCORE]====================\n",
      "acc: 96.35%\n"
     ]
    }
   ],
   "source": [
    "scores = model.evaluate(np.array(X_train), np.array(y_train), verbose=0)\n",
    "print(\"====================[TRAIN SCORE]====================\")\n",
    "print(\"%s: %.2f%%\" % (model.metrics_names[1], scores[1]*100))"
   ]
  },
  {
   "cell_type": "markdown",
   "metadata": {
    "collapsed": true
   },
   "source": [
    "# Concluding Remarks\n",
    "\n",
    "1. The model has a farily good performance on the train as well as on the test sets. Features are analysed and new features have been created to help with the predictions.\n",
    "2. The test set accuracy is lower than the train set accuarcy by only a negligible percentage, yet the effect of regularization is to be studied\n",
    "3. Another dimension to the feature engineering can be extracing the product information from the `Description` variable, using Natural Language Processing libraries like `nltk`."
   ]
  }
 ],
 "metadata": {
  "kernelspec": {
   "display_name": "Python 3",
   "language": "python",
   "name": "python3"
  },
  "language_info": {
   "codemirror_mode": {
    "name": "ipython",
    "version": 3
   },
   "file_extension": ".py",
   "mimetype": "text/x-python",
   "name": "python",
   "nbconvert_exporter": "python",
   "pygments_lexer": "ipython3",
   "version": "3.6.1"
  }
 },
 "nbformat": 4,
 "nbformat_minor": 2
}
