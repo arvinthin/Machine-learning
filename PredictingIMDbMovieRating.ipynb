{
 "cells": [
  {
   "cell_type": "markdown",
   "metadata": {},
   "source": [
    "# Predicting movie's IMDB rating using Machine Learning algorithms"
   ]
  },
  {
   "cell_type": "markdown",
   "metadata": {},
   "source": [
    "This notebook aims at predicting IMDB ratings for the movies dataset, by creating Machine Learning & Deep Learning Models for predictive analytics and comparing evaluation metric for regression.\n",
    "\n",
    "** Data Source**\n",
    "\n",
    "https://github.com/sundeepblue/movie_rating_prediction/blob/master/movie_metadata.csv\n",
    "\n",
    "** Tools & Libraries used**\n",
    "\n",
    "1. `Python`, Python's libraries `Numpy`, `Pandas`, `Scikit-learn` for classical Machine Learning models\n",
    "\n",
    "2. `TensorFlow` and `Keras` for Deep Learning models\n",
    "\n",
    "3. `Matplotlib` and `Seaborn` for statistical data visualization "
   ]
  },
  {
   "cell_type": "markdown",
   "metadata": {},
   "source": [
    "## Contents"
   ]
  },
  {
   "cell_type": "markdown",
   "metadata": {},
   "source": [
    "1. Loading the libraries & data\n",
    "2. Data Preprocessing : NA values\n",
    "3. Data Preprocessing : Visualizing Feature Distribution\n",
    "4. Data Preprocessing : Feature engineering/Trim down categorical features\n",
    "5. Data Preprocessing : Categorical Encoding\n",
    "6. Data Preprocessing : Feature Scaling\n",
    "7. Data Preprocessing : Train_test Split\n",
    "8. Deep Learning using TensorFlow and Keras\n",
    "9. Deep Learning using Keras\n",
    "10. Classical Machine Learning algorithms:\n",
    "\n",
    "      10.1. Linear Regression\n",
    "      \n",
    "      10.2. Decision Tree regression\n",
    "      \n",
    "      10.3. RandomForests regression\n",
    "      \n",
    "      10.4. Support Vector Machines regression\n",
    "      \n",
    "11. Concluding Remarks"
   ]
  },
  {
   "cell_type": "markdown",
   "metadata": {},
   "source": [
    "## 1. Loading the libraries & data"
   ]
  },
  {
   "cell_type": "markdown",
   "metadata": {},
   "source": [
    "Lets begin by importing the basic libraries"
   ]
  },
  {
   "cell_type": "code",
   "execution_count": 1,
   "metadata": {
    "collapsed": true
   },
   "outputs": [],
   "source": [
    "# Importing the libraries\n",
    "import numpy as np\n",
    "np.random.seed(1234)\n",
    "import matplotlib.pyplot as plt\n",
    "import pandas as pd\n",
    "import seaborn as sb\n",
    "plt.style.use('ggplot')\n",
    "%matplotlib inline"
   ]
  },
  {
   "cell_type": "markdown",
   "metadata": {},
   "source": [
    "Now read in the dataset from the URL, using pandas"
   ]
  },
  {
   "cell_type": "code",
   "execution_count": 2,
   "metadata": {
    "collapsed": true
   },
   "outputs": [],
   "source": [
    "# Importing the dataset\n",
    "movies = pd.read_csv('https://raw.githubusercontent.com/sundeepblue/movie_rating_prediction/master/movie_metadata.csv')"
   ]
  },
  {
   "cell_type": "markdown",
   "metadata": {},
   "source": [
    "Observe the first few rows of the data"
   ]
  },
  {
   "cell_type": "code",
   "execution_count": 3,
   "metadata": {},
   "outputs": [
    {
     "data": {
      "text/html": [
       "<div>\n",
       "<style>\n",
       "    .dataframe thead tr:only-child th {\n",
       "        text-align: right;\n",
       "    }\n",
       "\n",
       "    .dataframe thead th {\n",
       "        text-align: left;\n",
       "    }\n",
       "\n",
       "    .dataframe tbody tr th {\n",
       "        vertical-align: top;\n",
       "    }\n",
       "</style>\n",
       "<table border=\"1\" class=\"dataframe\">\n",
       "  <thead>\n",
       "    <tr style=\"text-align: right;\">\n",
       "      <th></th>\n",
       "      <th>color</th>\n",
       "      <th>director_name</th>\n",
       "      <th>num_critic_for_reviews</th>\n",
       "      <th>duration</th>\n",
       "      <th>director_facebook_likes</th>\n",
       "      <th>actor_3_facebook_likes</th>\n",
       "      <th>actor_2_name</th>\n",
       "      <th>actor_1_facebook_likes</th>\n",
       "      <th>gross</th>\n",
       "      <th>genres</th>\n",
       "      <th>...</th>\n",
       "      <th>num_user_for_reviews</th>\n",
       "      <th>language</th>\n",
       "      <th>country</th>\n",
       "      <th>content_rating</th>\n",
       "      <th>budget</th>\n",
       "      <th>title_year</th>\n",
       "      <th>actor_2_facebook_likes</th>\n",
       "      <th>imdb_score</th>\n",
       "      <th>aspect_ratio</th>\n",
       "      <th>movie_facebook_likes</th>\n",
       "    </tr>\n",
       "  </thead>\n",
       "  <tbody>\n",
       "    <tr>\n",
       "      <th>0</th>\n",
       "      <td>Color</td>\n",
       "      <td>James Cameron</td>\n",
       "      <td>723.0</td>\n",
       "      <td>178.0</td>\n",
       "      <td>0.0</td>\n",
       "      <td>855.0</td>\n",
       "      <td>Joel David Moore</td>\n",
       "      <td>1000.0</td>\n",
       "      <td>760505847.0</td>\n",
       "      <td>Action|Adventure|Fantasy|Sci-Fi</td>\n",
       "      <td>...</td>\n",
       "      <td>3054.0</td>\n",
       "      <td>English</td>\n",
       "      <td>USA</td>\n",
       "      <td>PG-13</td>\n",
       "      <td>237000000.0</td>\n",
       "      <td>2009.0</td>\n",
       "      <td>936.0</td>\n",
       "      <td>7.9</td>\n",
       "      <td>1.78</td>\n",
       "      <td>33000</td>\n",
       "    </tr>\n",
       "    <tr>\n",
       "      <th>1</th>\n",
       "      <td>Color</td>\n",
       "      <td>Gore Verbinski</td>\n",
       "      <td>302.0</td>\n",
       "      <td>169.0</td>\n",
       "      <td>563.0</td>\n",
       "      <td>1000.0</td>\n",
       "      <td>Orlando Bloom</td>\n",
       "      <td>40000.0</td>\n",
       "      <td>309404152.0</td>\n",
       "      <td>Action|Adventure|Fantasy</td>\n",
       "      <td>...</td>\n",
       "      <td>1238.0</td>\n",
       "      <td>English</td>\n",
       "      <td>USA</td>\n",
       "      <td>PG-13</td>\n",
       "      <td>300000000.0</td>\n",
       "      <td>2007.0</td>\n",
       "      <td>5000.0</td>\n",
       "      <td>7.1</td>\n",
       "      <td>2.35</td>\n",
       "      <td>0</td>\n",
       "    </tr>\n",
       "    <tr>\n",
       "      <th>2</th>\n",
       "      <td>Color</td>\n",
       "      <td>Sam Mendes</td>\n",
       "      <td>602.0</td>\n",
       "      <td>148.0</td>\n",
       "      <td>0.0</td>\n",
       "      <td>161.0</td>\n",
       "      <td>Rory Kinnear</td>\n",
       "      <td>11000.0</td>\n",
       "      <td>200074175.0</td>\n",
       "      <td>Action|Adventure|Thriller</td>\n",
       "      <td>...</td>\n",
       "      <td>994.0</td>\n",
       "      <td>English</td>\n",
       "      <td>UK</td>\n",
       "      <td>PG-13</td>\n",
       "      <td>245000000.0</td>\n",
       "      <td>2015.0</td>\n",
       "      <td>393.0</td>\n",
       "      <td>6.8</td>\n",
       "      <td>2.35</td>\n",
       "      <td>85000</td>\n",
       "    </tr>\n",
       "    <tr>\n",
       "      <th>3</th>\n",
       "      <td>Color</td>\n",
       "      <td>Christopher Nolan</td>\n",
       "      <td>813.0</td>\n",
       "      <td>164.0</td>\n",
       "      <td>22000.0</td>\n",
       "      <td>23000.0</td>\n",
       "      <td>Christian Bale</td>\n",
       "      <td>27000.0</td>\n",
       "      <td>448130642.0</td>\n",
       "      <td>Action|Thriller</td>\n",
       "      <td>...</td>\n",
       "      <td>2701.0</td>\n",
       "      <td>English</td>\n",
       "      <td>USA</td>\n",
       "      <td>PG-13</td>\n",
       "      <td>250000000.0</td>\n",
       "      <td>2012.0</td>\n",
       "      <td>23000.0</td>\n",
       "      <td>8.5</td>\n",
       "      <td>2.35</td>\n",
       "      <td>164000</td>\n",
       "    </tr>\n",
       "    <tr>\n",
       "      <th>4</th>\n",
       "      <td>NaN</td>\n",
       "      <td>Doug Walker</td>\n",
       "      <td>NaN</td>\n",
       "      <td>NaN</td>\n",
       "      <td>131.0</td>\n",
       "      <td>NaN</td>\n",
       "      <td>Rob Walker</td>\n",
       "      <td>131.0</td>\n",
       "      <td>NaN</td>\n",
       "      <td>Documentary</td>\n",
       "      <td>...</td>\n",
       "      <td>NaN</td>\n",
       "      <td>NaN</td>\n",
       "      <td>NaN</td>\n",
       "      <td>NaN</td>\n",
       "      <td>NaN</td>\n",
       "      <td>NaN</td>\n",
       "      <td>12.0</td>\n",
       "      <td>7.1</td>\n",
       "      <td>NaN</td>\n",
       "      <td>0</td>\n",
       "    </tr>\n",
       "  </tbody>\n",
       "</table>\n",
       "<p>5 rows × 28 columns</p>\n",
       "</div>"
      ],
      "text/plain": [
       "   color      director_name  num_critic_for_reviews  duration  \\\n",
       "0  Color      James Cameron                   723.0     178.0   \n",
       "1  Color     Gore Verbinski                   302.0     169.0   \n",
       "2  Color         Sam Mendes                   602.0     148.0   \n",
       "3  Color  Christopher Nolan                   813.0     164.0   \n",
       "4    NaN        Doug Walker                     NaN       NaN   \n",
       "\n",
       "   director_facebook_likes  actor_3_facebook_likes      actor_2_name  \\\n",
       "0                      0.0                   855.0  Joel David Moore   \n",
       "1                    563.0                  1000.0     Orlando Bloom   \n",
       "2                      0.0                   161.0      Rory Kinnear   \n",
       "3                  22000.0                 23000.0    Christian Bale   \n",
       "4                    131.0                     NaN        Rob Walker   \n",
       "\n",
       "   actor_1_facebook_likes        gross                           genres  \\\n",
       "0                  1000.0  760505847.0  Action|Adventure|Fantasy|Sci-Fi   \n",
       "1                 40000.0  309404152.0         Action|Adventure|Fantasy   \n",
       "2                 11000.0  200074175.0        Action|Adventure|Thriller   \n",
       "3                 27000.0  448130642.0                  Action|Thriller   \n",
       "4                   131.0          NaN                      Documentary   \n",
       "\n",
       "          ...          num_user_for_reviews language  country  content_rating  \\\n",
       "0         ...                        3054.0  English      USA           PG-13   \n",
       "1         ...                        1238.0  English      USA           PG-13   \n",
       "2         ...                         994.0  English       UK           PG-13   \n",
       "3         ...                        2701.0  English      USA           PG-13   \n",
       "4         ...                           NaN      NaN      NaN             NaN   \n",
       "\n",
       "        budget  title_year actor_2_facebook_likes imdb_score  aspect_ratio  \\\n",
       "0  237000000.0      2009.0                  936.0        7.9          1.78   \n",
       "1  300000000.0      2007.0                 5000.0        7.1          2.35   \n",
       "2  245000000.0      2015.0                  393.0        6.8          2.35   \n",
       "3  250000000.0      2012.0                23000.0        8.5          2.35   \n",
       "4          NaN         NaN                   12.0        7.1           NaN   \n",
       "\n",
       "  movie_facebook_likes  \n",
       "0                33000  \n",
       "1                    0  \n",
       "2                85000  \n",
       "3               164000  \n",
       "4                    0  \n",
       "\n",
       "[5 rows x 28 columns]"
      ]
     },
     "execution_count": 3,
     "metadata": {},
     "output_type": "execute_result"
    }
   ],
   "source": [
    "movies.head()"
   ]
  },
  {
   "cell_type": "code",
   "execution_count": 4,
   "metadata": {},
   "outputs": [
    {
     "name": "stdout",
     "output_type": "stream",
     "text": [
      "<class 'pandas.core.frame.DataFrame'>\n",
      "RangeIndex: 5043 entries, 0 to 5042\n",
      "Data columns (total 28 columns):\n",
      "color                        5024 non-null object\n",
      "director_name                4939 non-null object\n",
      "num_critic_for_reviews       4993 non-null float64\n",
      "duration                     5028 non-null float64\n",
      "director_facebook_likes      4939 non-null float64\n",
      "actor_3_facebook_likes       5020 non-null float64\n",
      "actor_2_name                 5030 non-null object\n",
      "actor_1_facebook_likes       5036 non-null float64\n",
      "gross                        4159 non-null float64\n",
      "genres                       5043 non-null object\n",
      "actor_1_name                 5036 non-null object\n",
      "movie_title                  5043 non-null object\n",
      "num_voted_users              5043 non-null int64\n",
      "cast_total_facebook_likes    5043 non-null int64\n",
      "actor_3_name                 5020 non-null object\n",
      "facenumber_in_poster         5030 non-null float64\n",
      "plot_keywords                4890 non-null object\n",
      "movie_imdb_link              5043 non-null object\n",
      "num_user_for_reviews         5022 non-null float64\n",
      "language                     5031 non-null object\n",
      "country                      5038 non-null object\n",
      "content_rating               4740 non-null object\n",
      "budget                       4551 non-null float64\n",
      "title_year                   4935 non-null float64\n",
      "actor_2_facebook_likes       5030 non-null float64\n",
      "imdb_score                   5043 non-null float64\n",
      "aspect_ratio                 4714 non-null float64\n",
      "movie_facebook_likes         5043 non-null int64\n",
      "dtypes: float64(13), int64(3), object(12)\n",
      "memory usage: 1.1+ MB\n"
     ]
    }
   ],
   "source": [
    "movies.info()"
   ]
  },
  {
   "cell_type": "markdown",
   "metadata": {},
   "source": [
    "**Observations**\n",
    "1. The data has a total of 5043 entries, spanning 28 columns.\n",
    "2. There are 12 categorical variables, requiring one-hot encoding.\n",
    "3. Some rows of the dataframe contains some NA values which needs removal.\n",
    "4. The target/dependent variable for predictions is `imdb_score` which is continuous and hence needs to buid regression models. "
   ]
  },
  {
   "cell_type": "markdown",
   "metadata": {},
   "source": [
    "## 2. Data Preprocessing : NA values"
   ]
  },
  {
   "cell_type": "markdown",
   "metadata": {},
   "source": [
    "Analysing the count of non-null values in features"
   ]
  },
  {
   "cell_type": "code",
   "execution_count": 5,
   "metadata": {},
   "outputs": [
    {
     "data": {
      "text/plain": [
       "gross                        4159\n",
       "budget                       4551\n",
       "aspect_ratio                 4714\n",
       "content_rating               4740\n",
       "plot_keywords                4890\n",
       "title_year                   4935\n",
       "director_name                4939\n",
       "director_facebook_likes      4939\n",
       "num_critic_for_reviews       4993\n",
       "actor_3_facebook_likes       5020\n",
       "actor_3_name                 5020\n",
       "num_user_for_reviews         5022\n",
       "color                        5024\n",
       "duration                     5028\n",
       "facenumber_in_poster         5030\n",
       "actor_2_name                 5030\n",
       "actor_2_facebook_likes       5030\n",
       "language                     5031\n",
       "actor_1_facebook_likes       5036\n",
       "actor_1_name                 5036\n",
       "country                      5038\n",
       "imdb_score                   5043\n",
       "cast_total_facebook_likes    5043\n",
       "num_voted_users              5043\n",
       "movie_title                  5043\n",
       "genres                       5043\n",
       "movie_imdb_link              5043\n",
       "movie_facebook_likes         5043\n",
       "dtype: int64"
      ]
     },
     "execution_count": 5,
     "metadata": {},
     "output_type": "execute_result"
    }
   ],
   "source": [
    "movies.count().sort_values()"
   ]
  },
  {
   "cell_type": "markdown",
   "metadata": {},
   "source": [
    "**Upon inspection**\n",
    "1. The `gross` variable seems to have the most number of missing values, the percentage being 884/5043 = 17 %. \n",
    "2. The variable `country` has the least number of NA values, the count being 5."
   ]
  },
  {
   "cell_type": "markdown",
   "metadata": {},
   "source": [
    "Lets drop the rows with missing values"
   ]
  },
  {
   "cell_type": "code",
   "execution_count": 6,
   "metadata": {
    "collapsed": true
   },
   "outputs": [],
   "source": [
    "movies.dropna(inplace=True)"
   ]
  },
  {
   "cell_type": "code",
   "execution_count": 7,
   "metadata": {},
   "outputs": [
    {
     "name": "stdout",
     "output_type": "stream",
     "text": [
      "<class 'pandas.core.frame.DataFrame'>\n",
      "Int64Index: 3756 entries, 0 to 5042\n",
      "Data columns (total 28 columns):\n",
      "color                        3756 non-null object\n",
      "director_name                3756 non-null object\n",
      "num_critic_for_reviews       3756 non-null float64\n",
      "duration                     3756 non-null float64\n",
      "director_facebook_likes      3756 non-null float64\n",
      "actor_3_facebook_likes       3756 non-null float64\n",
      "actor_2_name                 3756 non-null object\n",
      "actor_1_facebook_likes       3756 non-null float64\n",
      "gross                        3756 non-null float64\n",
      "genres                       3756 non-null object\n",
      "actor_1_name                 3756 non-null object\n",
      "movie_title                  3756 non-null object\n",
      "num_voted_users              3756 non-null int64\n",
      "cast_total_facebook_likes    3756 non-null int64\n",
      "actor_3_name                 3756 non-null object\n",
      "facenumber_in_poster         3756 non-null float64\n",
      "plot_keywords                3756 non-null object\n",
      "movie_imdb_link              3756 non-null object\n",
      "num_user_for_reviews         3756 non-null float64\n",
      "language                     3756 non-null object\n",
      "country                      3756 non-null object\n",
      "content_rating               3756 non-null object\n",
      "budget                       3756 non-null float64\n",
      "title_year                   3756 non-null float64\n",
      "actor_2_facebook_likes       3756 non-null float64\n",
      "imdb_score                   3756 non-null float64\n",
      "aspect_ratio                 3756 non-null float64\n",
      "movie_facebook_likes         3756 non-null int64\n",
      "dtypes: float64(13), int64(3), object(12)\n",
      "memory usage: 851.0+ KB\n"
     ]
    }
   ],
   "source": [
    "movies.info()"
   ]
  },
  {
   "cell_type": "markdown",
   "metadata": {},
   "source": [
    "## Data Preprocessing : Visualizing Feature Distribution"
   ]
  },
  {
   "cell_type": "markdown",
   "metadata": {},
   "source": [
    "Lets take a look at a summary of all the numeric variables"
   ]
  },
  {
   "cell_type": "code",
   "execution_count": 8,
   "metadata": {},
   "outputs": [
    {
     "data": {
      "text/html": [
       "<div>\n",
       "<style>\n",
       "    .dataframe thead tr:only-child th {\n",
       "        text-align: right;\n",
       "    }\n",
       "\n",
       "    .dataframe thead th {\n",
       "        text-align: left;\n",
       "    }\n",
       "\n",
       "    .dataframe tbody tr th {\n",
       "        vertical-align: top;\n",
       "    }\n",
       "</style>\n",
       "<table border=\"1\" class=\"dataframe\">\n",
       "  <thead>\n",
       "    <tr style=\"text-align: right;\">\n",
       "      <th></th>\n",
       "      <th>num_critic_for_reviews</th>\n",
       "      <th>duration</th>\n",
       "      <th>director_facebook_likes</th>\n",
       "      <th>actor_3_facebook_likes</th>\n",
       "      <th>actor_1_facebook_likes</th>\n",
       "      <th>gross</th>\n",
       "      <th>num_voted_users</th>\n",
       "      <th>cast_total_facebook_likes</th>\n",
       "      <th>facenumber_in_poster</th>\n",
       "      <th>num_user_for_reviews</th>\n",
       "      <th>budget</th>\n",
       "      <th>title_year</th>\n",
       "      <th>actor_2_facebook_likes</th>\n",
       "      <th>imdb_score</th>\n",
       "      <th>aspect_ratio</th>\n",
       "      <th>movie_facebook_likes</th>\n",
       "    </tr>\n",
       "  </thead>\n",
       "  <tbody>\n",
       "    <tr>\n",
       "      <th>count</th>\n",
       "      <td>3756.000000</td>\n",
       "      <td>3756.000000</td>\n",
       "      <td>3756.000000</td>\n",
       "      <td>3756.000000</td>\n",
       "      <td>3756.000000</td>\n",
       "      <td>3.756000e+03</td>\n",
       "      <td>3.756000e+03</td>\n",
       "      <td>3756.000000</td>\n",
       "      <td>3756.000000</td>\n",
       "      <td>3756.000000</td>\n",
       "      <td>3.756000e+03</td>\n",
       "      <td>3756.000000</td>\n",
       "      <td>3756.000000</td>\n",
       "      <td>3756.000000</td>\n",
       "      <td>3756.000000</td>\n",
       "      <td>3756.000000</td>\n",
       "    </tr>\n",
       "    <tr>\n",
       "      <th>mean</th>\n",
       "      <td>167.378328</td>\n",
       "      <td>110.257987</td>\n",
       "      <td>807.336528</td>\n",
       "      <td>771.279553</td>\n",
       "      <td>7751.338658</td>\n",
       "      <td>5.261282e+07</td>\n",
       "      <td>1.058267e+05</td>\n",
       "      <td>11527.101970</td>\n",
       "      <td>1.377263</td>\n",
       "      <td>336.843184</td>\n",
       "      <td>4.623685e+07</td>\n",
       "      <td>2002.976571</td>\n",
       "      <td>2021.775825</td>\n",
       "      <td>6.465282</td>\n",
       "      <td>2.111014</td>\n",
       "      <td>9353.829340</td>\n",
       "    </tr>\n",
       "    <tr>\n",
       "      <th>std</th>\n",
       "      <td>123.452040</td>\n",
       "      <td>22.646717</td>\n",
       "      <td>3068.171683</td>\n",
       "      <td>1894.249869</td>\n",
       "      <td>15519.339621</td>\n",
       "      <td>7.031787e+07</td>\n",
       "      <td>1.520354e+05</td>\n",
       "      <td>19122.176905</td>\n",
       "      <td>2.041541</td>\n",
       "      <td>411.227368</td>\n",
       "      <td>2.260103e+08</td>\n",
       "      <td>9.888108</td>\n",
       "      <td>4544.908236</td>\n",
       "      <td>1.056247</td>\n",
       "      <td>0.353068</td>\n",
       "      <td>21462.889123</td>\n",
       "    </tr>\n",
       "    <tr>\n",
       "      <th>min</th>\n",
       "      <td>2.000000</td>\n",
       "      <td>37.000000</td>\n",
       "      <td>0.000000</td>\n",
       "      <td>0.000000</td>\n",
       "      <td>0.000000</td>\n",
       "      <td>1.620000e+02</td>\n",
       "      <td>9.100000e+01</td>\n",
       "      <td>0.000000</td>\n",
       "      <td>0.000000</td>\n",
       "      <td>4.000000</td>\n",
       "      <td>2.180000e+02</td>\n",
       "      <td>1927.000000</td>\n",
       "      <td>0.000000</td>\n",
       "      <td>1.600000</td>\n",
       "      <td>1.180000</td>\n",
       "      <td>0.000000</td>\n",
       "    </tr>\n",
       "    <tr>\n",
       "      <th>25%</th>\n",
       "      <td>77.000000</td>\n",
       "      <td>96.000000</td>\n",
       "      <td>11.000000</td>\n",
       "      <td>194.000000</td>\n",
       "      <td>745.000000</td>\n",
       "      <td>8.270233e+06</td>\n",
       "      <td>1.966700e+04</td>\n",
       "      <td>1919.750000</td>\n",
       "      <td>0.000000</td>\n",
       "      <td>110.000000</td>\n",
       "      <td>1.000000e+07</td>\n",
       "      <td>1999.000000</td>\n",
       "      <td>384.750000</td>\n",
       "      <td>5.900000</td>\n",
       "      <td>1.850000</td>\n",
       "      <td>0.000000</td>\n",
       "    </tr>\n",
       "    <tr>\n",
       "      <th>50%</th>\n",
       "      <td>138.500000</td>\n",
       "      <td>106.000000</td>\n",
       "      <td>64.000000</td>\n",
       "      <td>436.000000</td>\n",
       "      <td>1000.000000</td>\n",
       "      <td>3.009311e+07</td>\n",
       "      <td>5.397350e+04</td>\n",
       "      <td>4059.500000</td>\n",
       "      <td>1.000000</td>\n",
       "      <td>210.000000</td>\n",
       "      <td>2.500000e+07</td>\n",
       "      <td>2004.000000</td>\n",
       "      <td>685.500000</td>\n",
       "      <td>6.600000</td>\n",
       "      <td>2.350000</td>\n",
       "      <td>227.000000</td>\n",
       "    </tr>\n",
       "    <tr>\n",
       "      <th>75%</th>\n",
       "      <td>224.000000</td>\n",
       "      <td>120.000000</td>\n",
       "      <td>235.000000</td>\n",
       "      <td>691.000000</td>\n",
       "      <td>13000.000000</td>\n",
       "      <td>6.688194e+07</td>\n",
       "      <td>1.286020e+05</td>\n",
       "      <td>16240.000000</td>\n",
       "      <td>2.000000</td>\n",
       "      <td>398.250000</td>\n",
       "      <td>5.000000e+07</td>\n",
       "      <td>2010.000000</td>\n",
       "      <td>976.000000</td>\n",
       "      <td>7.200000</td>\n",
       "      <td>2.350000</td>\n",
       "      <td>11000.000000</td>\n",
       "    </tr>\n",
       "    <tr>\n",
       "      <th>max</th>\n",
       "      <td>813.000000</td>\n",
       "      <td>330.000000</td>\n",
       "      <td>23000.000000</td>\n",
       "      <td>23000.000000</td>\n",
       "      <td>640000.000000</td>\n",
       "      <td>7.605058e+08</td>\n",
       "      <td>1.689764e+06</td>\n",
       "      <td>656730.000000</td>\n",
       "      <td>43.000000</td>\n",
       "      <td>5060.000000</td>\n",
       "      <td>1.221550e+10</td>\n",
       "      <td>2016.000000</td>\n",
       "      <td>137000.000000</td>\n",
       "      <td>9.300000</td>\n",
       "      <td>16.000000</td>\n",
       "      <td>349000.000000</td>\n",
       "    </tr>\n",
       "  </tbody>\n",
       "</table>\n",
       "</div>"
      ],
      "text/plain": [
       "       num_critic_for_reviews     duration  director_facebook_likes  \\\n",
       "count             3756.000000  3756.000000              3756.000000   \n",
       "mean               167.378328   110.257987               807.336528   \n",
       "std                123.452040    22.646717              3068.171683   \n",
       "min                  2.000000    37.000000                 0.000000   \n",
       "25%                 77.000000    96.000000                11.000000   \n",
       "50%                138.500000   106.000000                64.000000   \n",
       "75%                224.000000   120.000000               235.000000   \n",
       "max                813.000000   330.000000             23000.000000   \n",
       "\n",
       "       actor_3_facebook_likes  actor_1_facebook_likes         gross  \\\n",
       "count             3756.000000             3756.000000  3.756000e+03   \n",
       "mean               771.279553             7751.338658  5.261282e+07   \n",
       "std               1894.249869            15519.339621  7.031787e+07   \n",
       "min                  0.000000                0.000000  1.620000e+02   \n",
       "25%                194.000000              745.000000  8.270233e+06   \n",
       "50%                436.000000             1000.000000  3.009311e+07   \n",
       "75%                691.000000            13000.000000  6.688194e+07   \n",
       "max              23000.000000           640000.000000  7.605058e+08   \n",
       "\n",
       "       num_voted_users  cast_total_facebook_likes  facenumber_in_poster  \\\n",
       "count     3.756000e+03                3756.000000           3756.000000   \n",
       "mean      1.058267e+05               11527.101970              1.377263   \n",
       "std       1.520354e+05               19122.176905              2.041541   \n",
       "min       9.100000e+01                   0.000000              0.000000   \n",
       "25%       1.966700e+04                1919.750000              0.000000   \n",
       "50%       5.397350e+04                4059.500000              1.000000   \n",
       "75%       1.286020e+05               16240.000000              2.000000   \n",
       "max       1.689764e+06              656730.000000             43.000000   \n",
       "\n",
       "       num_user_for_reviews        budget   title_year  \\\n",
       "count           3756.000000  3.756000e+03  3756.000000   \n",
       "mean             336.843184  4.623685e+07  2002.976571   \n",
       "std              411.227368  2.260103e+08     9.888108   \n",
       "min                4.000000  2.180000e+02  1927.000000   \n",
       "25%              110.000000  1.000000e+07  1999.000000   \n",
       "50%              210.000000  2.500000e+07  2004.000000   \n",
       "75%              398.250000  5.000000e+07  2010.000000   \n",
       "max             5060.000000  1.221550e+10  2016.000000   \n",
       "\n",
       "       actor_2_facebook_likes   imdb_score  aspect_ratio  movie_facebook_likes  \n",
       "count             3756.000000  3756.000000   3756.000000           3756.000000  \n",
       "mean              2021.775825     6.465282      2.111014           9353.829340  \n",
       "std               4544.908236     1.056247      0.353068          21462.889123  \n",
       "min                  0.000000     1.600000      1.180000              0.000000  \n",
       "25%                384.750000     5.900000      1.850000              0.000000  \n",
       "50%                685.500000     6.600000      2.350000            227.000000  \n",
       "75%                976.000000     7.200000      2.350000          11000.000000  \n",
       "max             137000.000000     9.300000     16.000000         349000.000000  "
      ]
     },
     "execution_count": 8,
     "metadata": {},
     "output_type": "execute_result"
    }
   ],
   "source": [
    "movies.describe()"
   ]
  },
  {
   "cell_type": "markdown",
   "metadata": {},
   "source": [
    "Now lets visualize the distribution of numeric feature attributes"
   ]
  },
  {
   "cell_type": "markdown",
   "metadata": {},
   "source": [
    "**1. `imdb_score`: target variable, numeric**"
   ]
  },
  {
   "cell_type": "code",
   "execution_count": 9,
   "metadata": {},
   "outputs": [
    {
     "data": {
      "text/plain": [
       "<matplotlib.axes._subplots.AxesSubplot at 0x11c265e10>"
      ]
     },
     "execution_count": 9,
     "metadata": {},
     "output_type": "execute_result"
    },
    {
     "data": {
      "image/png": "[encoded data removed]",
      "text/plain": [
       "<matplotlib.figure.Figure at 0x11c25e7f0>"
      ]
     },
     "metadata": {},
     "output_type": "display_data"
    }
   ],
   "source": [
    "sb.distplot(movies[\"imdb_score\"])"
   ]
  },
  {
   "cell_type": "markdown",
   "metadata": {},
   "source": [
    "The target variable has a nice normal distribution"
   ]
  },
  {
   "cell_type": "markdown",
   "metadata": {},
   "source": [
    "**2. `director_facebook_likes`: feature variable, numeric**"
   ]
  },
  {
   "cell_type": "code",
   "execution_count": 10,
   "metadata": {},
   "outputs": [
    {
     "data": {
      "image/png": "[encoded data removed]",
      "text/plain": [
       "<matplotlib.figure.Figure at 0x11c303ac8>"
      ]
     },
     "metadata": {},
     "output_type": "display_data"
    }
   ],
   "source": [
    "plt.figure()\n",
    "sb.distplot(movies[\"director_facebook_likes\"], label=\"director_facebook_likes\")\n",
    "plt.legend()\n",
    "plt.xlabel(\"Facebook_Likes\")\n",
    "plt.xlim(0,20000);plt.ylim(0, 0.0005)\n",
    "plt.show()"
   ]
  },
  {
   "cell_type": "markdown",
   "metadata": {},
   "source": [
    "The variable is distributed all over the place, needs feature scaling"
   ]
  },
  {
   "cell_type": "markdown",
   "metadata": {},
   "source": [
    "**3. `actor_facebook_likes`: feature variables, numeric**"
   ]
  },
  {
   "cell_type": "code",
   "execution_count": 11,
   "metadata": {},
   "outputs": [
    {
     "data": {
      "image/png": "[encoded data removed]",
      "text/plain": [
       "<matplotlib.figure.Figure at 0x11cb498d0>"
      ]
     },
     "metadata": {},
     "output_type": "display_data"
    }
   ],
   "source": [
    "plt.figure()\n",
    "sb.distplot(movies[\"actor_1_facebook_likes\"], label=\"actor_1_facebook_likes\")\n",
    "sb.distplot(movies[\"actor_2_facebook_likes\"], label=\"actor_2_facebook_likes\")\n",
    "sb.distplot(movies[\"actor_3_facebook_likes\"], label=\"actor_3_facebook_likes\")\n",
    "plt.legend();plt.xlabel(\"Actor Facebook Likes\")\n",
    "plt.xlim(0,30000);\n",
    "plt.show()"
   ]
  },
  {
   "cell_type": "markdown",
   "metadata": {},
   "source": [
    "Again, Actor's Facebook likes are distributed all over the place, need feature scaling"
   ]
  },
  {
   "cell_type": "markdown",
   "metadata": {},
   "source": [
    "**4. `cast_total_facebook_likes`, `movie_facebook_likes`: feature variables, numeric**"
   ]
  },
  {
   "cell_type": "code",
   "execution_count": 12,
   "metadata": {},
   "outputs": [
    {
     "data": {
      "image/png": "[encoded data removed]",
      "text/plain": [
       "<matplotlib.figure.Figure at 0x11ce46208>"
      ]
     },
     "metadata": {},
     "output_type": "display_data"
    }
   ],
   "source": [
    "plt.figure()\n",
    "sb.distplot(movies[\"cast_total_facebook_likes\"], label=\"cast_total_facebook_likes\")\n",
    "sb.distplot(movies[\"movie_facebook_likes\"], label=\"movie_facebook_likes\")\n",
    "plt.legend();plt.xlabel(\"Caste & Movie Facebook Likes\")\n",
    "plt.xlim(0,90000);plt.show()"
   ]
  },
  {
   "cell_type": "markdown",
   "metadata": {},
   "source": [
    "Observe that Caste and Movie Facebook Likes bears more or less similar statistical distribution curves"
   ]
  },
  {
   "cell_type": "markdown",
   "metadata": {},
   "source": [
    "**5. `num_critic_for_reviews`, `num_voted_users`, `num_user_for_reviews`: feature variables, numeric**"
   ]
  },
  {
   "cell_type": "code",
   "execution_count": 13,
   "metadata": {},
   "outputs": [
    {
     "data": {
      "image/png": "[encoded data removed]",
      "text/plain": [
       "<matplotlib.figure.Figure at 0x11d005b70>"
      ]
     },
     "metadata": {},
     "output_type": "display_data"
    }
   ],
   "source": [
    "plt.figure(figsize=(12,5))\n",
    "plt.subplot(1,3,1)\n",
    "sb.distplot(movies[\"num_critic_for_reviews\"], label=\"num_critic_for_reviews\")\n",
    "plt.subplot(1,3,2)\n",
    "sb.distplot(movies[\"num_voted_users\"], label=\"num_voted_users\")\n",
    "plt.subplot(1,3,3)\n",
    "sb.distplot(movies[\"num_user_for_reviews\"], label=\"num_user_for_reviews\")\n",
    "plt.tight_layout()\n",
    "plt.show()"
   ]
  },
  {
   "cell_type": "markdown",
   "metadata": {},
   "source": [
    "It is clear that the above features are not identically distributed, they do have significant variation among themselves. Lets include all of them in our models assuming they might contribute to predicting the `imdb_score`"
   ]
  },
  {
   "cell_type": "markdown",
   "metadata": {},
   "source": [
    "**6. `duration`, `gross`, `budget`, `aspect_ratio`: feature variables, numeric**"
   ]
  },
  {
   "cell_type": "code",
   "execution_count": 14,
   "metadata": {},
   "outputs": [
    {
     "data": {
      "image/png": "[encoded data removed]",
      "text/plain": [
       "<matplotlib.figure.Figure at 0x11cfec240>"
      ]
     },
     "metadata": {},
     "output_type": "display_data"
    }
   ],
   "source": [
    "plt.figure(figsize=(12,5))\n",
    "plt.subplot(1,2,1)\n",
    "sb.distplot(movies[\"duration\"], label=\"duration\")\n",
    "plt.subplot(1,2,2)\n",
    "sb.distplot(movies[\"gross\"], label=\"gross\")\n",
    "plt.tight_layout()\n",
    "plt.show()"
   ]
  },
  {
   "cell_type": "code",
   "execution_count": 15,
   "metadata": {},
   "outputs": [
    {
     "data": {
      "image/png": "[encoded data removed]",
      "text/plain": [
       "<matplotlib.figure.Figure at 0x11cd7c588>"
      ]
     },
     "metadata": {},
     "output_type": "display_data"
    }
   ],
   "source": [
    "plt.figure(figsize=(12,5))\n",
    "plt.subplot(1,3,1)\n",
    "sb.distplot(movies[\"budget\"], label=\"budget\")\n",
    "plt.xlim(0,0.1e10)\n",
    "plt.subplot(1,3,2)\n",
    "sb.distplot(movies[\"aspect_ratio\"], label=\"aspect_ratio\")\n",
    "plt.xlim(0,5)\n",
    "plt.subplot(1,3,3)\n",
    "sb.distplot(movies[\"facenumber_in_poster\"])\n",
    "plt.xlim(0,10)\n",
    "plt.tight_layout()\n",
    "plt.show()"
   ]
  },
  {
   "cell_type": "markdown",
   "metadata": {},
   "source": [
    "As is evidents from the plots, the above features possess high variance between themselves and might have some stories to tell. So lets include all of them in the model."
   ]
  },
  {
   "cell_type": "markdown",
   "metadata": {},
   "source": [
    "## Data Preprocessing : Feature engineering/Trimming down categorical features"
   ]
  },
  {
   "cell_type": "markdown",
   "metadata": {},
   "source": [
    "As with categorical variables, once they are one-hot encoded, tend to explode the feature space dimension. So lets anlayse each of them and trim down to reduced number of levels, if needed. The idea is to analyse the count plot of categories in each, and club together those with lesser numbers to a single category."
   ]
  },
  {
   "cell_type": "markdown",
   "metadata": {},
   "source": [
    "**1. `color`, feature variable, categorical **"
   ]
  },
  {
   "cell_type": "code",
   "execution_count": 16,
   "metadata": {},
   "outputs": [
    {
     "data": {
      "text/plain": [
       "<matplotlib.axes._subplots.AxesSubplot at 0x11d30b438>"
      ]
     },
     "execution_count": 16,
     "metadata": {},
     "output_type": "execute_result"
    },
    {
     "data": {
      "image/png": "[encoded data removed]",
      "text/plain": [
       "<matplotlib.figure.Figure at 0x11d222748>"
      ]
     },
     "metadata": {},
     "output_type": "display_data"
    }
   ],
   "source": [
    "sb.countplot(movies[\"color\"])"
   ]
  },
  {
   "cell_type": "markdown",
   "metadata": {},
   "source": [
    "The `color` feature has only two levels as above, with the Color level in huge numbers as expected. This does not inflate the feature space, so no trimming down required"
   ]
  },
  {
   "cell_type": "markdown",
   "metadata": {},
   "source": [
    "**2. `content_rating`, feature variable, categorical **"
   ]
  },
  {
   "cell_type": "code",
   "execution_count": 17,
   "metadata": {},
   "outputs": [
    {
     "data": {
      "text/plain": [
       "<matplotlib.axes._subplots.AxesSubplot at 0x11cfd0e10>"
      ]
     },
     "execution_count": 17,
     "metadata": {},
     "output_type": "execute_result"
    },
    {
     "data": {
      "image/png": "[encoded data removed]",
      "text/plain": [
       "<matplotlib.figure.Figure at 0x11d186c18>"
      ]
     },
     "metadata": {},
     "output_type": "display_data"
    }
   ],
   "source": [
    "movies[\"content_rating\"].value_counts().plot(kind ='bar', grid = True)"
   ]
  },
  {
   "cell_type": "markdown",
   "metadata": {},
   "source": [
    "Lets include `content_rating` variable as it has fewer categories "
   ]
  },
  {
   "cell_type": "markdown",
   "metadata": {},
   "source": [
    "**3. `country`, feature variable, categorical **"
   ]
  },
  {
   "cell_type": "code",
   "execution_count": 18,
   "metadata": {},
   "outputs": [
    {
     "data": {
      "text/plain": [
       "<matplotlib.axes._subplots.AxesSubplot at 0x11d4faf28>"
      ]
     },
     "execution_count": 18,
     "metadata": {},
     "output_type": "execute_result"
    },
    {
     "data": {
      "image/png": "[encoded data removed]",
      "text/plain": [
       "<matplotlib.figure.Figure at 0x11d5027f0>"
      ]
     },
     "metadata": {},
     "output_type": "display_data"
    }
   ],
   "source": [
    "plt.figure(figsize =(16,6))\n",
    "movies[\"country\"].value_counts().plot(kind ='bar', grid = True)"
   ]
  },
  {
   "cell_type": "markdown",
   "metadata": {},
   "source": [
    "Observe that for the `country` variable has too many levels, all of which if one-hot encoded can inflate the total number of variables. So the idea is to retain only those the levels having considerably large counts and trim down the rest (showing least amount of variability) into a single category, say `others`. Here, lets pick USA, UK, France, Germany and Canada, and categorize the rest to `others` level."
   ]
  },
  {
   "cell_type": "code",
   "execution_count": 19,
   "metadata": {},
   "outputs": [],
   "source": [
    "Country = []\n",
    "list = ['USA','UK','France','Germany','Canada']\n",
    "for item in movies['country']:\n",
    "    if item not in list :\n",
    "        Country.append('Others')\n",
    "    else:\n",
    "        Country.append(item)"
   ]
  },
  {
   "cell_type": "code",
   "execution_count": 20,
   "metadata": {},
   "outputs": [],
   "source": [
    "movies[\"country\"] = Country"
   ]
  },
  {
   "cell_type": "code",
   "execution_count": 21,
   "metadata": {},
   "outputs": [
    {
     "data": {
      "text/plain": [
       "USA        2987\n",
       "UK          318\n",
       "Others      211\n",
       "France      101\n",
       "Germany      80\n",
       "Canada       59\n",
       "Name: country, dtype: int64"
      ]
     },
     "execution_count": 21,
     "metadata": {},
     "output_type": "execute_result"
    }
   ],
   "source": [
    "movies[\"country\"].value_counts()"
   ]
  },
  {
   "cell_type": "markdown",
   "metadata": {},
   "source": [
    "This trims down our `country` variable to just 6 categories"
   ]
  },
  {
   "cell_type": "markdown",
   "metadata": {},
   "source": [
    "**4. `title_year`, feature variable, categorical **"
   ]
  },
  {
   "cell_type": "code",
   "execution_count": 22,
   "metadata": {},
   "outputs": [
    {
     "data": {
      "text/plain": [
       "<matplotlib.axes._subplots.AxesSubplot at 0x11cd9ecf8>"
      ]
     },
     "execution_count": 22,
     "metadata": {},
     "output_type": "execute_result"
    },
    {
     "data": {
      "image/png": "[encoded data removed]",
      "text/plain": [
       "<matplotlib.figure.Figure at 0x11ce35ef0>"
      ]
     },
     "metadata": {},
     "output_type": "display_data"
    }
   ],
   "source": [
    "plt.figure(figsize =(16,6))\n",
    "movies[\"title_year\"].value_counts().plot(kind = 'bar', grid = True)"
   ]
  },
  {
   "cell_type": "markdown",
   "metadata": {},
   "source": [
    "There are too many levels for the `title_year` variable, so lets create 4 categories based on title_year: Categ 1 : before 1970, Categ 2 : between 1970 and 1990, Categ 3 : between 1990 and 2010, Categ 4 : after 2010. "
   ]
  },
  {
   "cell_type": "code",
   "execution_count": 23,
   "metadata": {},
   "outputs": [],
   "source": [
    "Year_Categ = []\n",
    "for item in movies['title_year']:\n",
    "    if item <= 1970 :\n",
    "        Year_Categ.append('categ1')\n",
    "    elif item <= 1990:\n",
    "        Year_Categ.append('categ2')\n",
    "    elif item <= 2010:\n",
    "        Year_Categ.append('categ3')\n",
    "    else:\n",
    "        Year_Categ.append('categ4')"
   ]
  },
  {
   "cell_type": "code",
   "execution_count": 24,
   "metadata": {},
   "outputs": [
    {
     "data": {
      "text/plain": [
       "3756"
      ]
     },
     "execution_count": 24,
     "metadata": {},
     "output_type": "execute_result"
    }
   ],
   "source": [
    "len(Year_Categ)"
   ]
  },
  {
   "cell_type": "code",
   "execution_count": 25,
   "metadata": {},
   "outputs": [],
   "source": [
    "movies['title_year'] = Year_Categ"
   ]
  },
  {
   "cell_type": "code",
   "execution_count": 26,
   "metadata": {},
   "outputs": [
    {
     "data": {
      "text/plain": [
       "categ3    2599\n",
       "categ4     821\n",
       "categ2     287\n",
       "categ1      49\n",
       "Name: title_year, dtype: int64"
      ]
     },
     "execution_count": 26,
     "metadata": {},
     "output_type": "execute_result"
    }
   ],
   "source": [
    "movies['title_year'].value_counts()"
   ]
  },
  {
   "cell_type": "markdown",
   "metadata": {},
   "source": [
    "Thus our `title_year` variable is reduced to four categories"
   ]
  },
  {
   "cell_type": "markdown",
   "metadata": {},
   "source": [
    "**4. `language`, feature variable, categorical **"
   ]
  },
  {
   "cell_type": "code",
   "execution_count": 27,
   "metadata": {},
   "outputs": [
    {
     "data": {
      "text/plain": [
       "<matplotlib.axes._subplots.AxesSubplot at 0x11d2654a8>"
      ]
     },
     "execution_count": 27,
     "metadata": {},
     "output_type": "execute_result"
    },
    {
     "data": {
      "image/png": "[encoded data removed]",
      "text/plain": [
       "<matplotlib.figure.Figure at 0x11d25c940>"
      ]
     },
     "metadata": {},
     "output_type": "display_data"
    }
   ],
   "source": [
    "plt.figure(figsize =(16,6))\n",
    "plt.ylim(0,1500)\n",
    "movies[\"language\"].value_counts().plot(kind ='bar', grid =True)"
   ]
  },
  {
   "cell_type": "markdown",
   "metadata": {},
   "source": [
    "The `language` variable needs to be trimmed down just like the country variable. Lets choose English, French, Spanish and Mandarin and Others"
   ]
  },
  {
   "cell_type": "code",
   "execution_count": 28,
   "metadata": {
    "collapsed": true
   },
   "outputs": [],
   "source": [
    "Language = []\n",
    "list = ['English', 'French', 'Spanish','Mandarin']\n",
    "for item in movies['language']:\n",
    "    if item not in list :\n",
    "        Language.append('Others')\n",
    "    else:\n",
    "        Language.append(item)"
   ]
  },
  {
   "cell_type": "code",
   "execution_count": 29,
   "metadata": {},
   "outputs": [
    {
     "data": {
      "text/plain": [
       "3756"
      ]
     },
     "execution_count": 29,
     "metadata": {},
     "output_type": "execute_result"
    }
   ],
   "source": [
    "len(Language)"
   ]
  },
  {
   "cell_type": "code",
   "execution_count": 30,
   "metadata": {},
   "outputs": [],
   "source": [
    "movies['language'] = Language"
   ]
  },
  {
   "cell_type": "markdown",
   "metadata": {},
   "source": [
    "**5.`genres, plot_keywords, actor_1_name,actor_2_name, actor_3_name`**"
   ]
  },
  {
   "cell_type": "code",
   "execution_count": 31,
   "metadata": {},
   "outputs": [
    {
     "data": {
      "text/plain": [
       "alien friendship|alien invasion|australia|flying car|mother daughter relationship         3\n",
       "eighteen wheeler|illegal street racing|truck|trucker|undercover cop                       3\n",
       "animal name in title|ape abducts a woman|gorilla|island|king kong                         3\n",
       "1940s|child hero|fantasy world|orphan|reference to peter pan                              3\n",
       "halloween|masked killer|michael myers|slasher|trick or treat                              3\n",
       "assistant|experiment|frankenstein|medical student|scientist                               3\n",
       "duchess|illusionist|magician|prince|supernatural power                                    2\n",
       "coma|mysterious villain|police chase|shooting range|sniper                                2\n",
       "outcast|prom|self injury|telekinesis|tragic event                                         2\n",
       "bible quote|chaos|faith|riot|shrine                                                       2\n",
       "ghost|ghostbuster|ghostbusters|male objectification|reboot                                2\n",
       "coroner|death|gay son|love|mistaken identity                                              2\n",
       "church|cowboy boots|dancing|high school dance|teenager                                    2\n",
       "astronaut|cage|planet|wilhelm scream|year 2029                                            2\n",
       "police surveillance|surveillance van|tailing a suspect|tourist|venice italy               2\n",
       "dog|gambler|gambling|gangster|professor                                                   2\n",
       "gold|gold mine|miner|railroad|surveyor                                                    2\n",
       "cia|hezbollah|lebanon|oil|prince                                                          2\n",
       "19th century|around the world|inventor|martial arts|train                                 2\n",
       "arcade|bridge|disappearance|escape|warrior                                                2\n",
       "flashback|flashback within a flashback|multiple perspectives|obsession|split screen       2\n",
       "dodgeball|gym|las vegas|pirate|ups                                                        2\n",
       "afghanistan|death of soldier|presumed dead|prisoner|war trauma                            2\n",
       "freddy krueger|lucid dream|serial killer|slasher|sleep deprivation                        2\n",
       "based on book|blob|ferris wheel|manuscript|monster                                        2\n",
       "circus|magic|magician|oz|witch                                                            2\n",
       "kidnapping|lake|microwave oven|psychopath|woods                                           2\n",
       "basketball|basketball player|boarding school|love|shakespeare's othello                   2\n",
       "apartment|bully|fight|karate|master                                                       2\n",
       "disposing of a dead body|high school student|murder|sociopath|teenage boy                 2\n",
       "                                                                                         ..\n",
       "college football|fight|football|hero|surrender                                            1\n",
       "apprentice|disobeying orders|gas station|hitman|nightclub                                 1\n",
       "amnesia|chase|foot chase|strong female character|vomiting                                 1\n",
       "bikini|female female kiss|high school reunion|outdoor sex|upskirt                         1\n",
       "age difference|courtesan|mansion|marriage|prostitute                                      1\n",
       "african american stereotype|car wash|rent|roommate|threatening telephone call             1\n",
       "breasts|jealousy|obsession|sex scene|spiritual                                            1\n",
       "commune|defecation|environmentalism|fellatio|island                                       1\n",
       "boy|german soldier|partisan|trapped|village                                               1\n",
       "cheerleader|geek|high school|prison|reference to janet jackson                            1\n",
       "conclave|illuminati|murder|reference to bernini|reference to raphael                      1\n",
       "amusement park|dog|family vacation|national lampoon series|vacation                       1\n",
       "child beauty pageant|grandson|hidden camera|jackass|road trip                             1\n",
       "gold|hurricane|island|mountain|mysterious island                                          1\n",
       "marriage|novelist|panties pulled down|writer's block|writing                              1\n",
       "betrayal|dangerous friend|gothic|monster as victim|vampire                                1\n",
       "blood|book|love|potion|professor                                                          1\n",
       "blow job|female rear nudity|girl in panties|male objectification|no panties               1\n",
       "epic|genghis khan|one word title|slave|starving                                           1\n",
       "baseball|baseball player|night|rivalry|summer                                             1\n",
       "childbirth|christmas|gay slur|infidelity|punched in the nose                              1\n",
       "ambassador|american|art|english|italy                                                     1\n",
       "capital management|financial crisis|financial disaster|investment fraud|management        1\n",
       "boss|communications|computer|genius|job                                                   1\n",
       "assassin|betrayal|fbi|fbi agent|yakuza                                                    1\n",
       "casino|father son relationship|jackpot|judge|wedding                                      1\n",
       "dolphin|island|research|tourist|town                                                      1\n",
       "first part|mutant|professor|superhero|superhero team                                      1\n",
       "attic|christmas|house|incest|sorority                                                     1\n",
       "fame|father son relationship|interracial kiss|interracial relationship|interracial sex    1\n",
       "Name: plot_keywords, Length: 3656, dtype: int64"
      ]
     },
     "execution_count": 31,
     "metadata": {},
     "output_type": "execute_result"
    }
   ],
   "source": [
    "movies[\"plot_keywords\"].value_counts()"
   ]
  },
  {
   "cell_type": "code",
   "execution_count": 32,
   "metadata": {},
   "outputs": [
    {
     "data": {
      "text/plain": [
       "Robert De Niro            42\n",
       "Johnny Depp               39\n",
       "Nicolas Cage              31\n",
       "J.K. Simmons              31\n",
       "Denzel Washington         30\n",
       "Bruce Willis              29\n",
       "Matt Damon                28\n",
       "Liam Neeson               26\n",
       "Robert Downey Jr.         26\n",
       "Harrison Ford             25\n",
       "Jason Statham             25\n",
       "Robin Williams            25\n",
       "Tom Hanks                 24\n",
       "Steve Buscemi             24\n",
       "Tom Cruise                24\n",
       "Keanu Reeves              24\n",
       "Bill Murray               24\n",
       "Morgan Freeman            22\n",
       "Christian Bale            22\n",
       "Kevin Spacey              22\n",
       "Leonardo DiCaprio         21\n",
       "Hugh Jackman              21\n",
       "Will Ferrell              20\n",
       "Matthew McConaughey       20\n",
       "Gerard Butler             19\n",
       "Will Smith                19\n",
       "Dwayne Johnson            19\n",
       "Scarlett Johansson        19\n",
       "Anthony Hopkins           18\n",
       "Philip Seymour Hoffman    17\n",
       "                          ..\n",
       "Alessandro Nivola          1\n",
       "Tzi Ma                     1\n",
       "Honor Blackman             1\n",
       "Eddie Cahill               1\n",
       "Eoin Macken                1\n",
       "Pfeifer Brown              1\n",
       "Monica Potter              1\n",
       "Jeff Kober                 1\n",
       "Noah Emmerich              1\n",
       "Meg Foster                 1\n",
       "Isabelle Huppert           1\n",
       "John Cameron Mitchell      1\n",
       "Mei Melançon               1\n",
       "James Babson               1\n",
       "Lili Taylor                1\n",
       "Jordana Spiro              1\n",
       "Marie-Josée Croze          1\n",
       "Keenan Wynn                1\n",
       "Isabelle Adjani            1\n",
       "Jon Seda                   1\n",
       "Gladys Cooper              1\n",
       "Toni Servillo              1\n",
       "Claude Rains               1\n",
       "Aunjanue Ellis             1\n",
       "Warren Beatty              1\n",
       "Kevin Rankin               1\n",
       "Jonathan D. Mellor         1\n",
       "Claudia Christian          1\n",
       "Kenneth Tobey              1\n",
       "Haley Ramm                 1\n",
       "Name: actor_1_name, Length: 1428, dtype: int64"
      ]
     },
     "execution_count": 32,
     "metadata": {},
     "output_type": "execute_result"
    }
   ],
   "source": [
    "movies[\"actor_1_name\"].value_counts() "
   ]
  },
  {
   "cell_type": "code",
   "execution_count": 33,
   "metadata": {},
   "outputs": [
    {
     "data": {
      "text/plain": [
       "Steven Spielberg         25\n",
       "Woody Allen              19\n",
       "Clint Eastwood           19\n",
       "Ridley Scott             17\n",
       "Tim Burton               16\n",
       "Steven Soderbergh        16\n",
       "Martin Scorsese          16\n",
       "Renny Harlin             15\n",
       "Spike Lee                15\n",
       "John Carpenter           13\n",
       "Robert Rodriguez         13\n",
       "Barry Levinson           13\n",
       "Oliver Stone             13\n",
       "Robert Zemeckis          13\n",
       "Ron Howard               13\n",
       "Michael Bay              13\n",
       "Shawn Levy               12\n",
       "Tony Scott               12\n",
       "Sam Raimi                12\n",
       "Wes Craven               12\n",
       "Joel Schumacher          12\n",
       "Richard Linklater        11\n",
       "Chris Columbus           11\n",
       "Rob Cohen                11\n",
       "Rob Reiner               11\n",
       "Peter Jackson            11\n",
       "Paul W.S. Anderson       10\n",
       "Kevin Smith              10\n",
       "David Fincher            10\n",
       "Brett Ratner             10\n",
       "                         ..\n",
       "Gonzalo López-Gallego     1\n",
       "Allen Coulter             1\n",
       "Rich Cowan                1\n",
       "Joseph Sargent            1\n",
       "Duke Johnson              1\n",
       "Vincent Ward              1\n",
       "Jill Sprecher             1\n",
       "Asghar Farhadi            1\n",
       "Martin Lawrence           1\n",
       "John Ottman               1\n",
       "Rob Hedden                1\n",
       "Goran Dukic               1\n",
       "Mike McCoy                1\n",
       "Paul Gross                1\n",
       "P.J. Hogan                1\n",
       "Robert Stromberg          1\n",
       "Wallace Wolodarsky        1\n",
       "Daniel Lee                1\n",
       "Frederik Du Chau          1\n",
       "Chris Eyre                1\n",
       "Marc Schölermann          1\n",
       "Demian Lichtenstein       1\n",
       "Rick Rosenthal            1\n",
       "Tony Bancroft             1\n",
       "Terry George              1\n",
       "James Bridges             1\n",
       "Antonia Bird              1\n",
       "Billy Wilder              1\n",
       "Robert Ben Garant         1\n",
       "François Truffaut         1\n",
       "Name: director_name, Length: 1659, dtype: int64"
      ]
     },
     "execution_count": 33,
     "metadata": {},
     "output_type": "execute_result"
    }
   ],
   "source": [
    "movies['director_name'].value_counts()"
   ]
  },
  {
   "cell_type": "markdown",
   "metadata": {},
   "source": [
    "Observe that variables `genres`,  `plot_keywords`,  `actor_1_name`, `actor_2_name`, `actor_3_name`, `director_name`,  `movie_title`  and `movie_imdb_link`  has too many categories to deal with. Lets omit them for the sake of simplicity."
   ]
  },
  {
   "cell_type": "markdown",
   "metadata": {},
   "source": [
    "## Data Preprocessing : Categorical Encoding"
   ]
  },
  {
   "cell_type": "markdown",
   "metadata": {},
   "source": [
    "The recipes for the DataFrame is ready. Lets now create X (the features) and y(target) variables."
   ]
  },
  {
   "cell_type": "code",
   "execution_count": 34,
   "metadata": {},
   "outputs": [],
   "source": [
    "X = movies.drop(['genres', 'plot_keywords', 'director_name','actor_1_name','actor_2_name', 'actor_3_name','movie_title','imdb_score','movie_imdb_link'], axis = 1)\n",
    "y = movies['imdb_score']"
   ]
  },
  {
   "cell_type": "markdown",
   "metadata": {},
   "source": [
    "Now one-hot encode the categorical variables using the `get_dummies` in Pandas"
   ]
  },
  {
   "cell_type": "code",
   "execution_count": 35,
   "metadata": {
    "collapsed": true
   },
   "outputs": [],
   "source": [
    "categorical = ['color','content_rating', 'country','title_year', 'language']\n",
    "categorical_variables = categorical\n",
    "X = pd.get_dummies(X, columns = categorical_variables)"
   ]
  },
  {
   "cell_type": "code",
   "execution_count": 36,
   "metadata": {},
   "outputs": [
    {
     "data": {
      "text/html": [
       "<div>\n",
       "<style>\n",
       "    .dataframe thead tr:only-child th {\n",
       "        text-align: right;\n",
       "    }\n",
       "\n",
       "    .dataframe thead th {\n",
       "        text-align: left;\n",
       "    }\n",
       "\n",
       "    .dataframe tbody tr th {\n",
       "        vertical-align: top;\n",
       "    }\n",
       "</style>\n",
       "<table border=\"1\" class=\"dataframe\">\n",
       "  <thead>\n",
       "    <tr style=\"text-align: right;\">\n",
       "      <th></th>\n",
       "      <th>num_critic_for_reviews</th>\n",
       "      <th>duration</th>\n",
       "      <th>director_facebook_likes</th>\n",
       "      <th>actor_3_facebook_likes</th>\n",
       "      <th>actor_1_facebook_likes</th>\n",
       "      <th>gross</th>\n",
       "      <th>num_voted_users</th>\n",
       "      <th>cast_total_facebook_likes</th>\n",
       "      <th>facenumber_in_poster</th>\n",
       "      <th>num_user_for_reviews</th>\n",
       "      <th>...</th>\n",
       "      <th>country_USA</th>\n",
       "      <th>title_year_categ1</th>\n",
       "      <th>title_year_categ2</th>\n",
       "      <th>title_year_categ3</th>\n",
       "      <th>title_year_categ4</th>\n",
       "      <th>language_English</th>\n",
       "      <th>language_French</th>\n",
       "      <th>language_Mandarin</th>\n",
       "      <th>language_Others</th>\n",
       "      <th>language_Spanish</th>\n",
       "    </tr>\n",
       "  </thead>\n",
       "  <tbody>\n",
       "    <tr>\n",
       "      <th>count</th>\n",
       "      <td>3756.000000</td>\n",
       "      <td>3756.000000</td>\n",
       "      <td>3756.000000</td>\n",
       "      <td>3756.000000</td>\n",
       "      <td>3756.000000</td>\n",
       "      <td>3.756000e+03</td>\n",
       "      <td>3.756000e+03</td>\n",
       "      <td>3756.000000</td>\n",
       "      <td>3756.000000</td>\n",
       "      <td>3756.000000</td>\n",
       "      <td>...</td>\n",
       "      <td>3756.000000</td>\n",
       "      <td>3756.000000</td>\n",
       "      <td>3756.000000</td>\n",
       "      <td>3756.000000</td>\n",
       "      <td>3756.000000</td>\n",
       "      <td>3756.000000</td>\n",
       "      <td>3756.000000</td>\n",
       "      <td>3756.000000</td>\n",
       "      <td>3756.000000</td>\n",
       "      <td>3756.000000</td>\n",
       "    </tr>\n",
       "    <tr>\n",
       "      <th>mean</th>\n",
       "      <td>167.378328</td>\n",
       "      <td>110.257987</td>\n",
       "      <td>807.336528</td>\n",
       "      <td>771.279553</td>\n",
       "      <td>7751.338658</td>\n",
       "      <td>5.261282e+07</td>\n",
       "      <td>1.058267e+05</td>\n",
       "      <td>11527.101970</td>\n",
       "      <td>1.377263</td>\n",
       "      <td>336.843184</td>\n",
       "      <td>...</td>\n",
       "      <td>0.795261</td>\n",
       "      <td>0.013046</td>\n",
       "      <td>0.076411</td>\n",
       "      <td>0.691960</td>\n",
       "      <td>0.218584</td>\n",
       "      <td>0.957934</td>\n",
       "      <td>0.009052</td>\n",
       "      <td>0.003994</td>\n",
       "      <td>0.022897</td>\n",
       "      <td>0.006124</td>\n",
       "    </tr>\n",
       "    <tr>\n",
       "      <th>std</th>\n",
       "      <td>123.452040</td>\n",
       "      <td>22.646717</td>\n",
       "      <td>3068.171683</td>\n",
       "      <td>1894.249869</td>\n",
       "      <td>15519.339621</td>\n",
       "      <td>7.031787e+07</td>\n",
       "      <td>1.520354e+05</td>\n",
       "      <td>19122.176905</td>\n",
       "      <td>2.041541</td>\n",
       "      <td>411.227368</td>\n",
       "      <td>...</td>\n",
       "      <td>0.403565</td>\n",
       "      <td>0.113486</td>\n",
       "      <td>0.265690</td>\n",
       "      <td>0.461745</td>\n",
       "      <td>0.413340</td>\n",
       "      <td>0.200767</td>\n",
       "      <td>0.094724</td>\n",
       "      <td>0.063077</td>\n",
       "      <td>0.149594</td>\n",
       "      <td>0.078023</td>\n",
       "    </tr>\n",
       "    <tr>\n",
       "      <th>min</th>\n",
       "      <td>2.000000</td>\n",
       "      <td>37.000000</td>\n",
       "      <td>0.000000</td>\n",
       "      <td>0.000000</td>\n",
       "      <td>0.000000</td>\n",
       "      <td>1.620000e+02</td>\n",
       "      <td>9.100000e+01</td>\n",
       "      <td>0.000000</td>\n",
       "      <td>0.000000</td>\n",
       "      <td>4.000000</td>\n",
       "      <td>...</td>\n",
       "      <td>0.000000</td>\n",
       "      <td>0.000000</td>\n",
       "      <td>0.000000</td>\n",
       "      <td>0.000000</td>\n",
       "      <td>0.000000</td>\n",
       "      <td>0.000000</td>\n",
       "      <td>0.000000</td>\n",
       "      <td>0.000000</td>\n",
       "      <td>0.000000</td>\n",
       "      <td>0.000000</td>\n",
       "    </tr>\n",
       "    <tr>\n",
       "      <th>25%</th>\n",
       "      <td>77.000000</td>\n",
       "      <td>96.000000</td>\n",
       "      <td>11.000000</td>\n",
       "      <td>194.000000</td>\n",
       "      <td>745.000000</td>\n",
       "      <td>8.270233e+06</td>\n",
       "      <td>1.966700e+04</td>\n",
       "      <td>1919.750000</td>\n",
       "      <td>0.000000</td>\n",
       "      <td>110.000000</td>\n",
       "      <td>...</td>\n",
       "      <td>1.000000</td>\n",
       "      <td>0.000000</td>\n",
       "      <td>0.000000</td>\n",
       "      <td>0.000000</td>\n",
       "      <td>0.000000</td>\n",
       "      <td>1.000000</td>\n",
       "      <td>0.000000</td>\n",
       "      <td>0.000000</td>\n",
       "      <td>0.000000</td>\n",
       "      <td>0.000000</td>\n",
       "    </tr>\n",
       "    <tr>\n",
       "      <th>50%</th>\n",
       "      <td>138.500000</td>\n",
       "      <td>106.000000</td>\n",
       "      <td>64.000000</td>\n",
       "      <td>436.000000</td>\n",
       "      <td>1000.000000</td>\n",
       "      <td>3.009311e+07</td>\n",
       "      <td>5.397350e+04</td>\n",
       "      <td>4059.500000</td>\n",
       "      <td>1.000000</td>\n",
       "      <td>210.000000</td>\n",
       "      <td>...</td>\n",
       "      <td>1.000000</td>\n",
       "      <td>0.000000</td>\n",
       "      <td>0.000000</td>\n",
       "      <td>1.000000</td>\n",
       "      <td>0.000000</td>\n",
       "      <td>1.000000</td>\n",
       "      <td>0.000000</td>\n",
       "      <td>0.000000</td>\n",
       "      <td>0.000000</td>\n",
       "      <td>0.000000</td>\n",
       "    </tr>\n",
       "    <tr>\n",
       "      <th>75%</th>\n",
       "      <td>224.000000</td>\n",
       "      <td>120.000000</td>\n",
       "      <td>235.000000</td>\n",
       "      <td>691.000000</td>\n",
       "      <td>13000.000000</td>\n",
       "      <td>6.688194e+07</td>\n",
       "      <td>1.286020e+05</td>\n",
       "      <td>16240.000000</td>\n",
       "      <td>2.000000</td>\n",
       "      <td>398.250000</td>\n",
       "      <td>...</td>\n",
       "      <td>1.000000</td>\n",
       "      <td>0.000000</td>\n",
       "      <td>0.000000</td>\n",
       "      <td>1.000000</td>\n",
       "      <td>0.000000</td>\n",
       "      <td>1.000000</td>\n",
       "      <td>0.000000</td>\n",
       "      <td>0.000000</td>\n",
       "      <td>0.000000</td>\n",
       "      <td>0.000000</td>\n",
       "    </tr>\n",
       "    <tr>\n",
       "      <th>max</th>\n",
       "      <td>813.000000</td>\n",
       "      <td>330.000000</td>\n",
       "      <td>23000.000000</td>\n",
       "      <td>23000.000000</td>\n",
       "      <td>640000.000000</td>\n",
       "      <td>7.605058e+08</td>\n",
       "      <td>1.689764e+06</td>\n",
       "      <td>656730.000000</td>\n",
       "      <td>43.000000</td>\n",
       "      <td>5060.000000</td>\n",
       "      <td>...</td>\n",
       "      <td>1.000000</td>\n",
       "      <td>1.000000</td>\n",
       "      <td>1.000000</td>\n",
       "      <td>1.000000</td>\n",
       "      <td>1.000000</td>\n",
       "      <td>1.000000</td>\n",
       "      <td>1.000000</td>\n",
       "      <td>1.000000</td>\n",
       "      <td>1.000000</td>\n",
       "      <td>1.000000</td>\n",
       "    </tr>\n",
       "  </tbody>\n",
       "</table>\n",
       "<p>8 rows × 43 columns</p>\n",
       "</div>"
      ],
      "text/plain": [
       "       num_critic_for_reviews     duration  director_facebook_likes  \\\n",
       "count             3756.000000  3756.000000              3756.000000   \n",
       "mean               167.378328   110.257987               807.336528   \n",
       "std                123.452040    22.646717              3068.171683   \n",
       "min                  2.000000    37.000000                 0.000000   \n",
       "25%                 77.000000    96.000000                11.000000   \n",
       "50%                138.500000   106.000000                64.000000   \n",
       "75%                224.000000   120.000000               235.000000   \n",
       "max                813.000000   330.000000             23000.000000   \n",
       "\n",
       "       actor_3_facebook_likes  actor_1_facebook_likes         gross  \\\n",
       "count             3756.000000             3756.000000  3.756000e+03   \n",
       "mean               771.279553             7751.338658  5.261282e+07   \n",
       "std               1894.249869            15519.339621  7.031787e+07   \n",
       "min                  0.000000                0.000000  1.620000e+02   \n",
       "25%                194.000000              745.000000  8.270233e+06   \n",
       "50%                436.000000             1000.000000  3.009311e+07   \n",
       "75%                691.000000            13000.000000  6.688194e+07   \n",
       "max              23000.000000           640000.000000  7.605058e+08   \n",
       "\n",
       "       num_voted_users  cast_total_facebook_likes  facenumber_in_poster  \\\n",
       "count     3.756000e+03                3756.000000           3756.000000   \n",
       "mean      1.058267e+05               11527.101970              1.377263   \n",
       "std       1.520354e+05               19122.176905              2.041541   \n",
       "min       9.100000e+01                   0.000000              0.000000   \n",
       "25%       1.966700e+04                1919.750000              0.000000   \n",
       "50%       5.397350e+04                4059.500000              1.000000   \n",
       "75%       1.286020e+05               16240.000000              2.000000   \n",
       "max       1.689764e+06              656730.000000             43.000000   \n",
       "\n",
       "       num_user_for_reviews        ...         country_USA  title_year_categ1  \\\n",
       "count           3756.000000        ...         3756.000000        3756.000000   \n",
       "mean             336.843184        ...            0.795261           0.013046   \n",
       "std              411.227368        ...            0.403565           0.113486   \n",
       "min                4.000000        ...            0.000000           0.000000   \n",
       "25%              110.000000        ...            1.000000           0.000000   \n",
       "50%              210.000000        ...            1.000000           0.000000   \n",
       "75%              398.250000        ...            1.000000           0.000000   \n",
       "max             5060.000000        ...            1.000000           1.000000   \n",
       "\n",
       "       title_year_categ2  title_year_categ3  title_year_categ4  \\\n",
       "count        3756.000000        3756.000000        3756.000000   \n",
       "mean            0.076411           0.691960           0.218584   \n",
       "std             0.265690           0.461745           0.413340   \n",
       "min             0.000000           0.000000           0.000000   \n",
       "25%             0.000000           0.000000           0.000000   \n",
       "50%             0.000000           1.000000           0.000000   \n",
       "75%             0.000000           1.000000           0.000000   \n",
       "max             1.000000           1.000000           1.000000   \n",
       "\n",
       "       language_English  language_French  language_Mandarin  language_Others  \\\n",
       "count       3756.000000      3756.000000        3756.000000      3756.000000   \n",
       "mean           0.957934         0.009052           0.003994         0.022897   \n",
       "std            0.200767         0.094724           0.063077         0.149594   \n",
       "min            0.000000         0.000000           0.000000         0.000000   \n",
       "25%            1.000000         0.000000           0.000000         0.000000   \n",
       "50%            1.000000         0.000000           0.000000         0.000000   \n",
       "75%            1.000000         0.000000           0.000000         0.000000   \n",
       "max            1.000000         1.000000           1.000000         1.000000   \n",
       "\n",
       "       language_Spanish  \n",
       "count       3756.000000  \n",
       "mean           0.006124  \n",
       "std            0.078023  \n",
       "min            0.000000  \n",
       "25%            0.000000  \n",
       "50%            0.000000  \n",
       "75%            0.000000  \n",
       "max            1.000000  \n",
       "\n",
       "[8 rows x 43 columns]"
      ]
     },
     "execution_count": 36,
     "metadata": {},
     "output_type": "execute_result"
    }
   ],
   "source": [
    "X.describe()"
   ]
  },
  {
   "cell_type": "markdown",
   "metadata": {},
   "source": [
    "We are thus finally left with a total of 43 features in the feature space, X."
   ]
  },
  {
   "cell_type": "markdown",
   "metadata": {},
   "source": [
    "## Data Preprocessing : Feature Scaling"
   ]
  },
  {
   "cell_type": "markdown",
   "metadata": {},
   "source": [
    "Since the domain of feature variables is wide, feature scaling is necessary for better performance of our algorithms. Lets use a `StandardScaler`"
   ]
  },
  {
   "cell_type": "code",
   "execution_count": 37,
   "metadata": {},
   "outputs": [],
   "source": [
    "# Feature Scaling\n",
    "from sklearn.preprocessing import StandardScaler\n",
    "sc = StandardScaler()\n",
    "X = sc.fit_transform(X)"
   ]
  },
  {
   "cell_type": "markdown",
   "metadata": {},
   "source": [
    "## Deep Learning for Regression using TensorFlow in Keras"
   ]
  },
  {
   "cell_type": "markdown",
   "metadata": {},
   "source": [
    "Lets split the scaled data into training and test sets. For Deep Learning, lets give a split in the ratio 95%:5%"
   ]
  },
  {
   "cell_type": "code",
   "execution_count": 57,
   "metadata": {
    "collapsed": true
   },
   "outputs": [],
   "source": [
    "# Splitting the dataset into the Training set and Test set\n",
    "from sklearn.model_selection import train_test_split\n",
    "X_train, X_test, y_train, y_test = train_test_split(X, y, test_size = 0.05, random_state = 1234)"
   ]
  },
  {
   "cell_type": "code",
   "execution_count": 58,
   "metadata": {
    "collapsed": true
   },
   "outputs": [],
   "source": [
    "learning_rate = 0.001\n",
    "num_epochs = 100\n",
    "n_input = 32\n",
    "n_hidden = 6"
   ]
  },
  {
   "cell_type": "markdown",
   "metadata": {},
   "source": [
    "Now import tensorflow, its high-level wrapper, Keras and other libraries"
   ]
  },
  {
   "cell_type": "code",
   "execution_count": 61,
   "metadata": {},
   "outputs": [],
   "source": [
    "import tensorflow as tf\n",
    "from keras.models import Sequential\n",
    "from keras.layers import Dense, Dropout\n",
    "from keras.layers.normalization import BatchNormalization\n",
    "tf.logging.set_verbosity(tf.logging.INFO)"
   ]
  },
  {
   "cell_type": "code",
   "execution_count": 62,
   "metadata": {},
   "outputs": [
    {
     "name": "stdout",
     "output_type": "stream",
     "text": [
      "Shape of X_train:  (3568, 43)\n",
      "Shape of y_train:  (3568,)\n",
      "Shape of X_test:  (188, 43)\n",
      "Shape of y_test:  (188,)\n"
     ]
    }
   ],
   "source": [
    "print(\"Shape of X_train: \", X_train.shape)\n",
    "print(\"Shape of y_train: \", y_train.shape)\n",
    "print(\"Shape of X_test: \", X_test.shape)\n",
    "print(\"Shape of y_test: \", y_test.shape)"
   ]
  },
  {
   "cell_type": "code",
   "execution_count": 63,
   "metadata": {},
   "outputs": [],
   "source": [
    "# create model\n",
    "model = Sequential()\n",
    "model.add(Dense(32, input_dim=43, activation='relu'))\n",
    "model.add(BatchNormalization())\n",
    "#model.add(Dropout(rate = 0.5))\n",
    "model.add(Dense(6, activation='relu'))\n",
    "model.add(Dense(1, activation='linear'))\n",
    "# Compile model\n",
    "model.compile(loss='mse',metrics=['mse'],optimizer='adam')"
   ]
  },
  {
   "cell_type": "code",
   "execution_count": 64,
   "metadata": {},
   "outputs": [
    {
     "name": "stdout",
     "output_type": "stream",
     "text": [
      "_________________________________________________________________\n",
      "Layer (type)                 Output Shape              Param #   \n",
      "=================================================================\n",
      "dense_1 (Dense)              (None, 32)                1408      \n",
      "_________________________________________________________________\n",
      "batch_normalization_1 (Batch (None, 32)                128       \n",
      "_________________________________________________________________\n",
      "dense_2 (Dense)              (None, 6)                 198       \n",
      "_________________________________________________________________\n",
      "dense_3 (Dense)              (None, 1)                 7         \n",
      "=================================================================\n",
      "Total params: 1,741\n",
      "Trainable params: 1,677\n",
      "Non-trainable params: 64\n",
      "_________________________________________________________________\n"
     ]
    }
   ],
   "source": [
    "model.summary()"
   ]
  },
  {
   "cell_type": "code",
   "execution_count": 65,
   "metadata": {},
   "outputs": [
    {
     "name": "stdout",
     "output_type": "stream",
     "text": [
      "Epoch 1/100\n",
      "3568/3568 [==============================] - 1s 202us/step - loss: 24.8700 - mean_squared_error: 24.8700\n",
      "Epoch 2/100\n",
      "3568/3568 [==============================] - 1s 146us/step - loss: 8.5437 - mean_squared_error: 8.5437\n",
      "Epoch 3/100\n",
      "3568/3568 [==============================] - 0s 131us/step - loss: 3.1292 - mean_squared_error: 3.1292\n",
      "Epoch 4/100\n",
      "3568/3568 [==============================] - 1s 145us/step - loss: 2.2187 - mean_squared_error: 2.2187\n",
      "Epoch 5/100\n",
      "3568/3568 [==============================] - ETA: 0s - loss: 1.6984 - mean_squared_error: 1.69 - 0s 132us/step - loss: 1.7022 - mean_squared_error: 1.7022\n",
      "Epoch 6/100\n",
      "3568/3568 [==============================] - 0s 120us/step - loss: 1.5986 - mean_squared_error: 1.5986\n",
      "Epoch 7/100\n",
      "3568/3568 [==============================] - 0s 120us/step - loss: 1.3653 - mean_squared_error: 1.3653\n",
      "Epoch 8/100\n",
      "3568/3568 [==============================] - 1s 143us/step - loss: 1.3308 - mean_squared_error: 1.3308\n",
      "Epoch 9/100\n",
      "3568/3568 [==============================] - 1s 160us/step - loss: 1.1951 - mean_squared_error: 1.1951\n",
      "Epoch 10/100\n",
      "3568/3568 [==============================] - 1s 147us/step - loss: 1.2143 - mean_squared_error: 1.2143\n",
      "Epoch 11/100\n",
      "3568/3568 [==============================] - 0s 137us/step - loss: 1.1279 - mean_squared_error: 1.1279\n",
      "Epoch 12/100\n",
      "3568/3568 [==============================] - 0s 126us/step - loss: 1.0443 - mean_squared_error: 1.0443\n",
      "Epoch 13/100\n",
      "3568/3568 [==============================] - 0s 124us/step - loss: 1.0357 - mean_squared_error: 1.0357\n",
      "Epoch 14/100\n",
      "3568/3568 [==============================] - 1s 146us/step - loss: 0.9688 - mean_squared_error: 0.9688\n",
      "Epoch 15/100\n",
      "3568/3568 [==============================] - 1s 156us/step - loss: 0.9404 - mean_squared_error: 0.9404\n",
      "Epoch 16/100\n",
      "3568/3568 [==============================] - 1s 141us/step - loss: 0.8414 - mean_squared_error: 0.8414\n",
      "Epoch 17/100\n",
      "3568/3568 [==============================] - 0s 129us/step - loss: 0.8709 - mean_squared_error: 0.8709\n",
      "Epoch 18/100\n",
      "3568/3568 [==============================] - 0s 138us/step - loss: 0.8354 - mean_squared_error: 0.83540s - loss: 0.8324 - mean_squar\n",
      "Epoch 19/100\n",
      "3568/3568 [==============================] - 1s 141us/step - loss: 0.8208 - mean_squared_error: 0.8208\n",
      "Epoch 20/100\n",
      "3568/3568 [==============================] - 1s 155us/step - loss: 0.7981 - mean_squared_error: 0.7981\n",
      "Epoch 21/100\n",
      "3568/3568 [==============================] - 1s 151us/step - loss: 0.7738 - mean_squared_error: 0.7738\n",
      "Epoch 22/100\n",
      "3568/3568 [==============================] - 1s 144us/step - loss: 0.7669 - mean_squared_error: 0.7669\n",
      "Epoch 23/100\n",
      "3568/3568 [==============================] - 1s 150us/step - loss: 0.7550 - mean_squared_error: 0.7550\n",
      "Epoch 24/100\n",
      "3568/3568 [==============================] - 1s 148us/step - loss: 0.7215 - mean_squared_error: 0.7215\n",
      "Epoch 25/100\n",
      "3568/3568 [==============================] - 1s 150us/step - loss: 0.7218 - mean_squared_error: 0.7218\n",
      "Epoch 26/100\n",
      "3568/3568 [==============================] - 1s 142us/step - loss: 0.7122 - mean_squared_error: 0.7122\n",
      "Epoch 27/100\n",
      "3568/3568 [==============================] - 1s 156us/step - loss: 0.7425 - mean_squared_error: 0.7425\n",
      "Epoch 28/100\n",
      "3568/3568 [==============================] - 1s 152us/step - loss: 0.6877 - mean_squared_error: 0.6877\n",
      "Epoch 29/100\n",
      "3568/3568 [==============================] - 0s 137us/step - loss: 0.6689 - mean_squared_error: 0.6689\n",
      "Epoch 30/100\n",
      "3568/3568 [==============================] - 1s 149us/step - loss: 0.6972 - mean_squared_error: 0.6972\n",
      "Epoch 31/100\n",
      "3568/3568 [==============================] - 1s 143us/step - loss: 0.6406 - mean_squared_error: 0.6406\n",
      "Epoch 32/100\n",
      "3568/3568 [==============================] - 0s 140us/step - loss: 0.6459 - mean_squared_error: 0.6459\n",
      "Epoch 33/100\n",
      "3568/3568 [==============================] - 1s 144us/step - loss: 0.6696 - mean_squared_error: 0.6696\n",
      "Epoch 34/100\n",
      "3568/3568 [==============================] - 0s 128us/step - loss: 0.6710 - mean_squared_error: 0.6710\n",
      "Epoch 35/100\n",
      "3568/3568 [==============================] - 1s 156us/step - loss: 0.6345 - mean_squared_error: 0.6345\n",
      "Epoch 36/100\n",
      "3568/3568 [==============================] - 1s 152us/step - loss: 0.6192 - mean_squared_error: 0.6192\n",
      "Epoch 37/100\n",
      "3568/3568 [==============================] - 0s 139us/step - loss: 0.6321 - mean_squared_error: 0.6321\n",
      "Epoch 38/100\n",
      "3568/3568 [==============================] - 1s 157us/step - loss: 0.6211 - mean_squared_error: 0.6211\n",
      "Epoch 39/100\n",
      "3568/3568 [==============================] - 0s 136us/step - loss: 0.6209 - mean_squared_error: 0.6209\n",
      "Epoch 40/100\n",
      "3568/3568 [==============================] - 0s 128us/step - loss: 0.6322 - mean_squared_error: 0.6322\n",
      "Epoch 41/100\n",
      "3568/3568 [==============================] - 1s 152us/step - loss: 0.5935 - mean_squared_error: 0.5935\n",
      "Epoch 42/100\n",
      "3568/3568 [==============================] - 0s 130us/step - loss: 0.5944 - mean_squared_error: 0.5944\n",
      "Epoch 43/100\n",
      "3568/3568 [==============================] - 1s 145us/step - loss: 0.6207 - mean_squared_error: 0.6207\n",
      "Epoch 44/100\n",
      "3568/3568 [==============================] - 1s 143us/step - loss: 0.6066 - mean_squared_error: 0.6066\n",
      "Epoch 45/100\n",
      "3568/3568 [==============================] - 0s 116us/step - loss: 0.5799 - mean_squared_error: 0.5799\n",
      "Epoch 46/100\n",
      "3568/3568 [==============================] - 1s 146us/step - loss: 0.6082 - mean_squared_error: 0.6082\n",
      "Epoch 47/100\n",
      "3568/3568 [==============================] - 1s 156us/step - loss: 0.5846 - mean_squared_error: 0.5846\n",
      "Epoch 48/100\n",
      "3568/3568 [==============================] - 1s 160us/step - loss: 0.5900 - mean_squared_error: 0.5900\n",
      "Epoch 49/100\n",
      "3568/3568 [==============================] - 1s 154us/step - loss: 0.5909 - mean_squared_error: 0.5909\n",
      "Epoch 50/100\n",
      "3568/3568 [==============================] - 0s 126us/step - loss: 0.5712 - mean_squared_error: 0.5712\n",
      "Epoch 51/100\n",
      "3568/3568 [==============================] - 1s 154us/step - loss: 0.5818 - mean_squared_error: 0.5818\n",
      "Epoch 52/100\n",
      "3568/3568 [==============================] - 1s 148us/step - loss: 0.5664 - mean_squared_error: 0.5664\n",
      "Epoch 53/100\n",
      "3568/3568 [==============================] - 1s 160us/step - loss: 0.5552 - mean_squared_error: 0.5552\n",
      "Epoch 54/100\n",
      "3568/3568 [==============================] - 1s 150us/step - loss: 0.5519 - mean_squared_error: 0.5519\n",
      "Epoch 55/100\n",
      "3568/3568 [==============================] - 1s 168us/step - loss: 0.5631 - mean_squared_error: 0.5631\n",
      "Epoch 56/100\n",
      "3568/3568 [==============================] - 1s 170us/step - loss: 0.5640 - mean_squared_error: 0.5640\n",
      "Epoch 57/100\n",
      "3568/3568 [==============================] - 1s 156us/step - loss: 0.5630 - mean_squared_error: 0.5630\n",
      "Epoch 58/100\n",
      "3568/3568 [==============================] - 1s 164us/step - loss: 0.5609 - mean_squared_error: 0.5609\n",
      "Epoch 59/100\n",
      "3568/3568 [==============================] - 1s 158us/step - loss: 0.5426 - mean_squared_error: 0.5426\n",
      "Epoch 60/100\n",
      "3568/3568 [==============================] - 1s 162us/step - loss: 0.5377 - mean_squared_error: 0.5377\n",
      "Epoch 61/100\n",
      "3568/3568 [==============================] - 1s 174us/step - loss: 0.5454 - mean_squared_error: 0.5454\n",
      "Epoch 62/100\n",
      "3568/3568 [==============================] - 1s 154us/step - loss: 0.5386 - mean_squared_error: 0.5386\n",
      "Epoch 63/100\n",
      "3568/3568 [==============================] - 1s 154us/step - loss: 0.5376 - mean_squared_error: 0.5376\n",
      "Epoch 64/100\n",
      "3568/3568 [==============================] - 1s 148us/step - loss: 0.5320 - mean_squared_error: 0.5320\n",
      "Epoch 65/100\n",
      "3568/3568 [==============================] - 1s 142us/step - loss: 0.5330 - mean_squared_error: 0.5330\n",
      "Epoch 66/100\n",
      "3568/3568 [==============================] - 1s 140us/step - loss: 0.5384 - mean_squared_error: 0.5384\n",
      "Epoch 67/100\n",
      "3568/3568 [==============================] - 1s 156us/step - loss: 0.5161 - mean_squared_error: 0.5161\n",
      "Epoch 68/100\n",
      "3568/3568 [==============================] - 1s 159us/step - loss: 0.5224 - mean_squared_error: 0.5224\n",
      "Epoch 69/100\n",
      "3568/3568 [==============================] - 1s 146us/step - loss: 0.5335 - mean_squared_error: 0.5335\n",
      "Epoch 70/100\n",
      "3568/3568 [==============================] - 0s 129us/step - loss: 0.5345 - mean_squared_error: 0.5345\n"
     ]
    },
    {
     "name": "stdout",
     "output_type": "stream",
     "text": [
      "Epoch 71/100\n",
      "3568/3568 [==============================] - 1s 149us/step - loss: 0.5277 - mean_squared_error: 0.5277\n",
      "Epoch 72/100\n",
      "3568/3568 [==============================] - 1s 143us/step - loss: 0.5148 - mean_squared_error: 0.5148\n",
      "Epoch 73/100\n",
      "3568/3568 [==============================] - 1s 146us/step - loss: 0.5217 - mean_squared_error: 0.5217\n",
      "Epoch 74/100\n",
      "3568/3568 [==============================] - 1s 165us/step - loss: 0.5130 - mean_squared_error: 0.5130\n",
      "Epoch 75/100\n",
      "3568/3568 [==============================] - 0s 135us/step - loss: 0.5173 - mean_squared_error: 0.5173\n",
      "Epoch 76/100\n",
      "3568/3568 [==============================] - 1s 141us/step - loss: 0.5129 - mean_squared_error: 0.5129\n",
      "Epoch 77/100\n",
      "3568/3568 [==============================] - 1s 153us/step - loss: 0.5161 - mean_squared_error: 0.5161\n",
      "Epoch 78/100\n",
      "3568/3568 [==============================] - 0s 131us/step - loss: 0.5087 - mean_squared_error: 0.5087\n",
      "Epoch 79/100\n",
      "3568/3568 [==============================] - 1s 163us/step - loss: 0.5051 - mean_squared_error: 0.5051\n",
      "Epoch 80/100\n",
      "3568/3568 [==============================] - 1s 143us/step - loss: 0.4949 - mean_squared_error: 0.4949\n",
      "Epoch 81/100\n",
      "3568/3568 [==============================] - 1s 146us/step - loss: 0.5021 - mean_squared_error: 0.5021\n",
      "Epoch 82/100\n",
      "3568/3568 [==============================] - 1s 161us/step - loss: 0.5006 - mean_squared_error: 0.5006\n",
      "Epoch 83/100\n",
      "3568/3568 [==============================] - 1s 147us/step - loss: 0.4945 - mean_squared_error: 0.4945\n",
      "Epoch 84/100\n",
      "3568/3568 [==============================] - 1s 148us/step - loss: 0.4922 - mean_squared_error: 0.4922\n",
      "Epoch 85/100\n",
      "3568/3568 [==============================] - 0s 135us/step - loss: 0.4924 - mean_squared_error: 0.4924\n",
      "Epoch 86/100\n",
      "3568/3568 [==============================] - 0s 132us/step - loss: 0.4901 - mean_squared_error: 0.4901\n",
      "Epoch 87/100\n",
      "3568/3568 [==============================] - 1s 185us/step - loss: 0.5028 - mean_squared_error: 0.5028\n",
      "Epoch 88/100\n",
      "3568/3568 [==============================] - 0s 132us/step - loss: 0.4995 - mean_squared_error: 0.4995\n",
      "Epoch 89/100\n",
      "3568/3568 [==============================] - 1s 144us/step - loss: 0.4922 - mean_squared_error: 0.4922\n",
      "Epoch 90/100\n",
      "3568/3568 [==============================] - 1s 141us/step - loss: 0.4935 - mean_squared_error: 0.4935\n",
      "Epoch 91/100\n",
      "3568/3568 [==============================] - 1s 151us/step - loss: 0.4947 - mean_squared_error: 0.4947\n",
      "Epoch 92/100\n",
      "3568/3568 [==============================] - 1s 174us/step - loss: 0.4862 - mean_squared_error: 0.4862\n",
      "Epoch 93/100\n",
      "3568/3568 [==============================] - 1s 160us/step - loss: 0.4832 - mean_squared_error: 0.4832\n",
      "Epoch 94/100\n",
      "3568/3568 [==============================] - 1s 148us/step - loss: 0.4837 - mean_squared_error: 0.4837\n",
      "Epoch 95/100\n",
      "3568/3568 [==============================] - 1s 159us/step - loss: 0.4888 - mean_squared_error: 0.4888\n",
      "Epoch 96/100\n",
      "3568/3568 [==============================] - 1s 154us/step - loss: 0.4850 - mean_squared_error: 0.4850\n",
      "Epoch 97/100\n",
      "3568/3568 [==============================] - 1s 146us/step - loss: 0.4829 - mean_squared_error: 0.4829\n",
      "Epoch 98/100\n",
      "3568/3568 [==============================] - 1s 148us/step - loss: 0.4785 - mean_squared_error: 0.4785\n",
      "Epoch 99/100\n",
      "3568/3568 [==============================] - 1s 145us/step - loss: 0.4876 - mean_squared_error: 0.4876\n",
      "Epoch 100/100\n",
      "3568/3568 [==============================] - 1s 160us/step - loss: 0.4772 - mean_squared_error: 0.47720s - loss: 0.5129 - mean_squ\n"
     ]
    }
   ],
   "source": [
    "history = model.fit(np.array(X_train), np.array(y_train), epochs=100, batch_size=40, verbose=1)"
   ]
  },
  {
   "cell_type": "code",
   "execution_count": 66,
   "metadata": {},
   "outputs": [
    {
     "name": "stdout",
     "output_type": "stream",
     "text": [
      "188/188 [==============================] - 0s 213us/step\n",
      "Mean Squared Error(MSE) of the test set: 0.597 \n"
     ]
    }
   ],
   "source": [
    "scores = model.evaluate(np.array(X_test), np.array(y_test), verbose=1)\n",
    "print(\"Mean Squared Error(MSE) of the test set: {:.3f} \".format(scores[1]))"
   ]
  },
  {
   "cell_type": "markdown",
   "metadata": {},
   "source": [
    "Observe that the training mse after 100 epochs and test mse are nearly close in values. So, there is no potential overfitting"
   ]
  },
  {
   "cell_type": "markdown",
   "metadata": {},
   "source": [
    "## Classical Machine Learning algorithms"
   ]
  },
  {
   "cell_type": "markdown",
   "metadata": {},
   "source": [
    "We will build and evaluate the following models upon the same data, for comparison:\n",
    "1. Linear Regression\n",
    "2. Support Vector Regression (Linear Kernel)\n",
    "3. Support Vector Regression (rbf kernel)\n",
    "4. Decision Tree Regression\n",
    "5. Random Forests Regression"
   ]
  },
  {
   "cell_type": "markdown",
   "metadata": {},
   "source": [
    "For these models lets create a new 80%-20% split into training and testing. The evaluation metric considered is the mean squared error"
   ]
  },
  {
   "cell_type": "code",
   "execution_count": 67,
   "metadata": {},
   "outputs": [],
   "source": [
    "# Splitting the dataset into the Training set and Test set\n",
    "from sklearn.model_selection import train_test_split\n",
    "X_train, X_test, y_train, y_test = train_test_split(X, y, test_size = 0.2, random_state = 0)"
   ]
  },
  {
   "cell_type": "markdown",
   "metadata": {},
   "source": [
    "### Linear Regression"
   ]
  },
  {
   "cell_type": "code",
   "execution_count": 69,
   "metadata": {},
   "outputs": [
    {
     "name": "stdout",
     "output_type": "stream",
     "text": [
      "Mean Squared Error(MSE) of the test set: 0.724 \n"
     ]
    }
   ],
   "source": [
    "# LINEAR REGRESSION\n",
    "from sklearn.linear_model import LinearRegression\n",
    "linear_reg = LinearRegression()\n",
    "linear_reg.fit(X_train,y_train)\n",
    "#Making Predictions\n",
    "y_pred_linear_reg = linear_reg.predict(X_test)\n",
    "\n",
    "from sklearn.metrics import mean_squared_error\n",
    "mselr = mean_squared_error(y_test, y_pred_linear_reg)\n",
    "print(\"Mean Squared Error(MSE) of the test set: {:.3f} \".format(mselr))"
   ]
  },
  {
   "cell_type": "markdown",
   "metadata": {},
   "source": [
    "### Support Vector Regression"
   ]
  },
  {
   "cell_type": "code",
   "execution_count": 70,
   "metadata": {},
   "outputs": [
    {
     "name": "stdout",
     "output_type": "stream",
     "text": [
      "Mean Squared Error(MSE) of the test set | Support Vector Regression: 0.618 \n"
     ]
    }
   ],
   "source": [
    "# Fitting Support Vector Regression (rbf Kernel) to the data\n",
    "from sklearn.svm import SVR\n",
    "sv_reg = SVR(kernel ='rbf')\n",
    "sv_reg.fit(X_train, y_train.ravel())\n",
    "    \n",
    "y_pred_svreg = sv_reg.predict(X_test)\n",
    "from sklearn.metrics import mean_squared_error\n",
    "msesvrr = mean_squared_error(y_test, y_pred_svreg)\n",
    "print(\"Mean Squared Error(MSE) of the test set | Support Vector Regression: {:.3f} \".format(msesvrr))"
   ]
  },
  {
   "cell_type": "code",
   "execution_count": 71,
   "metadata": {},
   "outputs": [
    {
     "name": "stdout",
     "output_type": "stream",
     "text": [
      "Mean Squared Error(MSE) of the test set: 0.746 \n"
     ]
    }
   ],
   "source": [
    "#Fitting Support Vector Regression (Linear Kernel) to the data\n",
    "from sklearn.svm import SVR\n",
    "regressor = SVR(kernel ='linear')\n",
    "regressor.fit(X_train, y_train)\n",
    "# Predicting results\n",
    "y_pred_svr = regressor.predict(X_test)\n",
    "from sklearn.metrics import mean_squared_error\n",
    "msesvrl = mean_squared_error(y_test, y_pred_svr)\n",
    "print(\"Mean Squared Error(MSE) of the test set: {:.3f} \".format(msesvrl))"
   ]
  },
  {
   "cell_type": "markdown",
   "metadata": {},
   "source": [
    "### Decision Tree Regression"
   ]
  },
  {
   "cell_type": "code",
   "execution_count": 72,
   "metadata": {},
   "outputs": [
    {
     "name": "stdout",
     "output_type": "stream",
     "text": [
      "Mean Squared Error(MSE) of the test set: 0.991 \n"
     ]
    }
   ],
   "source": [
    "#Fitting Decision Tree Regression \n",
    "from sklearn.tree import DecisionTreeRegressor\n",
    "regressor = DecisionTreeRegressor(random_state = 0)\n",
    "regressor.fit(X_train, y_train)\n",
    "# Predicting results\n",
    "y_pred_dt = regressor.predict(X_test)\n",
    "from sklearn.metrics import mean_squared_error\n",
    "msedt = mean_squared_error(y_test, y_pred_dt)\n",
    "print(\"Mean Squared Error(MSE) of the test set: {:.3f} \".format(msedt))"
   ]
  },
  {
   "cell_type": "markdown",
   "metadata": {},
   "source": [
    "### Random Forests Regression"
   ]
  },
  {
   "cell_type": "code",
   "execution_count": 73,
   "metadata": {},
   "outputs": [
    {
     "name": "stdout",
     "output_type": "stream",
     "text": [
      "Mean Squared Error(MSE) of the test set: 0.503 \n"
     ]
    }
   ],
   "source": [
    "# Fitting Random Forest Regression to the dataset\n",
    "from sklearn.ensemble import RandomForestRegressor\n",
    "regressor = RandomForestRegressor(n_estimators = 300, random_state = 0)\n",
    "regressor.fit(X_train, y_train)\n",
    "# Predicting results\n",
    "y_pred_rf = regressor.predict(X_test)\n",
    "from sklearn.metrics import mean_squared_error\n",
    "mserf= mean_squared_error(y_test, y_pred_rf)\n",
    "print(\"Mean Squared Error(MSE) of the test set: {:.3f} \".format(mserf))"
   ]
  },
  {
   "cell_type": "markdown",
   "metadata": {},
   "source": [
    "## Concluding Remarks"
   ]
  },
  {
   "cell_type": "markdown",
   "metadata": {},
   "source": [
    "1. The given data is read into a DataFrame in Pandas in Python environment and missing values removed.\n",
    "2. The feature attributes, both numeric and categorical, are then analyzed to study their relevance. Statistical plots used for studying the variation and spread of the data.\n",
    "3. Categorical features are one-hot encoded, higher number of factors are trimmed down. Feature scaling is done using standardization.\n",
    "4. Deep Learning regression model is built using Keras and TensorFlow with a 95%-5% train and test sets splits and other machine learning models created with 80%-20% split.\n",
    "5. All the models achieved an acceptable range of mse on the test set for regression i.e, between 0 and 1, with no potential overfitting. TensorFlow model achieved 0.597 where as Decision Tree Regression model with the least, 0.991."
   ]
  }
 ],
 "metadata": {
  "kernelspec": {
   "display_name": "Python 3",
   "language": "python",
   "name": "python3"
  },
  "language_info": {
   "codemirror_mode": {
    "name": "ipython",
    "version": 3
   },
   "file_extension": ".py",
   "mimetype": "text/x-python",
   "name": "python",
   "nbconvert_exporter": "python",
   "pygments_lexer": "ipython3",
   "version": "3.6.1"
  }
 },
 "nbformat": 4,
 "nbformat_minor": 2
}
