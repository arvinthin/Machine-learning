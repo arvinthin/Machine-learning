{
 "cells": [
  {
   "cell_type": "markdown",
   "metadata": {},
   "source": [
    "# Recurrent Neural Networks/LSTM's for financial time series predictions\n",
    "\n",
    "Recurrent neural networks, or RNNs, are a type of artificial neural network that add additional weights to the network to create cycles in the network graph in an effort to maintain an internal state.The promise of adding state to neural networks is that they will be able to explicitly learn and exploit context in sequence prediction problems, such as problems with an order or temporal component. In A Recurrent Neural Network each unit/node remebers what was there in the previous unit/node and hence well suited for time series predictions. The architecture is so designed that recurring weights are used to connect hidden layers among themselves. This can infact bring about `vanishing gradient` problem in RNN's. A practical solution to it being the Long Short Term Memory Networks (LSTM's) and its typical architecture. LSTM's find significant applications today in language translation apps, sentiment analysis and so on.\n",
    "\n",
    "This project uses LSTM's for predicting financial market time series prediction i.e with Google Stock Prices.The RNN will be trained on data on working days from from January 2012 to December 2016, over a period of 5 years and then will be tested to predict stock prices for the month of January 2017. The dataset can be extracted from : https://finance.google.com/finance/historical?q=GOOG\n",
    "\n",
    "The implementation is done using the Keras library in Python using Tensorflow backend."
   ]
  },
  {
   "cell_type": "markdown",
   "metadata": {},
   "source": [
    "Lets begin by importing the libraries and the dataset"
   ]
  },
  {
   "cell_type": "code",
   "execution_count": 1,
   "metadata": {
    "collapsed": true
   },
   "outputs": [],
   "source": [
    "# Importing the libraries\n",
    "import numpy as np\n",
    "import matplotlib.pyplot as plt\n",
    "import pandas as pd"
   ]
  },
  {
   "cell_type": "code",
   "execution_count": 2,
   "metadata": {},
   "outputs": [],
   "source": [
    "# Importing the training set\n",
    "dataset_train = pd.read_csv('Google_Stock_Price_Train.csv')"
   ]
  },
  {
   "cell_type": "markdown",
   "metadata": {
    "collapsed": true
   },
   "source": [
    "Now lets preview the dataset. "
   ]
  },
  {
   "cell_type": "code",
   "execution_count": 3,
   "metadata": {},
   "outputs": [
    {
     "data": {
      "text/html": [
       "<div>\n",
       "<style>\n",
       "    .dataframe thead tr:only-child th {\n",
       "        text-align: right;\n",
       "    }\n",
       "\n",
       "    .dataframe thead th {\n",
       "        text-align: left;\n",
       "    }\n",
       "\n",
       "    .dataframe tbody tr th {\n",
       "        vertical-align: top;\n",
       "    }\n",
       "</style>\n",
       "<table border=\"1\" class=\"dataframe\">\n",
       "  <thead>\n",
       "    <tr style=\"text-align: right;\">\n",
       "      <th></th>\n",
       "      <th>Date</th>\n",
       "      <th>Open</th>\n",
       "      <th>High</th>\n",
       "      <th>Low</th>\n",
       "      <th>Close</th>\n",
       "      <th>Volume</th>\n",
       "    </tr>\n",
       "  </thead>\n",
       "  <tbody>\n",
       "    <tr>\n",
       "      <th>0</th>\n",
       "      <td>1/3/2012</td>\n",
       "      <td>325.25</td>\n",
       "      <td>332.83</td>\n",
       "      <td>324.97</td>\n",
       "      <td>663.59</td>\n",
       "      <td>7,380,500</td>\n",
       "    </tr>\n",
       "    <tr>\n",
       "      <th>1</th>\n",
       "      <td>1/4/2012</td>\n",
       "      <td>331.27</td>\n",
       "      <td>333.87</td>\n",
       "      <td>329.08</td>\n",
       "      <td>666.45</td>\n",
       "      <td>5,749,400</td>\n",
       "    </tr>\n",
       "    <tr>\n",
       "      <th>2</th>\n",
       "      <td>1/5/2012</td>\n",
       "      <td>329.83</td>\n",
       "      <td>330.75</td>\n",
       "      <td>326.89</td>\n",
       "      <td>657.21</td>\n",
       "      <td>6,590,300</td>\n",
       "    </tr>\n",
       "    <tr>\n",
       "      <th>3</th>\n",
       "      <td>1/6/2012</td>\n",
       "      <td>328.34</td>\n",
       "      <td>328.77</td>\n",
       "      <td>323.68</td>\n",
       "      <td>648.24</td>\n",
       "      <td>5,405,900</td>\n",
       "    </tr>\n",
       "    <tr>\n",
       "      <th>4</th>\n",
       "      <td>1/9/2012</td>\n",
       "      <td>322.04</td>\n",
       "      <td>322.29</td>\n",
       "      <td>309.46</td>\n",
       "      <td>620.76</td>\n",
       "      <td>11,688,800</td>\n",
       "    </tr>\n",
       "    <tr>\n",
       "      <th>5</th>\n",
       "      <td>1/10/2012</td>\n",
       "      <td>313.70</td>\n",
       "      <td>315.72</td>\n",
       "      <td>307.30</td>\n",
       "      <td>621.43</td>\n",
       "      <td>8,824,000</td>\n",
       "    </tr>\n",
       "    <tr>\n",
       "      <th>6</th>\n",
       "      <td>1/11/2012</td>\n",
       "      <td>310.59</td>\n",
       "      <td>313.52</td>\n",
       "      <td>309.40</td>\n",
       "      <td>624.25</td>\n",
       "      <td>4,817,800</td>\n",
       "    </tr>\n",
       "    <tr>\n",
       "      <th>7</th>\n",
       "      <td>1/12/2012</td>\n",
       "      <td>314.43</td>\n",
       "      <td>315.26</td>\n",
       "      <td>312.08</td>\n",
       "      <td>627.92</td>\n",
       "      <td>3,764,400</td>\n",
       "    </tr>\n",
       "    <tr>\n",
       "      <th>8</th>\n",
       "      <td>1/13/2012</td>\n",
       "      <td>311.96</td>\n",
       "      <td>312.30</td>\n",
       "      <td>309.37</td>\n",
       "      <td>623.28</td>\n",
       "      <td>4,631,800</td>\n",
       "    </tr>\n",
       "    <tr>\n",
       "      <th>9</th>\n",
       "      <td>1/17/2012</td>\n",
       "      <td>314.81</td>\n",
       "      <td>314.81</td>\n",
       "      <td>311.67</td>\n",
       "      <td>626.86</td>\n",
       "      <td>3,832,800</td>\n",
       "    </tr>\n",
       "  </tbody>\n",
       "</table>\n",
       "</div>"
      ],
      "text/plain": [
       "        Date    Open    High     Low   Close      Volume\n",
       "0   1/3/2012  325.25  332.83  324.97  663.59   7,380,500\n",
       "1   1/4/2012  331.27  333.87  329.08  666.45   5,749,400\n",
       "2   1/5/2012  329.83  330.75  326.89  657.21   6,590,300\n",
       "3   1/6/2012  328.34  328.77  323.68  648.24   5,405,900\n",
       "4   1/9/2012  322.04  322.29  309.46  620.76  11,688,800\n",
       "5  1/10/2012  313.70  315.72  307.30  621.43   8,824,000\n",
       "6  1/11/2012  310.59  313.52  309.40  624.25   4,817,800\n",
       "7  1/12/2012  314.43  315.26  312.08  627.92   3,764,400\n",
       "8  1/13/2012  311.96  312.30  309.37  623.28   4,631,800\n",
       "9  1/17/2012  314.81  314.81  311.67  626.86   3,832,800"
      ]
     },
     "execution_count": 3,
     "metadata": {},
     "output_type": "execute_result"
    }
   ],
   "source": [
    "dataset_train.head(10)"
   ]
  },
  {
   "cell_type": "markdown",
   "metadata": {},
   "source": [
    "Data is in a very usable format with no NA's. The data has 1258 rows.\n",
    "\n",
    "We will be building RNN's to predict the Open Google stock prices  and so we will retain the first column only."
   ]
  },
  {
   "cell_type": "code",
   "execution_count": 4,
   "metadata": {
    "collapsed": true
   },
   "outputs": [],
   "source": [
    "training_set = dataset_train.iloc[:,1:2].values"
   ]
  },
  {
   "cell_type": "markdown",
   "metadata": {},
   "source": [
    "## Data Preprocessing"
   ]
  },
  {
   "cell_type": "markdown",
   "metadata": {},
   "source": [
    "### 1. Feature Scaling\n",
    "\n",
    "Feature scaling is a must to do in Deep Learning. Here MinMaxScaler is used for better results."
   ]
  },
  {
   "cell_type": "code",
   "execution_count": 5,
   "metadata": {
    "collapsed": true
   },
   "outputs": [],
   "source": [
    "# Feature Scaling\n",
    "from sklearn.preprocessing import MinMaxScaler\n",
    "sc = MinMaxScaler()\n",
    "training_set_scaled = sc.fit_transform(training_set)"
   ]
  },
  {
   "cell_type": "markdown",
   "metadata": {},
   "source": [
    "### 2. Creating a data structure with 60 timesteps and t+1 output"
   ]
  },
  {
   "cell_type": "markdown",
   "metadata": {},
   "source": [
    "For setting timestep 60, we need to create an X_train numpy array with 1258-60 =1198 rows and each with 60 elements from training set."
   ]
  },
  {
   "cell_type": "code",
   "execution_count": 6,
   "metadata": {},
   "outputs": [],
   "source": [
    "# Creating a data structure with 60 timesteps and t+1 output\n",
    "X_train = []\n",
    "y_train = []\n",
    "for i in range(60, 1258):\n",
    "    X_train.append(training_set_scaled[i-60:i, 0])\n",
    "    y_train.append(training_set_scaled[i, 0])\n",
    "X_train, y_train = np.array(X_train), np.array(y_train)"
   ]
  },
  {
   "cell_type": "markdown",
   "metadata": {},
   "source": [
    "### 3. Reshaping\n",
    "We need to create a 3D array for processing with Keras. The argument `newshape` has inputs `batch_size`, `timesteps`,  `input_dim`. \n",
    "Note that `batch_size` = No of rows in `X_train` and `timesteps` = 60"
   ]
  },
  {
   "cell_type": "code",
   "execution_count": 7,
   "metadata": {
    "collapsed": true
   },
   "outputs": [],
   "source": [
    "# Reshaping\n",
    "X_train = np.reshape(X_train, (X_train.shape[0], X_train.shape[1], 1))"
   ]
  },
  {
   "cell_type": "markdown",
   "metadata": {},
   "source": [
    "## Building the RNN\n",
    "\n",
    "We make use of Keras, with a tensorflow backend."
   ]
  },
  {
   "cell_type": "code",
   "execution_count": 11,
   "metadata": {},
   "outputs": [],
   "source": [
    "# Importing the Keras libraries and packages\n",
    "from keras.models import Sequential\n",
    "from keras.layers import Dense\n",
    "from keras.layers import LSTM\n",
    "from keras.layers import Dropout"
   ]
  },
  {
   "cell_type": "markdown",
   "metadata": {},
   "source": [
    "We now initialize RNN's as a sequnce of layers and add input and output layers."
   ]
  },
  {
   "cell_type": "code",
   "execution_count": 12,
   "metadata": {
    "collapsed": true
   },
   "outputs": [],
   "source": [
    "# Initialising the RNN\n",
    "regressor = Sequential()"
   ]
  },
  {
   "cell_type": "markdown",
   "metadata": {},
   "source": [
    "The LSTM layers are added as follows with 50 memory units and input dimension with 1 feature. `return_sequences = True` is a required parameter that must be set to True when stacking two LSTM layers. A Dropout regularization of 20% is also added for each LSTM layer."
   ]
  },
  {
   "cell_type": "code",
   "execution_count": 13,
   "metadata": {},
   "outputs": [],
   "source": [
    "# Adding the input layer and the LSTM layer\n",
    "regressor.add(LSTM(units = 50, return_sequences = True, input_shape = (X_train.shape[1], 1)))\n",
    "regressor.add(Dropout(0.2))"
   ]
  },
  {
   "cell_type": "code",
   "execution_count": 14,
   "metadata": {
    "collapsed": true
   },
   "outputs": [],
   "source": [
    "# Adding a second LSTM layer\n",
    "regressor.add(LSTM(units = 50, return_sequences = True))\n",
    "regressor.add(Dropout(0.2))\n",
    "\n",
    "# Adding a third LSTM layer\n",
    "regressor.add(LSTM(units = 50, return_sequences = True))\n",
    "regressor.add(Dropout(0.2))\n",
    "\n",
    "# Adding a fourth LSTM layer\n",
    "regressor.add(LSTM(units = 50))\n",
    "regressor.add(Dropout(0.2))"
   ]
  },
  {
   "cell_type": "markdown",
   "metadata": {},
   "source": [
    "We have created 4 LSTM layers. Output layer is added with the `Dense` class with one-dimension"
   ]
  },
  {
   "cell_type": "code",
   "execution_count": 15,
   "metadata": {
    "collapsed": true
   },
   "outputs": [],
   "source": [
    "# Adding the output layer\n",
    "regressor.add(Dense(units = 1))"
   ]
  },
  {
   "cell_type": "markdown",
   "metadata": {},
   "source": [
    "To complie the RNN, we use `rmsprop` optimizer and loss function chosen is MSE. The RNN is fit to the data for 100 epochs with a default `batch_size` of 32"
   ]
  },
  {
   "cell_type": "code",
   "execution_count": 16,
   "metadata": {},
   "outputs": [
    {
     "name": "stdout",
     "output_type": "stream",
     "text": [
      "Epoch 1/100\n",
      "1198/1198 [==============================] - 30s - loss: 0.0390    \n",
      "Epoch 2/100\n",
      "1198/1198 [==============================] - 29s - loss: 0.0144    \n",
      "Epoch 3/100\n",
      "1198/1198 [==============================] - 29s - loss: 0.0117    \n",
      "Epoch 4/100\n",
      "1198/1198 [==============================] - 30s - loss: 0.0091    \n",
      "Epoch 5/100\n",
      "1198/1198 [==============================] - 30s - loss: 0.0091    \n",
      "Epoch 6/100\n",
      "1198/1198 [==============================] - 31s - loss: 0.0077    \n",
      "Epoch 7/100\n",
      "1198/1198 [==============================] - 30s - loss: 0.0078    \n",
      "Epoch 8/100\n",
      "1198/1198 [==============================] - 29s - loss: 0.0064    \n",
      "Epoch 9/100\n",
      "1198/1198 [==============================] - 28s - loss: 0.0076    \n",
      "Epoch 10/100\n",
      "1198/1198 [==============================] - 27s - loss: 0.0067    \n",
      "Epoch 11/100\n",
      "1198/1198 [==============================] - 28s - loss: 0.0065    \n",
      "Epoch 12/100\n",
      "1198/1198 [==============================] - 26s - loss: 0.0052    \n",
      "Epoch 13/100\n",
      "1198/1198 [==============================] - 28s - loss: 0.0057    \n",
      "Epoch 14/100\n",
      "1198/1198 [==============================] - 28s - loss: 0.0056    \n",
      "Epoch 15/100\n",
      "1198/1198 [==============================] - 28s - loss: 0.0048    \n",
      "Epoch 16/100\n",
      "1198/1198 [==============================] - 30s - loss: 0.0049    \n",
      "Epoch 17/100\n",
      "1198/1198 [==============================] - 28s - loss: 0.0047    \n",
      "Epoch 18/100\n",
      "1198/1198 [==============================] - 28s - loss: 0.0045    \n",
      "Epoch 19/100\n",
      "1198/1198 [==============================] - 28s - loss: 0.0044    \n",
      "Epoch 20/100\n",
      "1198/1198 [==============================] - 29s - loss: 0.0042    \n",
      "Epoch 21/100\n",
      "1198/1198 [==============================] - 29s - loss: 0.0037    \n",
      "Epoch 22/100\n",
      "1198/1198 [==============================] - 31s - loss: 0.0040    \n",
      "Epoch 23/100\n",
      "1198/1198 [==============================] - 29s - loss: 0.0038    \n",
      "Epoch 24/100\n",
      "1198/1198 [==============================] - 28s - loss: 0.0034    \n",
      "Epoch 25/100\n",
      "1198/1198 [==============================] - 28s - loss: 0.0039    \n",
      "Epoch 26/100\n",
      "1198/1198 [==============================] - 29s - loss: 0.0038    \n",
      "Epoch 27/100\n",
      "1198/1198 [==============================] - 30s - loss: 0.0035    \n",
      "Epoch 28/100\n",
      "1198/1198 [==============================] - 28s - loss: 0.0032    \n",
      "Epoch 29/100\n",
      "1198/1198 [==============================] - 31s - loss: 0.0039    \n",
      "Epoch 30/100\n",
      "1198/1198 [==============================] - 27s - loss: 0.0030    \n",
      "Epoch 31/100\n",
      "1198/1198 [==============================] - 30s - loss: 0.0030    \n",
      "Epoch 32/100\n",
      "1198/1198 [==============================] - 29s - loss: 0.0030    \n",
      "Epoch 33/100\n",
      "1198/1198 [==============================] - 30s - loss: 0.0031    \n",
      "Epoch 34/100\n",
      "1198/1198 [==============================] - 29s - loss: 0.0027    \n",
      "Epoch 35/100\n",
      "1198/1198 [==============================] - 28s - loss: 0.0028    \n",
      "Epoch 36/100\n",
      "1198/1198 [==============================] - 28s - loss: 0.0030    \n",
      "Epoch 37/100\n",
      "1198/1198 [==============================] - 27s - loss: 0.0030    \n",
      "Epoch 38/100\n",
      "1198/1198 [==============================] - 28s - loss: 0.0030    \n",
      "Epoch 39/100\n",
      "1198/1198 [==============================] - 29s - loss: 0.0030    \n",
      "Epoch 40/100\n",
      "1198/1198 [==============================] - 26s - loss: 0.0029    \n",
      "Epoch 41/100\n",
      "1198/1198 [==============================] - 41s - loss: 0.0028    \n",
      "Epoch 42/100\n",
      "1198/1198 [==============================] - 28s - loss: 0.0027    \n",
      "Epoch 43/100\n",
      "1198/1198 [==============================] - 28s - loss: 0.0027    \n",
      "Epoch 44/100\n",
      "1198/1198 [==============================] - 28s - loss: 0.0025    \n",
      "Epoch 45/100\n",
      "1198/1198 [==============================] - 28s - loss: 0.0028    \n",
      "Epoch 46/100\n",
      "1198/1198 [==============================] - 28s - loss: 0.0025    \n",
      "Epoch 47/100\n",
      "1198/1198 [==============================] - 28s - loss: 0.0027    \n",
      "Epoch 48/100\n",
      "1198/1198 [==============================] - 28s - loss: 0.0024    \n",
      "Epoch 49/100\n",
      "1198/1198 [==============================] - 28s - loss: 0.0023    \n",
      "Epoch 50/100\n",
      "1198/1198 [==============================] - 28s - loss: 0.0024    \n",
      "Epoch 51/100\n",
      "1198/1198 [==============================] - 313s - loss: 0.0027   \n",
      "Epoch 52/100\n",
      "1198/1198 [==============================] - 264s - loss: 0.0023   \n",
      "Epoch 53/100\n",
      "1198/1198 [==============================] - 27s - loss: 0.0025    \n",
      "Epoch 54/100\n",
      "1198/1198 [==============================] - 27s - loss: 0.0022    \n",
      "Epoch 55/100\n",
      "1198/1198 [==============================] - 26s - loss: 0.0024    \n",
      "Epoch 56/100\n",
      "1198/1198 [==============================] - 587s - loss: 0.0022   \n",
      "Epoch 57/100\n",
      "1198/1198 [==============================] - 240s - loss: 0.0023   \n",
      "Epoch 58/100\n",
      "1198/1198 [==============================] - 27s - loss: 0.0021    \n",
      "Epoch 59/100\n",
      "1198/1198 [==============================] - 26s - loss: 0.0022    \n",
      "Epoch 60/100\n",
      "1198/1198 [==============================] - 26s - loss: 0.0022    \n",
      "Epoch 61/100\n",
      "1198/1198 [==============================] - 825s - loss: 0.0022   \n",
      "Epoch 62/100\n",
      "1198/1198 [==============================] - 28s - loss: 0.0021    \n",
      "Epoch 63/100\n",
      "1198/1198 [==============================] - 28s - loss: 0.0020    \n",
      "Epoch 64/100\n",
      "1198/1198 [==============================] - 28s - loss: 0.0020    \n",
      "Epoch 65/100\n",
      "1198/1198 [==============================] - 27s - loss: 0.0022    \n",
      "Epoch 66/100\n",
      "1198/1198 [==============================] - 51s - loss: 0.0022    \n",
      "Epoch 67/100\n",
      "1198/1198 [==============================] - 57s - loss: 0.0018    \n",
      "Epoch 68/100\n",
      "1198/1198 [==============================] - 30s - loss: 0.0021    \n",
      "Epoch 69/100\n",
      "1198/1198 [==============================] - 28s - loss: 0.0019    \n",
      "Epoch 70/100\n",
      "1198/1198 [==============================] - 28s - loss: 0.0019    \n",
      "Epoch 71/100\n",
      "1198/1198 [==============================] - 29s - loss: 0.0019    \n",
      "Epoch 72/100\n",
      "1198/1198 [==============================] - 28s - loss: 0.0021    \n",
      "Epoch 73/100\n",
      "1198/1198 [==============================] - 29s - loss: 0.0021    \n",
      "Epoch 74/100\n",
      "1198/1198 [==============================] - 29s - loss: 0.0019    \n",
      "Epoch 75/100\n",
      "1198/1198 [==============================] - 28s - loss: 0.0019    \n",
      "Epoch 76/100\n",
      "1198/1198 [==============================] - 28s - loss: 0.0019    \n",
      "Epoch 77/100\n",
      "1198/1198 [==============================] - 28s - loss: 0.0018    \n",
      "Epoch 78/100\n",
      "1198/1198 [==============================] - 28s - loss: 0.0020    \n",
      "Epoch 79/100\n",
      "1198/1198 [==============================] - 28s - loss: 0.0018    \n",
      "Epoch 80/100\n",
      "1198/1198 [==============================] - 28s - loss: 0.0018    \n",
      "Epoch 81/100\n",
      "1198/1198 [==============================] - 29s - loss: 0.0018    \n",
      "Epoch 82/100\n",
      "1198/1198 [==============================] - 30s - loss: 0.0018    \n",
      "Epoch 83/100\n",
      "1198/1198 [==============================] - 28s - loss: 0.0016    \n",
      "Epoch 84/100\n",
      "1198/1198 [==============================] - 27s - loss: 0.0018    \n",
      "Epoch 85/100\n",
      "1198/1198 [==============================] - 28s - loss: 0.0018    \n",
      "Epoch 86/100\n",
      "1198/1198 [==============================] - 28s - loss: 0.0015    \n",
      "Epoch 87/100\n",
      "1198/1198 [==============================] - 27s - loss: 0.0017    \n",
      "Epoch 88/100\n",
      "1198/1198 [==============================] - 27s - loss: 0.0019    \n",
      "Epoch 89/100\n",
      "1198/1198 [==============================] - 28s - loss: 0.0017    \n",
      "Epoch 90/100\n",
      "1198/1198 [==============================] - 28s - loss: 0.0018    \n",
      "Epoch 91/100\n",
      "1198/1198 [==============================] - 202s - loss: 0.0017   \n",
      "Epoch 92/100\n",
      "1198/1198 [==============================] - 31s - loss: 0.0018    \n",
      "Epoch 93/100\n",
      "1198/1198 [==============================] - 30s - loss: 0.0017    \n",
      "Epoch 94/100\n",
      "1198/1198 [==============================] - 29s - loss: 0.0018    \n",
      "Epoch 95/100\n",
      "1198/1198 [==============================] - 28s - loss: 0.0016    \n",
      "Epoch 96/100\n",
      "1198/1198 [==============================] - 28s - loss: 0.0015    \n",
      "Epoch 97/100\n",
      "1198/1198 [==============================] - 29s - loss: 0.0016    \n",
      "Epoch 98/100\n",
      "1198/1198 [==============================] - 28s - loss: 0.0016    \n",
      "Epoch 99/100\n",
      "1198/1198 [==============================] - 28s - loss: 0.0016    \n",
      "Epoch 100/100\n",
      "1198/1198 [==============================] - 27s - loss: 0.0015    \n"
     ]
    },
    {
     "data": {
      "text/plain": [
       "<keras.callbacks.History at 0x124da3668>"
      ]
     },
     "execution_count": 16,
     "metadata": {},
     "output_type": "execute_result"
    }
   ],
   "source": [
    "# Compiling the RNN\n",
    "regressor.compile(optimizer = 'rmsprop', loss = 'mean_squared_error')\n",
    "# Fitting the RNN to the Training set\n",
    "regressor.fit(X_train, y_train, batch_size = 32, epochs = 100)"
   ]
  },
  {
   "cell_type": "markdown",
   "metadata": {},
   "source": [
    "Observe that the loss function has converged to a small value. "
   ]
  },
  {
   "cell_type": "markdown",
   "metadata": {},
   "source": [
    "## Making Predictions"
   ]
  },
  {
   "cell_type": "markdown",
   "metadata": {},
   "source": [
    "Making predictions with timestep =60 can be tricky. The real Google Stock price is contained in the test set for January 2017. Also we need the entire data in one frame.i.e. from Jan 1st 2012 to Jan 31st 2017."
   ]
  },
  {
   "cell_type": "code",
   "execution_count": 17,
   "metadata": {
    "collapsed": true
   },
   "outputs": [],
   "source": [
    "# Getting the real stock price for January 1st 2012 - January 31st 2017\n",
    "dataset_test = pd.read_csv('Google_Stock_Price_Test.csv')\n",
    "real_stock_price = dataset_test.iloc[:,1:2].values"
   ]
  },
  {
   "cell_type": "markdown",
   "metadata": {},
   "source": [
    "To get the predicted stock price, we create an array of X_test , in a similar way we created X_train before."
   ]
  },
  {
   "cell_type": "code",
   "execution_count": 18,
   "metadata": {
    "collapsed": true
   },
   "outputs": [],
   "source": [
    "# Getting the predicted stock price of 2017\n",
    "dataset_total = pd.concat((dataset_train['Open'], dataset_test['Open']), axis = 0)\n",
    "inputs = dataset_total[len(dataset_total) - len(dataset_test) - 60:].values\n",
    "inputs = inputs.reshape(-1,1)\n",
    "inputs = sc.transform(inputs)\n",
    "X_test = []\n",
    "for i in range(60, 80):\n",
    "    X_test.append(inputs[i-60:i, 0])\n",
    "X_test = np.array(X_test)\n",
    "X_test = np.reshape(X_test, (X_test.shape[0], X_test.shape[1], 1))\n",
    "predicted_stock_price = regressor.predict(X_test)\n",
    "predicted_stock_price = sc.inverse_transform(predicted_stock_price)"
   ]
  },
  {
   "cell_type": "markdown",
   "metadata": {},
   "source": [
    "After inverse scaling, `predicted_stock_price` will contain the predicted values for `real_stock_price`"
   ]
  },
  {
   "cell_type": "markdown",
   "metadata": {},
   "source": [
    "## Evaluating the results"
   ]
  },
  {
   "cell_type": "markdown",
   "metadata": {},
   "source": [
    "Lets evaluate the RMSE for the the regression problem. RMSE should be expressed as percentage of `real_stock_price`(y_test). Generally a good rmse is below 1%"
   ]
  },
  {
   "cell_type": "code",
   "execution_count": 19,
   "metadata": {},
   "outputs": [
    {
     "data": {
      "text/plain": [
       "5.8758650604492946"
      ]
     },
     "execution_count": 19,
     "metadata": {},
     "output_type": "execute_result"
    }
   ],
   "source": [
    "import math\n",
    "from sklearn.metrics import mean_squared_error\n",
    "rmse = math.sqrt(mean_squared_error(real_stock_price, predicted_stock_price))\n",
    "(rmse/np.mean(real_stock_price))*100"
   ]
  },
  {
   "cell_type": "markdown",
   "metadata": {},
   "source": [
    "Observe that the RMSE is more than 1%."
   ]
  },
  {
   "cell_type": "markdown",
   "metadata": {},
   "source": [
    "Now visualize the actual vs predicted"
   ]
  },
  {
   "cell_type": "code",
   "execution_count": 21,
   "metadata": {},
   "outputs": [
    {
     "data": {
      "image/png": "[encoded data removed]",
      "text/plain": [
       "<matplotlib.figure.Figure at 0x1270fc128>"
      ]
     },
     "metadata": {},
     "output_type": "display_data"
    }
   ],
   "source": [
    "# Visualising the results\n",
    "plt.plot(real_stock_price, color = 'red', label = 'Real Google Stock Price')\n",
    "plt.plot(predicted_stock_price, color = 'blue', label = 'Predicted Google Stock Price')\n",
    "plt.title('Google Stock Price Prediction')\n",
    "plt.xlabel('Time')\n",
    "plt.ylabel('Google Stock Price')\n",
    "plt.legend()\n",
    "plt.show()"
   ]
  },
  {
   "cell_type": "markdown",
   "metadata": {},
   "source": [
    "## Concluding Remarks\n",
    "\n",
    "1. The predictive model for the Stock price predictions with an RMSE of 5.8% is obtained. \n",
    "2. The model seems to be good enough to capture the features of the dataset and in making predictions. Yet significant improvement can be brought by performing k-fold cross validation and hyperparameter tuning\n"
   ]
  }
 ],
 "metadata": {
  "kernelspec": {
   "display_name": "Python 3",
   "language": "python",
   "name": "python3"
  },
  "language_info": {
   "codemirror_mode": {
    "name": "ipython",
    "version": 3
   },
   "file_extension": ".py",
   "mimetype": "text/x-python",
   "name": "python",
   "nbconvert_exporter": "python",
   "pygments_lexer": "ipython3",
   "version": "3.6.1"
  }
 },
 "nbformat": 4,
 "nbformat_minor": 2
}
