{
 "cells": [
  {
   "cell_type": "markdown",
   "metadata": {},
   "source": [
    "# DEEP LEARNING: IMAGE CLASSIFICATION USING KERAS"
   ]
  },
  {
   "cell_type": "markdown",
   "metadata": {},
   "source": [
    "Deep Learning is a new area of Machine Learning research, which has been introduced with the objective of moving Machine Learning closer to one of its original goals: Artificial Intelligence !\n",
    "\n",
    "Deep learning refers to artificial neural networks that are composed of many layers. Here we have a binary classification problem with the dataset containing a large number of images of Cats and Dogs and the task is to properly identify them to the correct class. We make use of Convolutional Neural Networks(CNN's) which enables image classification at a high accuracy.In fact, Neural Networks are a hghly efficient class of algorithms for regression and classsification.\n",
    "\n",
    "Analysis is done making use of the Keras library in Python with Tensorflow backend in Python3.6\n",
    "\n",
    "Dataset Courtesy : https://www.superdatascience.com/machine-learning/"
   ]
  },
  {
   "cell_type": "markdown",
   "metadata": {},
   "source": [
    "## Deep Learning Libraries in Python\n",
    "\n",
    "Theano is Open Source numerical computation library that allows you to define, optimize, and evaluate mathematical expressions involving multi-dimensional arrays efficiently. Read more on installation and usage at : http://deeplearning.net/software/theano/\n",
    "\n",
    "TensorFlow™ is an open source software library for numerical computation using data flow graphs.TensorFlow was originally developed by researchers and engineers working on the Google Brain Team within Google's Machine Intelligence research organization for the purposes of conducting machine learning and deep neural networks research, but the system is general enough to be applicable in a wide variety of other domains as well. Read more at : https://www.tensorflow.org/\n",
    "\n",
    "Keras is a high-level neural networks API, written in Python and capable of running on top of either TensorFlow, CNTK or Theano. It was developed with a focus on enabling fast experimentation. Keras\n",
    "1. Allows for easy and fast prototyping (through user friendliness, modularity, and extensibility).\n",
    "2. Supports both convolutional networks and recurrent networks, as well as combinations of the two.\n",
    "3. Runs seamlessly on CPU and GPU.\n",
    "\n",
    "Read more at https://keras.io/"
   ]
  },
  {
   "cell_type": "markdown",
   "metadata": {},
   "source": [
    "## Data description\n",
    "\n",
    "The data for processing must be organized folders into training set and validation set/test set with 4000 images of Cats and 4000 images of Dogs in training set and 1000 images of Cats and 1000 images of dogs in test set. In total we have 8000 instances for training and 2000 for testing. "
   ]
  },
  {
   "cell_type": "markdown",
   "metadata": {},
   "source": [
    "## Neural Network Architecture\n",
    "\n",
    "We build a CNN which involves the following stages:\n",
    "    1. Convolution, where we perform pixel by pixel Convolution of an input image using many Feature Detectors to     produce convolved images called Feature Maps\n",
    "    \n",
    "    2. Pooling, Max Pooling, to produce a Pooled Feature Map, keeping information intact, helps with overfitting\n",
    "    \n",
    "    3. Flattening, to combine features into a proper format for processing by Artificial Neural Network\n",
    "    \n",
    "The Flattened features are fed into the ANN for processing. Loss functions are calculated, errors evaluated and back propagated to adjust weights in the processing layers."
   ]
  },
  {
   "cell_type": "markdown",
   "metadata": {},
   "source": [
    "## Importing Libraries"
   ]
  },
  {
   "cell_type": "markdown",
   "metadata": {},
   "source": [
    "We import the following libraries:\n",
    "\n",
    "1. Sequential - for initializing neural network as layers\n",
    "2. Conv2D - for adding Convolutional layers\n",
    "3. MaxPooling2D - to perform Pooling\n",
    "4. Flatten - to convert all Pooled  feature maps as inputs to ANN\n",
    "5. Dense - to add fully connected layers in ANN"
   ]
  },
  {
   "cell_type": "code",
   "execution_count": 15,
   "metadata": {
    "collapsed": true
   },
   "outputs": [],
   "source": [
    "import numpy as np\n",
    "import pandas as pd\n",
    "import matplotlib.pyplot as plt\n",
    "plt.style.use('ggplot')\n",
    "%matplotlib inline "
   ]
  },
  {
   "cell_type": "code",
   "execution_count": 16,
   "metadata": {},
   "outputs": [],
   "source": [
    "# Importing the Keras libraries and packages\n",
    "from keras.models import Sequential \n",
    "from keras.layers import Conv2D \n",
    "from keras.layers import MaxPooling2D \n",
    "from keras.layers import Flatten \n",
    "from keras.layers import Dense "
   ]
  },
  {
   "cell_type": "markdown",
   "metadata": {},
   "source": [
    "First, initialize the CNN for classification"
   ]
  },
  {
   "cell_type": "code",
   "execution_count": 17,
   "metadata": {
    "collapsed": true
   },
   "outputs": [],
   "source": [
    "# Initialising the CNN\n",
    "classifier = Sequential()"
   ]
  },
  {
   "cell_type": "markdown",
   "metadata": {},
   "source": [
    "Next is Convolution.\n",
    "\n",
    "We add a Convoluted layer with 32 feature detectors/filters of size 3 rows and columns. \n",
    "\n",
    "Also colour input images are converted into 3D arrays with 3 channels, Red Green Blue, shape size reduced to 64 x 64 for faster execution.\n",
    "The activation function to be used is 'relu' or the Rectifier function for removing nonlinearities in image."
   ]
  },
  {
   "cell_type": "code",
   "execution_count": 18,
   "metadata": {
    "collapsed": true
   },
   "outputs": [],
   "source": [
    "# Step 1 - Convolution (Building the architecture)\n",
    "classifier.add(Conv2D(32, (3, 3), input_shape = (64, 64, 3), activation = 'relu'))"
   ]
  },
  {
   "cell_type": "markdown",
   "metadata": {},
   "source": [
    "Now Pooling is done with a Pool size of 2 x 2. Max pooling is done to reduce complexity of the network"
   ]
  },
  {
   "cell_type": "code",
   "execution_count": 19,
   "metadata": {
    "collapsed": true
   },
   "outputs": [],
   "source": [
    "# Step 2 - Pooling\n",
    "classifier.add(MaxPooling2D(pool_size = (2, 2)))"
   ]
  },
  {
   "cell_type": "markdown",
   "metadata": {},
   "source": [
    "We may now add a second convolutional layer now, this is optional.This can help with accuracy"
   ]
  },
  {
   "cell_type": "code",
   "execution_count": 20,
   "metadata": {
    "collapsed": true
   },
   "outputs": [],
   "source": [
    "# Adding a second convolutional layer\n",
    "classifier.add(Conv2D(32, (3, 3), activation = 'relu'))\n",
    "classifier.add(MaxPooling2D(pool_size = (2, 2)))"
   ]
  },
  {
   "cell_type": "markdown",
   "metadata": {},
   "source": [
    "Now do Flattening and feed the signals to the processing neural network"
   ]
  },
  {
   "cell_type": "code",
   "execution_count": 21,
   "metadata": {
    "collapsed": true
   },
   "outputs": [],
   "source": [
    "# Step 3 - Flattening\n",
    "classifier.add(Flatten())"
   ]
  },
  {
   "cell_type": "markdown",
   "metadata": {},
   "source": [
    "We add a fully coonected layer with 128 units (128 is resulted from experiments,power of 2 around 100) and 1 output unit. Sigmoid activation is used for output layer"
   ]
  },
  {
   "cell_type": "code",
   "execution_count": 22,
   "metadata": {
    "collapsed": true
   },
   "outputs": [],
   "source": [
    "# Step 4 - Full connection\n",
    "classifier.add(Dense(units = 128, activation = 'relu'))\n",
    "classifier.add(Dense(units = 1, activation = 'sigmoid'))"
   ]
  },
  {
   "cell_type": "markdown",
   "metadata": {},
   "source": [
    "Now complie the network, with 'adam' as the Stochastic Gradient Descent Algorithm. Loss function used is 'binary'."
   ]
  },
  {
   "cell_type": "code",
   "execution_count": 23,
   "metadata": {
    "collapsed": true
   },
   "outputs": [],
   "source": [
    "# Compiling the CNN\n",
    "classifier.compile(optimizer = 'adam', loss = 'binary_crossentropy', metrics = ['accuracy'])"
   ]
  },
  {
   "cell_type": "markdown",
   "metadata": {},
   "source": [
    "Now proceed to image augmentation to reduce overfitting using ImageDataGenerator. Read more on this at https://keras.io/preprocessing/image/"
   ]
  },
  {
   "cell_type": "code",
   "execution_count": 24,
   "metadata": {},
   "outputs": [
    {
     "name": "stdout",
     "output_type": "stream",
     "text": [
      "Found 8000 images belonging to 2 classes.\n",
      "Found 2000 images belonging to 2 classes.\n"
     ]
    }
   ],
   "source": [
    "# Part 2 - Fitting the CNN to the images\n",
    "\n",
    "from keras.preprocessing.image import ImageDataGenerator\n",
    "\n",
    "train_datagen = ImageDataGenerator(rescale = 1./255,\n",
    "                                   shear_range = 0.2,\n",
    "                                   zoom_range = 0.2,\n",
    "                                   horizontal_flip = True)\n",
    "\n",
    "test_datagen = ImageDataGenerator(rescale = 1./255)\n",
    "\n",
    "training_set = train_datagen.flow_from_directory('dataset/training_set',\n",
    "                                                 target_size = (64, 64),\n",
    "                                                 batch_size = 32,\n",
    "                                                 class_mode = 'binary')\n",
    "# target size is the input_size 64x64\n",
    "test_set = test_datagen.flow_from_directory('dataset/test_set',\n",
    "                                            target_size = (64, 64),\n",
    "                                            batch_size = 32,\n",
    "                                            class_mode = 'binary')"
   ]
  },
  {
   "cell_type": "markdown",
   "metadata": {},
   "source": [
    "Now fit the CNN to the images using fit_generator. Wait for some hours to get output."
   ]
  },
  {
   "cell_type": "code",
   "execution_count": 25,
   "metadata": {},
   "outputs": [
    {
     "name": "stdout",
     "output_type": "stream",
     "text": [
      "Epoch 1/25\n",
      "250/250 [==============================] - 113s - loss: 0.6667 - acc: 0.5944 - val_loss: 0.6143 - val_acc: 0.6905\n",
      "Epoch 2/25\n",
      "250/250 [==============================] - 103s - loss: 0.6043 - acc: 0.6731 - val_loss: 0.5820 - val_acc: 0.7065\n",
      "Epoch 3/25\n",
      "250/250 [==============================] - 112s - loss: 0.5584 - acc: 0.7092 - val_loss: 0.5336 - val_acc: 0.7375\n",
      "Epoch 4/25\n",
      "250/250 [==============================] - 107s - loss: 0.5249 - acc: 0.7386 - val_loss: 0.5151 - val_acc: 0.7425\n",
      "Epoch 5/25\n",
      "250/250 [==============================] - 99s - loss: 0.5114 - acc: 0.7439 - val_loss: 0.4937 - val_acc: 0.7665\n",
      "Epoch 6/25\n",
      "250/250 [==============================] - 111s - loss: 0.4882 - acc: 0.7611 - val_loss: 0.5003 - val_acc: 0.7545\n",
      "Epoch 7/25\n",
      "250/250 [==============================] - 106s - loss: 0.4689 - acc: 0.7675 - val_loss: 0.4833 - val_acc: 0.7705\n",
      "Epoch 8/25\n",
      "250/250 [==============================] - 106s - loss: 0.4593 - acc: 0.7765 - val_loss: 0.4835 - val_acc: 0.7690\n",
      "Epoch 9/25\n",
      "250/250 [==============================] - 95s - loss: 0.4460 - acc: 0.7891 - val_loss: 0.4595 - val_acc: 0.7895\n",
      "Epoch 10/25\n",
      "250/250 [==============================] - 98s - loss: 0.4264 - acc: 0.7944 - val_loss: 0.4468 - val_acc: 0.7985\n",
      "Epoch 11/25\n",
      "250/250 [==============================] - 99s - loss: 0.4214 - acc: 0.8049 - val_loss: 0.4459 - val_acc: 0.8105\n",
      "Epoch 12/25\n",
      "250/250 [==============================] - 99s - loss: 0.4045 - acc: 0.8130 - val_loss: 0.4580 - val_acc: 0.7910\n",
      "Epoch 13/25\n",
      "250/250 [==============================] - 99s - loss: 0.3960 - acc: 0.8205 - val_loss: 0.4515 - val_acc: 0.8115\n",
      "Epoch 14/25\n",
      "250/250 [==============================] - 100s - loss: 0.3913 - acc: 0.8225 - val_loss: 0.4315 - val_acc: 0.8070\n",
      "Epoch 15/25\n",
      "250/250 [==============================] - 98s - loss: 0.3810 - acc: 0.8279 - val_loss: 0.4525 - val_acc: 0.8040\n",
      "Epoch 16/25\n",
      "250/250 [==============================] - 103s - loss: 0.3633 - acc: 0.8363 - val_loss: 0.4419 - val_acc: 0.8165\n",
      "Epoch 17/25\n",
      "250/250 [==============================] - 101s - loss: 0.3586 - acc: 0.8435 - val_loss: 0.4226 - val_acc: 0.8185\n",
      "Epoch 18/25\n",
      "250/250 [==============================] - 104s - loss: 0.3443 - acc: 0.8467 - val_loss: 0.4434 - val_acc: 0.8160\n",
      "Epoch 19/25\n",
      "250/250 [==============================] - 102s - loss: 0.3457 - acc: 0.8449 - val_loss: 0.4213 - val_acc: 0.8280\n",
      "Epoch 20/25\n",
      "250/250 [==============================] - 104s - loss: 0.3342 - acc: 0.8498 - val_loss: 0.4418 - val_acc: 0.8250\n",
      "Epoch 21/25\n",
      "250/250 [==============================] - 93s - loss: 0.3254 - acc: 0.8548 - val_loss: 0.5102 - val_acc: 0.8030\n",
      "Epoch 22/25\n",
      "250/250 [==============================] - 300s - loss: 0.3031 - acc: 0.8689 - val_loss: 0.4618 - val_acc: 0.8130\n",
      "Epoch 23/25\n",
      "250/250 [==============================] - 102s - loss: 0.3074 - acc: 0.8678 - val_loss: 0.4559 - val_acc: 0.8135\n",
      "Epoch 24/25\n",
      "250/250 [==============================] - 95s - loss: 0.2876 - acc: 0.8814 - val_loss: 0.4213 - val_acc: 0.8280\n",
      "Epoch 25/25\n",
      "250/250 [==============================] - 104s - loss: 0.2866 - acc: 0.8776 - val_loss: 0.4305 - val_acc: 0.8160\n"
     ]
    }
   ],
   "source": [
    "history = classifier.fit_generator(training_set,\n",
    "                         steps_per_epoch = 250,\n",
    "                         epochs = 25,\n",
    "                         validation_data = test_set,\n",
    "                         validation_steps = 63)"
   ]
  },
  {
   "cell_type": "markdown",
   "metadata": {},
   "source": [
    "## Visualization of Results"
   ]
  },
  {
   "cell_type": "code",
   "execution_count": 26,
   "metadata": {},
   "outputs": [
    {
     "name": "stdout",
     "output_type": "stream",
     "text": [
      "dict_keys(['val_loss', 'val_acc', 'loss', 'acc'])\n"
     ]
    }
   ],
   "source": [
    "# list all data in history\n",
    "print(history.history.keys())"
   ]
  },
  {
   "cell_type": "code",
   "execution_count": 27,
   "metadata": {},
   "outputs": [
    {
     "data": {
      "image/png": "[encoded data removed]",
      "text/plain": [
       "<matplotlib.figure.Figure at 0x127b500b8>"
      ]
     },
     "metadata": {},
     "output_type": "display_data"
    }
   ],
   "source": [
    "# summarize history for accuracy\n",
    "plt.plot(history.history['acc'])\n",
    "plt.plot(history.history['val_acc'])\n",
    "plt.title('model accuracy')\n",
    "plt.ylabel('accuracy')\n",
    "plt.xlabel('epoch')\n",
    "plt.legend(['train', 'test'], loc='upper left')\n",
    "plt.show()"
   ]
  },
  {
   "cell_type": "code",
   "execution_count": 28,
   "metadata": {},
   "outputs": [
    {
     "data": {
      "image/png": "[encoded data removed]",
      "text/plain": [
       "<matplotlib.figure.Figure at 0x127c4b710>"
      ]
     },
     "metadata": {},
     "output_type": "display_data"
    }
   ],
   "source": [
    "# summarize history for loss\n",
    "plt.plot(history.history['loss'])\n",
    "plt.plot(history.history['val_loss'])\n",
    "plt.title('model loss')\n",
    "plt.ylabel('loss')\n",
    "plt.xlabel('epoch')\n",
    "plt.legend(['train', 'test'], loc='upper right')\n",
    "plt.show()"
   ]
  },
  {
   "cell_type": "markdown",
   "metadata": {},
   "source": [
    "## Concluding Remarks\n",
    "1. Observe that the test set accuracy can more or less closely follow the training set accuracy. Similar trend is observed for the loss function in both cases. \n",
    "2. The final test set accuracy after 25 epochs/ iterations is 81.60 %. This is above the benchmarks in most cases, but there is considerable scope for improving the accuracies.\n",
    "3. Further improvement in accuracy can be iobtained by adding more convolution layers, more fully connected layers as well as by altering the target sizes of the input images."
   ]
  }
 ],
 "metadata": {
  "kernelspec": {
   "display_name": "Python 3",
   "language": "python",
   "name": "python3"
  },
  "language_info": {
   "codemirror_mode": {
    "name": "ipython",
    "version": 3
   },
   "file_extension": ".py",
   "mimetype": "text/x-python",
   "name": "python",
   "nbconvert_exporter": "python",
   "pygments_lexer": "ipython3",
   "version": "3.6.1"
  }
 },
 "nbformat": 4,
 "nbformat_minor": 2
}
